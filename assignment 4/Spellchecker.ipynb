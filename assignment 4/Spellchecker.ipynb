{
 "cells": [
  {
   "cell_type": "code",
   "execution_count": 1,
   "metadata": {},
   "outputs": [],
   "source": [
    "import pandas\n",
    "\n",
    "import re\n",
    "\n",
    "from tqdm import tqdm\n",
    "\n",
    "splitwords_re = re.compile(r\"[a-zA-zА-Яа-я]+\")"
   ]
  },
  {
   "cell_type": "markdown",
   "metadata": {},
   "source": [
    "## Читаем корпус новостей из задания 1"
   ]
  },
  {
   "cell_type": "code",
   "execution_count": 2,
   "metadata": {},
   "outputs": [
    {
     "data": {
      "text/html": [
       "<div>\n",
       "<style scoped>\n",
       "    .dataframe tbody tr th:only-of-type {\n",
       "        vertical-align: middle;\n",
       "    }\n",
       "\n",
       "    .dataframe tbody tr th {\n",
       "        vertical-align: top;\n",
       "    }\n",
       "\n",
       "    .dataframe thead th {\n",
       "        text-align: right;\n",
       "    }\n",
       "</style>\n",
       "<table border=\"1\" class=\"dataframe\">\n",
       "  <thead>\n",
       "    <tr style=\"text-align: right;\">\n",
       "      <th></th>\n",
       "      <th>content</th>\n",
       "    </tr>\n",
       "  </thead>\n",
       "  <tbody>\n",
       "    <tr>\n",
       "      <th>0</th>\n",
       "      <td>Двукратный олимпийский чемпион, американец Май...</td>\n",
       "    </tr>\n",
       "    <tr>\n",
       "      <th>1</th>\n",
       "      <td>\"Объединенная авиастроительная корпорация\" (ОА...</td>\n",
       "    </tr>\n",
       "    <tr>\n",
       "      <th>2</th>\n",
       "      <td>Китай предупредил Францию, чтобы та не продава...</td>\n",
       "    </tr>\n",
       "    <tr>\n",
       "      <th>3</th>\n",
       "      <td>В Чувашии на базе 42 школ создадут Центры обра...</td>\n",
       "    </tr>\n",
       "    <tr>\n",
       "      <th>4</th>\n",
       "      <td>Вылетевший из Санкт-Петербурга в Уфу самолет а...</td>\n",
       "    </tr>\n",
       "  </tbody>\n",
       "</table>\n",
       "</div>"
      ],
      "text/plain": [
       "                                             content\n",
       "0  Двукратный олимпийский чемпион, американец Май...\n",
       "1  \"Объединенная авиастроительная корпорация\" (ОА...\n",
       "2  Китай предупредил Францию, чтобы та не продава...\n",
       "3  В Чувашии на базе 42 школ создадут Центры обра...\n",
       "4  Вылетевший из Санкт-Петербурга в Уфу самолет а..."
      ]
     },
     "execution_count": 2,
     "metadata": {},
     "output_type": "execute_result"
    }
   ],
   "source": [
    "news = pandas.read_csv('news.csv', sep=';')\n",
    "news = news[['content']]\n",
    "news.head()"
   ]
  },
  {
   "cell_type": "code",
   "execution_count": 3,
   "metadata": {},
   "outputs": [
    {
     "data": {
      "text/plain": [
       "'\"Объединенная авиастроительная корпорация\" (ОАК), в которую входит корпорация \"Иркут\", перенесла сроки импортозамещения компонентов для российских самолетов Sukhoi Superjet 100 (SSJ 100) с 2024 г. на 2023 г., заявил вице-премьер Юрий Борисов. Изменение срока предусмотрено\\xa0программой\\xa0финансового оздоровления ОАК, которая принята правительственной комиссией 12 мая. В свою очередь \"Иркут\" в апреле объявил\\xa0тендер на разработку, изготовление и поставку прототипов системы шасси для SSJ 100 в рамках программы импортозамещения. \"Иркут\"\\xa0объявил также тендеры\\xa0на разработку и поставку систем и компонентов для Sukhoi Superjet New. Речь идет о гидравлической и кислородной системах, системах энерго- и водоснабжения, пассажирских креслах и облицовочных панелях. '"
      ]
     },
     "execution_count": 3,
     "metadata": {},
     "output_type": "execute_result"
    }
   ],
   "source": [
    "news['content'][1]"
   ]
  },
  {
   "cell_type": "markdown",
   "metadata": {},
   "source": [
    "## Определяем функции подсчета расстояния Дамерау-Левенштейна и построения триграмм"
   ]
  },
  {
   "cell_type": "code",
   "execution_count": 4,
   "metadata": {},
   "outputs": [],
   "source": [
    "def damerau_levenshtein_distance(s1, s2):   \n",
    "    d = {}\n",
    "    lenstr1 = len(s1)\n",
    "    lenstr2 = len(s2)\n",
    "    for i in range(-1,lenstr1+1):\n",
    "        d[(i,-1)] = i+1\n",
    "    for j in range(-1,lenstr2+1):\n",
    "        d[(-1,j)] = j+1\n",
    " \n",
    "    for i in range(lenstr1):\n",
    "        for j in range(lenstr2):\n",
    "            if s1[i] == s2[j]:\n",
    "                cost = 0\n",
    "            else:\n",
    "                cost = 1\n",
    "\n",
    "            d[(i,j)] = min(\n",
    "                           d[(i-1,j)] + 1, # deletion\n",
    "                           d[(i,j-1)] + 1, # insertion\n",
    "                           d[(i-1,j-1)] + cost, # substitution\n",
    "                          )\n",
    "\n",
    "            if i and j and s1[i]==s2[j-1] and s1[i-1] == s2[j]:\n",
    "                d[(i,j)] = min (d[(i,j)], d[i-2,j-2] + cost) # transposition\n",
    " \n",
    "    return d[lenstr1-1,lenstr2-1]\n",
    "\n",
    "\n",
    "def make_trigrams(word):\n",
    "    word = f\"__{word}\"\n",
    "    trigrams = [word[index: index+3] for index in range(len(word))]\n",
    "    last = trigrams[-1]\n",
    "    if len(last) < 3:\n",
    "        trigrams[-1] += '_' * (3 - len(last) % 3)\n",
    "    return trigrams"
   ]
  },
  {
   "cell_type": "markdown",
   "metadata": {},
   "source": [
    "### Строим словарь, где ключ - набор триграмм, а значение это набор слов"
   ]
  },
  {
   "cell_type": "code",
   "execution_count": 5,
   "metadata": {},
   "outputs": [
    {
     "name": "stderr",
     "output_type": "stream",
     "text": [
      "100%|██████████| 15000/15000 [00:21<00:00, 693.59it/s] \n"
     ]
    }
   ],
   "source": [
    "dictionary = dict()\n",
    "\n",
    "for n in tqdm(news['content']):\n",
    "    all_words = re.findall(splitwords_re, n)\n",
    "\n",
    "    for word in all_words:\n",
    "        word = word.lower()\n",
    "        trigrams = make_trigrams(word)\n",
    "        \n",
    "        key = tuple(trigrams)\n",
    "        dictionary[key] = word"
   ]
  },
  {
   "cell_type": "markdown",
   "metadata": {},
   "source": [
    "### Функция поиска N рекомендаций"
   ]
  },
  {
   "cell_type": "code",
   "execution_count": 6,
   "metadata": {},
   "outputs": [],
   "source": [
    "def find_recommend(word, dictionary=dictionary, N=5):\n",
    "    word = word.lower()\n",
    "    word_trigram = make_trigrams(word)\n",
    "    word_trigram = tuple(word_trigram)\n",
    "\n",
    "    if word_trigram in dictionary:\n",
    "        return dictionary[word_trigram]\n",
    "    else:\n",
    "        top_N = dict()\n",
    "\n",
    "        for key in dictionary:\n",
    "            distance = damerau_levenshtein_distance(word_trigram, key)\n",
    "\n",
    "            if len(top_N) < N:\n",
    "                top_N[distance] = key\n",
    "            else:\n",
    "                for dist in top_N:\n",
    "                    if distance < dist:\n",
    "                        top_N.pop(dist)\n",
    "                        top_N[distance] = dictionary[key]\n",
    "                        break\n",
    "        return top_N\n",
    "    \n",
    "    return None"
   ]
  },
  {
   "cell_type": "markdown",
   "metadata": {},
   "source": [
    "### Проверим работоспособность на нескольких словах с опечатками"
   ]
  },
  {
   "cell_type": "code",
   "execution_count": 7,
   "metadata": {},
   "outputs": [
    {
     "data": {
      "text/plain": [
       "'ассоциации'"
      ]
     },
     "execution_count": 7,
     "metadata": {},
     "output_type": "execute_result"
    }
   ],
   "source": [
    "find_recommend('Ассоциации')"
   ]
  },
  {
   "cell_type": "code",
   "execution_count": 8,
   "metadata": {},
   "outputs": [
    {
     "data": {
      "text/plain": [
       "{2: 'ассоциации', 3: 'ассоциацию', 4: 'ассоциациям', 7: 'асси', 8: 'асали'}"
      ]
     },
     "execution_count": 8,
     "metadata": {},
     "output_type": "execute_result"
    }
   ],
   "source": [
    "find_recommend('Ассоциаци')"
   ]
  },
  {
   "cell_type": "code",
   "execution_count": 9,
   "metadata": {},
   "outputs": [
    {
     "data": {
      "text/plain": [
       "{2: 'ассоциации', 5: 'ассоциацию', 6: 'ампутации', 7: 'овации', 9: 'асаду'}"
      ]
     },
     "execution_count": 9,
     "metadata": {},
     "output_type": "execute_result"
    }
   ],
   "source": [
    "find_recommend('Асоциации')"
   ]
  },
  {
   "cell_type": "code",
   "execution_count": 10,
   "metadata": {},
   "outputs": [
    {
     "data": {
      "text/plain": [
       "{3: 'прицел', 4: 'приквел', 6: 'приедешь', 7: 'тассу'}"
      ]
     },
     "execution_count": 10,
     "metadata": {},
     "output_type": "execute_result"
    }
   ],
   "source": [
    "find_recommend('приел')"
   ]
  },
  {
   "cell_type": "code",
   "execution_count": 11,
   "metadata": {},
   "outputs": [
    {
     "data": {
      "text/plain": [
       "{3: 'приветствие',\n",
       " 5: 'препятствие',\n",
       " 6: 'приветствия',\n",
       " 8: 'православие',\n",
       " 9: 'приезде'}"
      ]
     },
     "execution_count": 11,
     "metadata": {},
     "output_type": "execute_result"
    }
   ],
   "source": [
    "find_recommend('При_етствие')"
   ]
  },
  {
   "cell_type": "code",
   "execution_count": 12,
   "metadata": {},
   "outputs": [
    {
     "data": {
      "text/plain": [
       "{5: 'приветствие',\n",
       " 8: 'православие',\n",
       " 6: 'препятствие',\n",
       " 9: 'протирание',\n",
       " 10: 'пририсованы'}"
      ]
     },
     "execution_count": 12,
     "metadata": {},
     "output_type": "execute_result"
    }
   ],
   "source": [
    "find_recommend('При___ствие')"
   ]
  },
  {
   "cell_type": "code",
   "execution_count": 13,
   "metadata": {},
   "outputs": [
    {
     "data": {
      "text/plain": [
       "{8: 'переполняет',\n",
       " 9: 'переполнением',\n",
       " 10: 'пересадят',\n",
       " 11: 'переспросил',\n",
       " 14: 'приедешь'}"
      ]
     },
     "execution_count": 13,
     "metadata": {},
     "output_type": "execute_result"
    }
   ],
   "source": [
    "find_recommend('переподвыверт')"
   ]
  }
 ],
 "metadata": {
  "kernelspec": {
   "display_name": "Python 3",
   "language": "python",
   "name": "python3"
  },
  "language_info": {
   "codemirror_mode": {
    "name": "ipython",
    "version": 3
   },
   "file_extension": ".py",
   "mimetype": "text/x-python",
   "name": "python",
   "nbconvert_exporter": "python",
   "pygments_lexer": "ipython3",
   "version": "3.7.6"
  }
 },
 "nbformat": 4,
 "nbformat_minor": 4
}
