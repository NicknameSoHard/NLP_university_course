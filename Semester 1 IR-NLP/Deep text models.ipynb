{
  "nbformat": 4,
  "nbformat_minor": 0,
  "metadata": {
    "kernelspec": {
      "display_name": "Python 3",
      "language": "python",
      "name": "python3"
    },
    "language_info": {
      "codemirror_mode": {
        "name": "ipython",
        "version": 3
      },
      "file_extension": ".py",
      "mimetype": "text/x-python",
      "name": "python",
      "nbconvert_exporter": "python",
      "pygments_lexer": "ipython3",
      "version": "3.8.2"
    },
    "latex_envs": {
      "LaTeX_envs_menu_present": true,
      "autoclose": false,
      "autocomplete": true,
      "bibliofile": "biblio.bib",
      "cite_by": "apalike",
      "current_citInitial": 1,
      "eqLabelWithNumbers": true,
      "eqNumInitial": 1,
      "hotkeys": {
        "equation": "Ctrl-E",
        "itemize": "Ctrl-I"
      },
      "labels_anchors": false,
      "latex_user_defs": false,
      "report_style_numbering": false,
      "user_envs_cfg": false
    },
    "toc": {
      "base_numbering": 1,
      "nav_menu": {},
      "number_sections": true,
      "sideBar": true,
      "skip_h1_title": false,
      "title_cell": "Table of Contents",
      "title_sidebar": "Contents",
      "toc_cell": false,
      "toc_position": {},
      "toc_section_display": true,
      "toc_window_display": false
    },
    "colab": {
      "name": "Deep text models.ipynb",
      "provenance": [],
      "collapsed_sections": []
    },
    "accelerator": "GPU"
  },
  "cells": [
    {
      "cell_type": "markdown",
      "metadata": {
        "id": "ItfzltWqwDre",
        "colab_type": "text"
      },
      "source": [
        "# Word2Vec"
      ]
    },
    {
      "cell_type": "code",
      "metadata": {
        "id": "_5YIRKrmwDrf",
        "colab_type": "code",
        "colab": {}
      },
      "source": [
        "!git clone https://github.com/Samsung-IT-Academy/stepik-dl-nlp.git && pip3 install -r stepik-dl-nlp/requirements.txt\n",
        "\n",
        "import sys; \n",
        "sys.path.append('./stepik-dl-nlp')"
      ],
      "execution_count": null,
      "outputs": []
    },
    {
      "cell_type": "code",
      "metadata": {
        "ExecuteTime": {
          "end_time": "2019-10-29T19:19:30.785285Z",
          "start_time": "2019-10-29T19:19:29.542846Z"
        },
        "id": "3oSWmtqwwDrk",
        "colab_type": "code",
        "colab": {}
      },
      "source": [
        "%load_ext autoreload\n",
        "%autoreload 2\n",
        "\n",
        "import random\n",
        "import pandas as pd\n",
        "import numpy as np\n",
        "\n",
        "import gensim\n",
        "\n",
        "import matplotlib.pyplot as plt\n",
        "%matplotlib inline\n",
        "\n",
        "import torch\n",
        "from torch import nn\n",
        "from torch.nn import functional as F\n",
        "\n",
        "import dlnlputils\n",
        "from dlnlputils.data import tokenize_corpus, build_vocabulary, texts_to_token_ids, \\\n",
        "    PaddedSequenceDataset, Embeddings\n",
        "from dlnlputils.pipeline import train_eval_loop, predict_with_model, init_random_seed\n",
        "from dlnlputils.visualization import plot_vectors\n",
        "\n",
        "init_random_seed()"
      ],
      "execution_count": 2,
      "outputs": []
    },
    {
      "cell_type": "markdown",
      "metadata": {
        "id": "SrnC2GZhwDrn",
        "colab_type": "text"
      },
      "source": [
        "## Загрузка данных и подготовка корпуса"
      ]
    },
    {
      "cell_type": "code",
      "metadata": {
        "ExecuteTime": {
          "end_time": "2019-10-29T19:19:31.270503Z",
          "start_time": "2019-10-29T19:19:30.787789Z"
        },
        "id": "TewDnO2BwDro",
        "colab_type": "code",
        "colab": {
          "base_uri": "https://localhost:8080/",
          "height": 238
        },
        "outputId": "fbdb63f1-b512-4a0e-e89d-40c77a254718"
      },
      "source": [
        "# Если Вы запускаете ноутбук на colab или kaggle, добавьте в начало пути ./stepik-dl-nlp\n",
        "full_dataset = list(pd.read_csv('./stepik-dl-nlp/datasets/nyt-ingredients-snapshot-2015.csv')['input'].dropna())\n",
        "random.shuffle(full_dataset)\n",
        "\n",
        "TRAIN_VAL_SPLIT = int(len(full_dataset) * 0.7)\n",
        "train_source = full_dataset[:TRAIN_VAL_SPLIT]\n",
        "test_source = full_dataset[TRAIN_VAL_SPLIT:]\n",
        "print(\"Обучающая выборка\", len(train_source))\n",
        "print(\"Тестовая выборка\", len(test_source))\n",
        "print()\n",
        "print('\\n'.join(train_source[:10]))"
      ],
      "execution_count": 3,
      "outputs": [
        {
          "output_type": "stream",
          "text": [
            "Обучающая выборка 125344\n",
            "Тестовая выборка 53719\n",
            "\n",
            "1/4 cup sour cream\n",
            "10 ounces swordfish, red snapper or other firm-fleshed fish\n",
            "1 tablespoon minced basil leaves\n",
            "Handful fresh parsley, finely minced\n",
            "4 ounces lard or butter, plus more for brushing tops\n",
            "4 to 5 green cardamom pods\n",
            "1 stick ( 1/4 pound) unsalted butter, softened\n",
            "1/4 teaspoon red pepper flakes, preferably Turkish or Aleppo (see note), more to taste\n",
            "1 tablespoon fresh lemon juice\n",
            "1/4 cup scallions, thinly sliced\n"
          ],
          "name": "stdout"
        }
      ]
    },
    {
      "cell_type": "code",
      "metadata": {
        "ExecuteTime": {
          "end_time": "2019-10-29T19:19:32.137838Z",
          "start_time": "2019-10-29T19:19:31.272363Z"
        },
        "id": "QuVqFSq0wDrs",
        "colab_type": "code",
        "colab": {
          "base_uri": "https://localhost:8080/",
          "height": 187
        },
        "outputId": "c5c2f34a-6338-41e3-afee-be5e1f164268"
      },
      "source": [
        "# токенизируем\n",
        "train_tokenized = tokenize_corpus(train_source)\n",
        "test_tokenized = tokenize_corpus(test_source)\n",
        "print('\\n'.join(' '.join(sent) for sent in train_tokenized[:10]))"
      ],
      "execution_count": 4,
      "outputs": [
        {
          "output_type": "stream",
          "text": [
            "sour cream\n",
            "ounces swordfish snapper other firm fleshed fish\n",
            "tablespoon minced basil leaves\n",
            "handful fresh parsley finely minced\n",
            "ounces lard butter plus more brushing tops\n",
            "green cardamom pods\n",
            "stick pound unsalted butter softened\n",
            "teaspoon pepper flakes preferably turkish aleppo note more taste\n",
            "tablespoon fresh lemon juice\n",
            "scallions thinly sliced\n"
          ],
          "name": "stdout"
        }
      ]
    },
    {
      "cell_type": "code",
      "metadata": {
        "ExecuteTime": {
          "end_time": "2019-10-29T19:19:32.325205Z",
          "start_time": "2019-10-29T19:19:32.140837Z"
        },
        "id": "tJojnUfbwDrv",
        "colab_type": "code",
        "colab": {
          "base_uri": "https://localhost:8080/",
          "height": 51
        },
        "outputId": "3e8abce7-67d3-48e6-aa11-97030c28870e"
      },
      "source": [
        "# строим словарь\n",
        "vocabulary, word_doc_freq = build_vocabulary(train_tokenized, max_doc_freq=0.9, min_count=5, pad_word='<PAD>')\n",
        "print(\"Размер словаря\", len(vocabulary))\n",
        "print(list(vocabulary.items())[:10])"
      ],
      "execution_count": 5,
      "outputs": [
        {
          "output_type": "stream",
          "text": [
            "Размер словаря 2267\n",
            "[('<PAD>', 0), ('tablespoons', 1), ('teaspoon', 2), ('chopped', 3), ('salt', 4), ('pepper', 5), ('cups', 6), ('ground', 7), ('fresh', 8), ('tablespoon', 9)]\n"
          ],
          "name": "stdout"
        }
      ]
    },
    {
      "cell_type": "code",
      "metadata": {
        "ExecuteTime": {
          "end_time": "2019-10-29T19:19:32.686258Z",
          "start_time": "2019-10-29T19:19:32.327711Z"
        },
        "id": "cLOrsGcMwDrx",
        "colab_type": "code",
        "colab": {
          "base_uri": "https://localhost:8080/",
          "height": 187
        },
        "outputId": "919c363d-dfad-4ef3-c900-5d517730a2e9"
      },
      "source": [
        "# отображаем в номера токенов\n",
        "train_token_ids = texts_to_token_ids(train_tokenized, vocabulary)\n",
        "test_token_ids = texts_to_token_ids(test_tokenized, vocabulary)\n",
        "\n",
        "print('\\n'.join(' '.join(str(t) for t in sent)\n",
        "                for sent in train_token_ids[:10]))"
      ],
      "execution_count": 6,
      "outputs": [
        {
          "output_type": "stream",
          "text": [
            "222 52\n",
            "22 878 574 127 246 707 181\n",
            "9 19 88 33\n",
            "517 8 43 15 19\n",
            "22 586 20 45 47 649 648\n",
            "59 329 535\n",
            "200 12 50 20 266\n",
            "2 5 140 78 1208 735 153 47 10\n",
            "9 8 31 25\n",
            "98 65 27\n"
          ],
          "name": "stdout"
        }
      ]
    },
    {
      "cell_type": "code",
      "metadata": {
        "ExecuteTime": {
          "end_time": "2019-10-29T19:19:32.967989Z",
          "start_time": "2019-10-29T19:19:32.688319Z"
        },
        "id": "tSVTAOL2wDr0",
        "colab_type": "code",
        "colab": {
          "base_uri": "https://localhost:8080/",
          "height": 281
        },
        "outputId": "e47fc507-229b-409f-ec61-645e83d76570"
      },
      "source": [
        "plt.hist([len(s) for s in train_token_ids], bins=20);\n",
        "plt.title('Гистограмма длин предложений');"
      ],
      "execution_count": 7,
      "outputs": [
        {
          "output_type": "display_data",
          "data": {
            "image/png": "[encoded data removed]",
            "text/plain": [
              "<Figure size 432x288 with 1 Axes>"
            ]
          },
          "metadata": {
            "tags": [],
            "needs_background": "light"
          }
        }
      ]
    },
    {
      "cell_type": "code",
      "metadata": {
        "ExecuteTime": {
          "end_time": "2019-10-29T19:19:33.001487Z",
          "start_time": "2019-10-29T19:19:32.970153Z"
        },
        "id": "Xhhlo8pYwDr4",
        "colab_type": "code",
        "colab": {
          "base_uri": "https://localhost:8080/",
          "height": 51
        },
        "outputId": "1aca9a0b-e6a7-4b5b-9eda-cfad69eb5a67"
      },
      "source": [
        "MAX_SENTENCE_LEN = 20\n",
        "train_dataset = PaddedSequenceDataset(train_token_ids,\n",
        "                                      np.zeros(len(train_token_ids)),\n",
        "                                      out_len=MAX_SENTENCE_LEN)\n",
        "test_dataset = PaddedSequenceDataset(test_token_ids,\n",
        "                                     np.zeros(len(test_token_ids)),\n",
        "                                     out_len=MAX_SENTENCE_LEN)\n",
        "print(train_dataset[0])"
      ],
      "execution_count": 8,
      "outputs": [
        {
          "output_type": "stream",
          "text": [
            "(tensor([222,  52,   0,   0,   0,   0,   0,   0,   0,   0,   0,   0,   0,   0,\n",
            "          0,   0,   0,   0,   0,   0]), tensor(0))\n"
          ],
          "name": "stdout"
        }
      ]
    },
    {
      "cell_type": "markdown",
      "metadata": {
        "id": "5rm9e2TwwDr7",
        "colab_type": "text"
      },
      "source": [
        "## Алгоритм обучения - Skip Gram Negative Sampling\n",
        "\n",
        "**Skip Gram** - предсказываем соседние слова по центральному слову\n",
        "\n",
        "**Negative Sampling** - аппроксимация softmax\n",
        "\n",
        "$$ W, D \\in \\mathbb{R}^{Vocab \\times EmbSize} $$\n",
        "\n",
        "$$ \\sum_{CenterW_i} P(CtxW_{-2}, CtxW_{-1}, CtxW_{+1}, CtxW_{+2} | CenterW_i; W, D) \\rightarrow \\max_{W,D} $$\n",
        "\n",
        "$$ P(CtxW_{-2}, CtxW_{-1}, CtxW_{+1}, CtxW_{+2} | CenterW_i; W, D) = \\prod_j P(CtxW_j | CenterW_i; W, D) $$\n",
        "    \n",
        "$$ P(CtxW_j | CenterW_i; W, D) = \\frac{e^{w_i \\cdot d_j}} { \\sum_{j=1}^{|V|} e^{w_i \\cdot d_j}} = softmax \\simeq \\frac{e^{w_i \\cdot d_j^+}} { \\sum_{j=1}^{k} e^{w_i \\cdot d_j^-}}, \\quad k \\ll |V| $$"
      ]
    },
    {
      "cell_type": "code",
      "metadata": {
        "ExecuteTime": {
          "end_time": "2019-10-29T19:19:33.065376Z",
          "start_time": "2019-10-29T19:19:33.003081Z"
        },
        "id": "d17SSORzwDr7",
        "colab_type": "code",
        "colab": {
          "base_uri": "https://localhost:8080/",
          "height": 187
        },
        "outputId": "d04ff6ca-f3a5-4443-ecf9-5ea37735891a"
      },
      "source": [
        "def make_diag_mask(size, radius):\n",
        "    \"\"\"Квадратная матрица размера Size x Size с двумя полосами ширины radius вдоль главной диагонали\"\"\"\n",
        "    idxs = torch.arange(size)\n",
        "    abs_idx_diff = (idxs.unsqueeze(0) - idxs.unsqueeze(1)).abs()\n",
        "    mask = ((abs_idx_diff <= radius) & (abs_idx_diff > 0)).float()\n",
        "    return mask\n",
        "\n",
        "make_diag_mask(10, 3)"
      ],
      "execution_count": 9,
      "outputs": [
        {
          "output_type": "execute_result",
          "data": {
            "text/plain": [
              "tensor([[0., 1., 1., 1., 0., 0., 0., 0., 0., 0.],\n",
              "        [1., 0., 1., 1., 1., 0., 0., 0., 0., 0.],\n",
              "        [1., 1., 0., 1., 1., 1., 0., 0., 0., 0.],\n",
              "        [1., 1., 1., 0., 1., 1., 1., 0., 0., 0.],\n",
              "        [0., 1., 1., 1., 0., 1., 1., 1., 0., 0.],\n",
              "        [0., 0., 1., 1., 1., 0., 1., 1., 1., 0.],\n",
              "        [0., 0., 0., 1., 1., 1., 0., 1., 1., 1.],\n",
              "        [0., 0., 0., 0., 1., 1., 1., 0., 1., 1.],\n",
              "        [0., 0., 0., 0., 0., 1., 1., 1., 0., 1.],\n",
              "        [0., 0., 0., 0., 0., 0., 1., 1., 1., 0.]])"
            ]
          },
          "metadata": {
            "tags": []
          },
          "execution_count": 9
        }
      ]
    },
    {
      "cell_type": "code",
      "metadata": {
        "ExecuteTime": {
          "end_time": "2019-10-29T19:19:33.101379Z",
          "start_time": "2019-10-29T19:19:33.068154Z"
        },
        "id": "MA8trat7wDr-",
        "colab_type": "code",
        "colab": {}
      },
      "source": [
        "class SkipGramNegativeSamplingTrainer(nn.Module):\n",
        "    def __init__(self, vocab_size, emb_size, sentence_len, radius=5, negative_samples_n=5):\n",
        "        super().__init__()\n",
        "        self.vocab_size = vocab_size\n",
        "        self.negative_samples_n = negative_samples_n\n",
        "\n",
        "        self.center_emb = nn.Embedding(self.vocab_size, emb_size, padding_idx=0)\n",
        "        self.center_emb.weight.data.uniform_(-1.0 / emb_size, 1.0 / emb_size)\n",
        "        self.center_emb.weight.data[0] = 0\n",
        "\n",
        "        self.context_emb = nn.Embedding(self.vocab_size, emb_size, padding_idx=0)        \n",
        "        self.context_emb.weight.data.uniform_(-1.0 / emb_size, 1.0 / emb_size)\n",
        "        self.context_emb.weight.data[0] = 0\n",
        "\n",
        "        self.positive_sim_mask = make_diag_mask(sentence_len, radius)\n",
        "    \n",
        "    def forward(self, sentences):\n",
        "        \"\"\"sentences - Batch x MaxSentLength - идентификаторы токенов\"\"\"\n",
        "        batch_size = sentences.shape[0]\n",
        "        center_embeddings = self.center_emb(sentences)  # Batch x MaxSentLength x EmbSize\n",
        "\n",
        "        # оценить сходство с настоящими соседними словами\n",
        "        positive_context_embs = self.context_emb(sentences).permute(0, 2, 1)  # Batch x EmbSize x MaxSentLength\n",
        "        positive_sims = torch.bmm(center_embeddings, positive_context_embs)  # Batch x MaxSentLength x MaxSentLength\n",
        "        positive_probs = torch.sigmoid(positive_sims)\n",
        "\n",
        "        # увеличить оценку вероятности встретить эти пары слов вместе\n",
        "        positive_mask = self.positive_sim_mask.to(positive_sims.device)\n",
        "        positive_loss = F.binary_cross_entropy(positive_probs * positive_mask,\n",
        "                                               positive_mask.expand_as(positive_probs))\n",
        "\n",
        "        # выбрать случайные \"отрицательные\" слова\n",
        "        negative_words = torch.randint(1, self.vocab_size,\n",
        "                                       size=(batch_size, self.negative_samples_n),\n",
        "                                       device=sentences.device)  # Batch x NegSamplesN\n",
        "        negative_context_embs = self.context_emb(negative_words).permute(0, 2, 1)  # Batch x EmbSize x NegSamplesN\n",
        "        negative_sims = torch.bmm(center_embeddings, negative_context_embs)  # Batch x MaxSentLength x NegSamplesN\n",
        "        \n",
        "        # уменьшить оценку вероятность встретить эти пары слов вместе\n",
        "        negative_loss = F.binary_cross_entropy_with_logits(negative_sims,\n",
        "                                                           negative_sims.new_zeros(negative_sims.shape))\n",
        "\n",
        "        return positive_loss + negative_loss\n",
        "\n",
        "\n",
        "def no_loss(pred, target):\n",
        "    \"\"\"Фиктивная функция потерь - когда модель сама считает функцию потерь\"\"\"\n",
        "    return pred"
      ],
      "execution_count": 10,
      "outputs": []
    },
    {
      "cell_type": "markdown",
      "metadata": {
        "id": "bhN1iqk0wDsB",
        "colab_type": "text"
      },
      "source": [
        "## Обучение"
      ]
    },
    {
      "cell_type": "code",
      "metadata": {
        "id": "zzeVGj-U096t",
        "colab_type": "code",
        "colab": {
          "base_uri": "https://localhost:8080/",
          "height": 34
        },
        "outputId": "72276869-c771-46a5-cd3c-6e0cec008e65"
      },
      "source": [
        "device = torch.device('cuda:0' if torch.cuda.is_available() else 'cpu') #позволяет перенести тензор на GPU, если он доступен в системе\n",
        "device"
      ],
      "execution_count": 11,
      "outputs": [
        {
          "output_type": "execute_result",
          "data": {
            "text/plain": [
              "device(type='cuda', index=0)"
            ]
          },
          "metadata": {
            "tags": []
          },
          "execution_count": 11
        }
      ]
    },
    {
      "cell_type": "code",
      "metadata": {
        "ExecuteTime": {
          "end_time": "2019-10-29T19:19:33.130307Z",
          "start_time": "2019-10-29T19:19:33.103036Z"
        },
        "id": "Izqexbj1wDsB",
        "colab_type": "code",
        "colab": {}
      },
      "source": [
        "trainer = SkipGramNegativeSamplingTrainer(len(vocabulary), 150, MAX_SENTENCE_LEN,\n",
        "                                          radius=3, negative_samples_n=50)"
      ],
      "execution_count": 12,
      "outputs": []
    },
    {
      "cell_type": "code",
      "metadata": {
        "ExecuteTime": {
          "end_time": "2019-10-29T19:20:12.830221Z",
          "start_time": "2019-10-29T19:19:33.132062Z"
        },
        "scrolled": false,
        "id": "JYA8x4r-wDsF",
        "colab_type": "code",
        "colab": {
          "base_uri": "https://localhost:8080/",
          "height": 1000
        },
        "outputId": "bb88d43b-6edd-41b5-ca8d-a41c5ece9579"
      },
      "source": [
        "best_val_loss, best_model = train_eval_loop(trainer,\n",
        "                                            train_dataset,\n",
        "                                            test_dataset,\n",
        "                                            no_loss,\n",
        "                                            lr=1e-1,\n",
        "                                            epoch_n=100,\n",
        "                                            batch_size=2048,\n",
        "                                            device=device,\n",
        "                                            early_stopping_patience=5,\n",
        "                                            max_batches_per_epoch_train=2000,\n",
        "                                            max_batches_per_epoch_val=len(test_dataset),\n",
        "                                            lr_scheduler_ctor=lambda optim: torch.optim.lr_scheduler.ReduceLROnPlateau(optim, patience=1, verbose=True))\n",
        "print()\n",
        "print(f\"Лучшее значении функции потерь: {best_val_loss}\")"
      ],
      "execution_count": 13,
      "outputs": [
        {
          "output_type": "stream",
          "text": [
            "Эпоха 0\n",
            "Эпоха: 62 итераций, 2.34 сек\n",
            "Среднее значение функции потерь на обучении 0.7744375986437644\n",
            "Среднее значение функции потерь на валидации 0.7628631724251641\n",
            "Новая лучшая модель!\n",
            "\n",
            "Эпоха 1\n",
            "Эпоха: 62 итераций, 2.44 сек\n",
            "Среднее значение функции потерь на обучении 0.7620077681156897\n",
            "Среднее значение функции потерь на валидации 0.7632620400852628\n",
            "\n",
            "Эпоха 2\n",
            "Эпоха: 62 итераций, 2.40 сек\n",
            "Среднее значение функции потерь на обучении 0.7618279264819238\n",
            "Среднее значение функции потерь на валидации 0.7643150047019676\n",
            "Epoch     3: reducing learning rate of group 0 to 1.0000e-02.\n",
            "\n",
            "Эпоха 3\n",
            "Эпоха: 62 итераций, 2.30 сек\n",
            "Среднее значение функции потерь на обучении 0.7572505416408661\n",
            "Среднее значение функции потерь на валидации 0.7598744410055654\n",
            "Новая лучшая модель!\n",
            "\n",
            "Эпоха 4\n",
            "Эпоха: 62 итераций, 2.26 сек\n",
            "Среднее значение функции потерь на обучении 0.7548265216812011\n",
            "Среднее значение функции потерь на валидации 0.759309830488982\n",
            "Новая лучшая модель!\n",
            "\n",
            "Эпоха 5\n",
            "Эпоха: 62 итераций, 2.47 сек\n",
            "Среднее значение функции потерь на обучении 0.7542892704086919\n",
            "Среднее значение функции потерь на валидации 0.7591648940686826\n",
            "Новая лучшая модель!\n",
            "\n",
            "Эпоха 6\n",
            "Эпоха: 62 итераций, 2.39 сек\n",
            "Среднее значение функции потерь на обучении 0.7539520350194746\n",
            "Среднее значение функции потерь на валидации 0.7591432597902086\n",
            "Новая лучшая модель!\n",
            "\n",
            "Эпоха 7\n",
            "Эпоха: 62 итераций, 2.27 сек\n",
            "Среднее значение функции потерь на обучении 0.7537452540090007\n",
            "Среднее значение функции потерь на валидации 0.7592154189392373\n",
            "Epoch     8: reducing learning rate of group 0 to 1.0000e-03.\n",
            "\n",
            "Эпоха 8\n",
            "Эпоха: 62 итераций, 2.27 сек\n",
            "Среднее значение функции потерь на обучении 0.753146473438509\n",
            "Среднее значение функции потерь на валидации 0.7591580130435802\n",
            "\n",
            "Эпоха 9\n",
            "Эпоха: 62 итераций, 2.44 сек\n",
            "Среднее значение функции потерь на обучении 0.7531106664288428\n",
            "Среднее значение функции потерь на валидации 0.7591122830355609\n",
            "Новая лучшая модель!\n",
            "Epoch    10: reducing learning rate of group 0 to 1.0000e-04.\n",
            "\n",
            "Эпоха 10\n",
            "Эпоха: 62 итераций, 2.46 сек\n",
            "Среднее значение функции потерь на обучении 0.7530609032800121\n",
            "Среднее значение функции потерь на валидации 0.7591366149761059\n",
            "\n",
            "Эпоха 11\n",
            "Эпоха: 62 итераций, 2.31 сек\n",
            "Среднее значение функции потерь на обучении 0.752966727941267\n",
            "Среднее значение функции потерь на валидации 0.7590829818337052\n",
            "Новая лучшая модель!\n",
            "\n",
            "Эпоха 12\n",
            "Эпоха: 62 итераций, 2.29 сек\n",
            "Среднее значение функции потерь на обучении 0.7529191067141872\n",
            "Среднее значение функции потерь на валидации 0.7590914721842166\n",
            "\n",
            "Эпоха 13\n",
            "Эпоха: 62 итераций, 2.46 сек\n",
            "Среднее значение функции потерь на обучении 0.7529111004644825\n",
            "Среднее значение функции потерь на валидации 0.759063204129537\n",
            "Новая лучшая модель!\n",
            "Epoch    14: reducing learning rate of group 0 to 1.0000e-05.\n",
            "\n",
            "Эпоха 14\n",
            "Эпоха: 62 итераций, 2.46 сек\n",
            "Среднее значение функции потерь на обучении 0.7529717962588033\n",
            "Среднее значение функции потерь на валидации 0.7591123713387383\n",
            "\n",
            "Эпоха 15\n",
            "Эпоха: 62 итераций, 2.27 сек\n",
            "Среднее значение функции потерь на обучении 0.7529657204304973\n",
            "Среднее значение функции потерь на валидации 0.7591105191795914\n",
            "Epoch    16: reducing learning rate of group 0 to 1.0000e-06.\n",
            "\n",
            "Эпоха 16\n",
            "Эпоха: 62 итераций, 2.34 сек\n",
            "Среднее значение функции потерь на обучении 0.7529567278200581\n",
            "Среднее значение функции потерь на валидации 0.759089399267126\n",
            "\n",
            "Эпоха 17\n",
            "Эпоха: 62 итераций, 2.42 сек\n",
            "Среднее значение функции потерь на обучении 0.752906120592548\n",
            "Среднее значение функции потерь на валидации 0.7590805115523162\n",
            "Epoch    18: reducing learning rate of group 0 to 1.0000e-07.\n",
            "\n",
            "Эпоха 18\n",
            "Эпоха: 62 итераций, 2.43 сек\n",
            "Среднее значение функции потерь на обучении 0.7529888768349925\n",
            "Среднее значение функции потерь на валидации 0.7590843218344229\n",
            "\n",
            "Эпоха 19\n",
            "Эпоха: 62 итераций, 2.30 сек\n",
            "Среднее значение функции потерь на обучении 0.7529659136649101\n",
            "Среднее значение функции потерь на валидации 0.7591278663388005\n",
            "Модель не улучшилась за последние 5 эпох, прекращаем обучение\n",
            "\n",
            "Лучшее значении функции потерь: 0.759063204129537\n"
          ],
          "name": "stdout"
        }
      ]
    },
    {
      "cell_type": "code",
      "metadata": {
        "ExecuteTime": {
          "end_time": "2019-10-29T19:20:12.862018Z",
          "start_time": "2019-10-29T19:20:12.832046Z"
        },
        "id": "rAqISj9fwDsI",
        "colab_type": "code",
        "colab": {}
      },
      "source": [
        "# Если Вы запускаете ноутбук на colab или kaggle, добавьте в начало пути ./stepik-dl-nlp\n",
        "torch.save(trainer.state_dict(), './stepik-dl-nlp/models/sgns.pth')"
      ],
      "execution_count": 14,
      "outputs": []
    },
    {
      "cell_type": "code",
      "metadata": {
        "ExecuteTime": {
          "end_time": "2019-10-29T19:20:12.888270Z",
          "start_time": "2019-10-29T19:20:12.864706Z"
        },
        "id": "4hWLR8o9wDsK",
        "colab_type": "code",
        "colab": {
          "base_uri": "https://localhost:8080/",
          "height": 34
        },
        "outputId": "1904e2de-051b-4056-862d-25485a17247d"
      },
      "source": [
        "# Если Вы запускаете ноутбук на colab или kaggle, добавьте в начало пути ./stepik-dl-nlp\n",
        "trainer.load_state_dict(torch.load('./stepik-dl-nlp/models/sgns.pth'))"
      ],
      "execution_count": 15,
      "outputs": [
        {
          "output_type": "execute_result",
          "data": {
            "text/plain": [
              "<All keys matched successfully>"
            ]
          },
          "metadata": {
            "tags": []
          },
          "execution_count": 15
        }
      ]
    },
    {
      "cell_type": "markdown",
      "metadata": {
        "id": "axzKnvKF_3B9",
        "colab_type": "text"
      },
      "source": [
        "За счет уменьшения окна и переноса на видеокарту получилось заметно ускорить обучение и уменьшить итоговую функцию потерь на 15 пунктов. Так же увеличение lr помогла побыстрее добиться того, что все сойдется.   \n",
        "  \n",
        "Изменение негативных семплов вообще ни к чему не приводит, похоже они слишком мало вносят в функцию потерь."
      ]
    },
    {
      "cell_type": "markdown",
      "metadata": {
        "id": "3Yc_v2sJ3X7O",
        "colab_type": "text"
      },
      "source": [
        "Значительно ускорить обучение удалось переносом на видокарту вычисления и увеличением батча, а увеличение"
      ]
    },
    {
      "cell_type": "markdown",
      "metadata": {
        "id": "s2T1Mq3uwDsN",
        "colab_type": "text"
      },
      "source": [
        "## Исследуем характеристики полученных векторов"
      ]
    },
    {
      "cell_type": "code",
      "metadata": {
        "ExecuteTime": {
          "end_time": "2019-10-29T19:20:12.919904Z",
          "start_time": "2019-10-29T19:20:12.890671Z"
        },
        "id": "X7tYhVmmwDsO",
        "colab_type": "code",
        "colab": {}
      },
      "source": [
        "embeddings = Embeddings(trainer.center_emb.weight.detach().cpu().numpy(), vocabulary)"
      ],
      "execution_count": 16,
      "outputs": []
    },
    {
      "cell_type": "code",
      "metadata": {
        "ExecuteTime": {
          "end_time": "2019-10-29T19:20:12.942708Z",
          "start_time": "2019-10-29T19:20:12.921619Z"
        },
        "id": "wBFDVVDDwDsQ",
        "colab_type": "code",
        "colab": {
          "base_uri": "https://localhost:8080/",
          "height": 187
        },
        "outputId": "6630cb4a-22be-448c-9766-bfab8b3a4e8a"
      },
      "source": [
        "embeddings.most_similar('chicken')"
      ],
      "execution_count": 17,
      "outputs": [
        {
          "output_type": "execute_result",
          "data": {
            "text/plain": [
              "[('chicken', 0.9999486),\n",
              " ('stock', 0.54115427),\n",
              " ('turkey', 0.5336048),\n",
              " ('thighs', 0.52135575),\n",
              " ('duck', 0.52088296),\n",
              " ('beef', 0.5170144),\n",
              " ('veal', 0.4893977),\n",
              " ('breasts', 0.48416445),\n",
              " ('broth', 0.45646566),\n",
              " ('wings', 0.45419812)]"
            ]
          },
          "metadata": {
            "tags": []
          },
          "execution_count": 17
        }
      ]
    },
    {
      "cell_type": "code",
      "metadata": {
        "ExecuteTime": {
          "end_time": "2019-10-29T19:20:12.965936Z",
          "start_time": "2019-10-29T19:20:12.944423Z"
        },
        "id": "iQ9Sw-QIwDsU",
        "colab_type": "code",
        "colab": {
          "base_uri": "https://localhost:8080/",
          "height": 187
        },
        "outputId": "3303d31b-254b-46c8-c3e8-e2c9ed94595e"
      },
      "source": [
        "embeddings.analogy('cake', 'cacao', 'cheese')"
      ],
      "execution_count": 18,
      "outputs": [
        {
          "output_type": "execute_result",
          "data": {
            "text/plain": [
              "[('cacao', 1.1575216),\n",
              " ('cheese', 0.95400655),\n",
              " ('cheeses', 0.7084588),\n",
              " ('semi', 0.69504964),\n",
              " ('pecorino', 0.65737563),\n",
              " ('monterey', 0.65174496),\n",
              " ('solids', 0.65051293),\n",
              " ('elbow', 0.6291064),\n",
              " ('jack', 0.61748767),\n",
              " ('percent', 0.6137212)]"
            ]
          },
          "metadata": {
            "tags": []
          },
          "execution_count": 18
        }
      ]
    },
    {
      "cell_type": "code",
      "metadata": {
        "ExecuteTime": {
          "end_time": "2019-10-29T19:20:12.991060Z",
          "start_time": "2019-10-29T19:20:12.967532Z"
        },
        "id": "XVZG4RgSwDsX",
        "colab_type": "code",
        "colab": {
          "base_uri": "https://localhost:8080/",
          "height": 34
        },
        "outputId": "fda2e9ad-5f82-40f6-8f9c-873fb6af6537"
      },
      "source": [
        "test_words = ['salad', 'fish', 'salmon', 'sauvignon', 'beef', 'pork', 'steak', 'beer', 'cake', 'coffee', 'sausage', 'wine', 'merlot', 'zinfandel', 'trout', 'chardonnay', 'champagne', 'cacao']\n",
        "test_vectors = embeddings.get_vectors(*test_words)\n",
        "print(test_vectors.shape)"
      ],
      "execution_count": 19,
      "outputs": [
        {
          "output_type": "stream",
          "text": [
            "(18, 150)\n"
          ],
          "name": "stdout"
        }
      ]
    },
    {
      "cell_type": "code",
      "metadata": {
        "ExecuteTime": {
          "end_time": "2019-10-29T19:20:13.318676Z",
          "start_time": "2019-10-29T19:20:12.996595Z"
        },
        "id": "6Bnadx1EwDsa",
        "colab_type": "code",
        "colab": {
          "base_uri": "https://localhost:8080/",
          "height": 592
        },
        "outputId": "88c21b1c-2fc2-4559-db90-6db7f9267919"
      },
      "source": [
        "fig, ax = plt.subplots()\n",
        "fig.set_size_inches((10, 10))\n",
        "plot_vectors(test_vectors, test_words, how='svd', ax=ax)"
      ],
      "execution_count": 20,
      "outputs": [
        {
          "output_type": "display_data",
          "data": {
            "image/png": "[encoded data removed]",
            "text/plain": [
              "<Figure size 720x720 with 1 Axes>"
            ]
          },
          "metadata": {
            "tags": [],
            "needs_background": "light"
          }
        }
      ]
    },
    {
      "cell_type": "markdown",
      "metadata": {
        "id": "as38Pv-lwDsc",
        "colab_type": "text"
      },
      "source": [
        "## Обучение Word2Vec и FastText с помощью Gensim"
      ]
    },
    {
      "cell_type": "code",
      "metadata": {
        "ExecuteTime": {
          "end_time": "2019-10-29T19:20:17.075005Z",
          "start_time": "2019-10-29T19:20:13.615729Z"
        },
        "id": "e2r1IzMbwDsf",
        "colab_type": "code",
        "colab": {}
      },
      "source": [
        "word2vec = gensim.models.Word2Vec(sentences=train_tokenized, size=100,\n",
        "                                  window=5, min_count=5, workers=4,\n",
        "                                  sg=1, iter=10)\n",
        "\n",
        "w2v_most_similar_func = word2vec.wv.most_similar#('chicken')\n",
        "\n",
        "gensim_words = [w for w in test_words if w in word2vec.wv.vocab]\n",
        "w2v_gensim_vectors = np.stack([word2vec.wv[w] for w in gensim_words])"
      ],
      "execution_count": 21,
      "outputs": []
    },
    {
      "cell_type": "code",
      "metadata": {
        "id": "i0OwjiUPZ1pH",
        "colab_type": "code",
        "colab": {}
      },
      "source": [
        "fasttext = gensim.models.FastText(sentences=train_tokenized, size=100,\n",
        "                                  window=5, min_count=5, workers=4,\n",
        "                                  sg=1, iter=10)\n",
        "\n",
        "fasttext_most_similar_func = fasttext.wv.most_similar#('chicken')\n",
        "\n",
        "gensim_words = [w for w in test_words if w in fasttext.wv.vocab]\n",
        "ft_gensim_vectors = np.stack([fasttext.wv[w] for w in gensim_words])"
      ],
      "execution_count": 22,
      "outputs": []
    },
    {
      "cell_type": "markdown",
      "metadata": {
        "id": "Yo5l6jV5HQQk",
        "colab_type": "text"
      },
      "source": [
        "## Сравнение fasttext и word2vec"
      ]
    },
    {
      "cell_type": "markdown",
      "metadata": {
        "id": "_Joi6FngIrkl",
        "colab_type": "text"
      },
      "source": [
        "### Посмотрим списки похожих слов для нескольких примеров"
      ]
    },
    {
      "cell_type": "code",
      "metadata": {
        "id": "KKLNJO4cKk4j",
        "colab_type": "code",
        "colab": {
          "base_uri": "https://localhost:8080/",
          "height": 462
        },
        "outputId": "b30c8e17-5a27-429f-c4d6-10c4b67c6b98"
      },
      "source": [
        "print(f\"Word2Vector - FastText\")\n",
        "print()\n",
        "for word in ['chicken', 'steak', 'cheese']:\n",
        "  print(f'Топ 5 ответов на слово {word}')\n",
        "  w2v = w2v_most_similar_func(word)\n",
        "  ft = fasttext_most_similar_func(word)\n",
        "  for i in range(5):\n",
        "    w2v_word, w2v_prob = w2v[i]\n",
        "    ft_word, ft_prob = ft[i]\n",
        "    print(f\"{w2v_word}: {w2v_prob} - {ft_word}: {ft_prob}\")\n",
        "  print()"
      ],
      "execution_count": 23,
      "outputs": [
        {
          "output_type": "stream",
          "text": [
            "Word2Vector - FastText\n",
            "\n",
            "Топ 5 ответов на слово chicken\n",
            "duck: 0.7248526811599731 - chickens: 0.9078936576843262\n",
            "simmering: 0.70777428150177 - chick: 0.8011717796325684\n",
            "thighs: 0.7063819169998169 - duck: 0.7276973724365234\n",
            "drumsticks: 0.6859389543533325 - drumstick: 0.717978835105896\n",
            "pheasant: 0.6830736994743347 - turkey: 0.7056881189346313\n",
            "\n",
            "Топ 5 ответов на слово steak\n",
            "skirt: 0.9065098166465759 - steaks: 0.9035670757293701\n",
            "flank: 0.9048833250999451 - stew: 0.8507398366928101\n",
            "sirloin: 0.8968334197998047 - skirt: 0.8454320430755615\n",
            "mignon: 0.8457694053649902 - sirloin: 0.8453919291496277\n",
            "swordfish: 0.8438214659690857 - flank: 0.8306909799575806\n",
            "\n",
            "Топ 5 ответов на слово cheese\n",
            "salata: 0.7868016958236694 - cheeses: 0.9493225812911987\n",
            "monterey: 0.7749799489974976 - salata: 0.8074695467948914\n",
            "pecorino: 0.7586265802383423 - pecorino: 0.7838910818099976\n",
            "gruyere: 0.7500640749931335 - feta: 0.7780879139900208\n",
            "cheddar: 0.7459198236465454 - monterey: 0.7763758897781372\n",
            "\n"
          ],
          "name": "stdout"
        },
        {
          "output_type": "stream",
          "text": [
            "/usr/local/lib/python3.6/dist-packages/gensim/matutils.py:737: FutureWarning: Conversion of the second argument of issubdtype from `int` to `np.signedinteger` is deprecated. In future, it will be treated as `np.int64 == np.dtype(int).type`.\n",
            "  if np.issubdtype(vec.dtype, np.int):\n"
          ],
          "name": "stderr"
        }
      ]
    },
    {
      "cell_type": "markdown",
      "metadata": {
        "id": "lhQ1pduRKery",
        "colab_type": "text"
      },
      "source": [
        "### Сравним получившиеся кластера на графике"
      ]
    },
    {
      "cell_type": "code",
      "metadata": {
        "id": "1_9pY344Z1sN",
        "colab_type": "code",
        "colab": {
          "base_uri": "https://localhost:8080/",
          "height": 609
        },
        "outputId": "a35279a6-3e32-462a-c220-09b972fdf31b"
      },
      "source": [
        "fig, ax = plt.subplots()\n",
        "fig.set_size_inches((10, 10))\n",
        "plot_vectors(ft_gensim_vectors, test_words, how='svd', ax=ax)\n",
        "plot_vectors(w2v_gensim_vectors, test_words, how='svd', ax=ax)\n",
        "print('Оранжевый цвет - модель FastText, синий - word2vec.')"
      ],
      "execution_count": 24,
      "outputs": [
        {
          "output_type": "stream",
          "text": [
            "Оранжевый цвет - модель FastText, синий - word2vec.\n"
          ],
          "name": "stdout"
        },
        {
          "output_type": "display_data",
          "data": {
            "image/png": "[encoded data removed]",
            "text/plain": [
              "<Figure size 720x720 with 1 Axes>"
            ]
          },
          "metadata": {
            "tags": [],
            "needs_background": "light"
          }
        }
      ]
    },
    {
      "cell_type": "markdown",
      "metadata": {
        "id": "xnhOD_TaMcmS",
        "colab_type": "text"
      },
      "source": [
        "### В целом, оба метода векторизации дают примерно одинаковые наборы ответов. Однако можно заметить, что FastText отдает предпочтение более близким по написанию словам (что логично, учитывая, что он обучался на триграммах) и в целом более уверен в своих ответах. Однако на таком маленьком корпусе заметить что-то большее проблематично"
      ]
    }
  ]
}