{
  "nbformat": 4,
  "nbformat_minor": 0,
  "metadata": {
    "colab": {
      "name": "Bert News tag Classificator.ipynb",
      "provenance": [],
      "collapsed_sections": []
    },
    "kernelspec": {
      "name": "python3",
      "display_name": "Python 3"
    },
    "accelerator": "GPU"
  },
  "cells": [
    {
      "cell_type": "code",
      "metadata": {
        "colab": {
          "base_uri": "https://localhost:8080/"
        },
        "id": "MNWZWmwYqNaD",
        "outputId": "d076dc47-822b-4ab9-aea8-6bb3e55b0906"
      },
      "source": [
        "!pip3 install pytorch_transformers"
      ],
      "execution_count": 4,
      "outputs": [
        {
          "output_type": "stream",
          "text": [
            "Requirement already satisfied: pytorch_transformers in /usr/local/lib/python3.6/dist-packages (1.2.0)\n",
            "Requirement already satisfied: tqdm in /usr/local/lib/python3.6/dist-packages (from pytorch_transformers) (4.41.1)\n",
            "Requirement already satisfied: sentencepiece in /usr/local/lib/python3.6/dist-packages (from pytorch_transformers) (0.1.94)\n",
            "Requirement already satisfied: numpy in /usr/local/lib/python3.6/dist-packages (from pytorch_transformers) (1.18.5)\n",
            "Requirement already satisfied: requests in /usr/local/lib/python3.6/dist-packages (from pytorch_transformers) (2.23.0)\n",
            "Requirement already satisfied: torch>=1.0.0 in /usr/local/lib/python3.6/dist-packages (from pytorch_transformers) (1.7.0+cu101)\n",
            "Requirement already satisfied: sacremoses in /usr/local/lib/python3.6/dist-packages (from pytorch_transformers) (0.0.43)\n",
            "Requirement already satisfied: boto3 in /usr/local/lib/python3.6/dist-packages (from pytorch_transformers) (1.16.22)\n",
            "Requirement already satisfied: regex in /usr/local/lib/python3.6/dist-packages (from pytorch_transformers) (2019.12.20)\n",
            "Requirement already satisfied: chardet<4,>=3.0.2 in /usr/local/lib/python3.6/dist-packages (from requests->pytorch_transformers) (3.0.4)\n",
            "Requirement already satisfied: urllib3!=1.25.0,!=1.25.1,<1.26,>=1.21.1 in /usr/local/lib/python3.6/dist-packages (from requests->pytorch_transformers) (1.24.3)\n",
            "Requirement already satisfied: idna<3,>=2.5 in /usr/local/lib/python3.6/dist-packages (from requests->pytorch_transformers) (2.10)\n",
            "Requirement already satisfied: certifi>=2017.4.17 in /usr/local/lib/python3.6/dist-packages (from requests->pytorch_transformers) (2020.6.20)\n",
            "Requirement already satisfied: future in /usr/local/lib/python3.6/dist-packages (from torch>=1.0.0->pytorch_transformers) (0.16.0)\n",
            "Requirement already satisfied: typing-extensions in /usr/local/lib/python3.6/dist-packages (from torch>=1.0.0->pytorch_transformers) (3.7.4.3)\n",
            "Requirement already satisfied: dataclasses in /usr/local/lib/python3.6/dist-packages (from torch>=1.0.0->pytorch_transformers) (0.7)\n",
            "Requirement already satisfied: six in /usr/local/lib/python3.6/dist-packages (from sacremoses->pytorch_transformers) (1.15.0)\n",
            "Requirement already satisfied: click in /usr/local/lib/python3.6/dist-packages (from sacremoses->pytorch_transformers) (7.1.2)\n",
            "Requirement already satisfied: joblib in /usr/local/lib/python3.6/dist-packages (from sacremoses->pytorch_transformers) (0.17.0)\n",
            "Requirement already satisfied: s3transfer<0.4.0,>=0.3.0 in /usr/local/lib/python3.6/dist-packages (from boto3->pytorch_transformers) (0.3.3)\n",
            "Requirement already satisfied: jmespath<1.0.0,>=0.7.1 in /usr/local/lib/python3.6/dist-packages (from boto3->pytorch_transformers) (0.10.0)\n",
            "Requirement already satisfied: botocore<1.20.0,>=1.19.22 in /usr/local/lib/python3.6/dist-packages (from boto3->pytorch_transformers) (1.19.22)\n",
            "Requirement already satisfied: python-dateutil<3.0.0,>=2.1 in /usr/local/lib/python3.6/dist-packages (from botocore<1.20.0,>=1.19.22->boto3->pytorch_transformers) (2.8.1)\n"
          ],
          "name": "stdout"
        }
      ]
    },
    {
      "cell_type": "markdown",
      "metadata": {
        "id": "ZbxOji9L-cXw"
      },
      "source": [
        "## Загружаем датасет из задания 1"
      ]
    },
    {
      "cell_type": "code",
      "metadata": {
        "colab": {
          "base_uri": "https://localhost:8080/"
        },
        "id": "dhjtpJalC9UY",
        "outputId": "122619ee-e7bf-4cc8-d3b1-c5e2715d2a2e"
      },
      "source": [
        "from google.colab import drive\n",
        "\n",
        "drive.mount('/content/drive')\n",
        "\n",
        "#!cp drive/'My Drive'/'Colab Notebooks'/BERT/'Bert News'/news_3k.csv ./news_3k.csv\n",
        "!cp drive/'My Drive'/'Colab Notebooks'/BERT/'Bert News'/news_15k.csv ./news_15k.csv"
      ],
      "execution_count": 5,
      "outputs": [
        {
          "output_type": "stream",
          "text": [
            "Drive already mounted at /content/drive; to attempt to forcibly remount, call drive.mount(\"/content/drive\", force_remount=True).\n"
          ],
          "name": "stdout"
        }
      ]
    },
    {
      "cell_type": "code",
      "metadata": {
        "colab": {
          "base_uri": "https://localhost:8080/",
          "height": 289
        },
        "id": "qDF-2PbIEnIo",
        "outputId": "96aa6921-de51-4b40-e6d0-138faacbfc8a"
      },
      "source": [
        "import pandas as pd\n",
        "\n",
        "#data = pd.read_csv('news_3k.csv', sep=';')\n",
        "data = pd.read_csv('news_15k.csv', sep=';')\n",
        "data['tags'] = data['tags'].apply(lambda l: eval(l) if '[' in l else l)\n",
        "data.head()"
      ],
      "execution_count": 6,
      "outputs": [
        {
          "output_type": "execute_result",
          "data": {
            "text/html": [
              "<div>\n",
              "<style scoped>\n",
              "    .dataframe tbody tr th:only-of-type {\n",
              "        vertical-align: middle;\n",
              "    }\n",
              "\n",
              "    .dataframe tbody tr th {\n",
              "        vertical-align: top;\n",
              "    }\n",
              "\n",
              "    .dataframe thead th {\n",
              "        text-align: right;\n",
              "    }\n",
              "</style>\n",
              "<table border=\"1\" class=\"dataframe\">\n",
              "  <thead>\n",
              "    <tr style=\"text-align: right;\">\n",
              "      <th></th>\n",
              "      <th>title</th>\n",
              "      <th>content</th>\n",
              "      <th>url</th>\n",
              "      <th>tags</th>\n",
              "      <th>source</th>\n",
              "    </tr>\n",
              "  </thead>\n",
              "  <tbody>\n",
              "    <tr>\n",
              "      <th>0</th>\n",
              "      <td>Прятавший мальчика в подвале мужчина несколько...</td>\n",
              "      <td>Более 50 дней удерживавший семилетнего Савели...</td>\n",
              "      <td>http://www.vesti.ru/article/2488087</td>\n",
              "      <td>[происшествия, новости, ребенок, похищение, Вл...</td>\n",
              "      <td>VestiNewsParser</td>\n",
              "    </tr>\n",
              "    <tr>\n",
              "      <th>1</th>\n",
              "      <td>В подмосковном лесу нашли связанный труп с пак...</td>\n",
              "      <td>В минувший понедельник неподалеку от деревни ...</td>\n",
              "      <td>http://www.vesti.ru/article/2488068</td>\n",
              "      <td>[происшествия, убийство, новости, Клин, Москов...</td>\n",
              "      <td>VestiNewsParser</td>\n",
              "    </tr>\n",
              "    <tr>\n",
              "      <th>2</th>\n",
              "      <td>ФИФА вручит приз The Best лучшим футболистам с...</td>\n",
              "      <td>В отличие от французского еженедельника Franc...</td>\n",
              "      <td>http://www.vesti.ru/article/2488047</td>\n",
              "      <td>[спорт, новости, футбол, Золотой мяч, ФИФА/FIFA]</td>\n",
              "      <td>VestiNewsParser</td>\n",
              "    </tr>\n",
              "    <tr>\n",
              "      <th>3</th>\n",
              "      <td>Главред RT аплодирует новому закону об информа...</td>\n",
              "      <td>Изменений в федеральный закон \"Об информации ...</td>\n",
              "      <td>http://www.vesti.ru/article/2488029</td>\n",
              "      <td>[политика, новости, безопасность, закон, Росси...</td>\n",
              "      <td>VestiNewsParser</td>\n",
              "    </tr>\n",
              "    <tr>\n",
              "      <th>4</th>\n",
              "      <td>Ученые нашли в водах Крыма неизвестные науке в...</td>\n",
              "      <td>В Крыму учёные описали неизвестные науке виды...</td>\n",
              "      <td>http://www.vesti.ru/article/2488031</td>\n",
              "      <td>[общество, ученые, открытие/изобретение, новос...</td>\n",
              "      <td>VestiNewsParser</td>\n",
              "    </tr>\n",
              "  </tbody>\n",
              "</table>\n",
              "</div>"
            ],
            "text/plain": [
              "                                               title  ...           source\n",
              "0  Прятавший мальчика в подвале мужчина несколько...  ...  VestiNewsParser\n",
              "1  В подмосковном лесу нашли связанный труп с пак...  ...  VestiNewsParser\n",
              "2  ФИФА вручит приз The Best лучшим футболистам с...  ...  VestiNewsParser\n",
              "3  Главред RT аплодирует новому закону об информа...  ...  VestiNewsParser\n",
              "4  Ученые нашли в водах Крыма неизвестные науке в...  ...  VestiNewsParser\n",
              "\n",
              "[5 rows x 5 columns]"
            ]
          },
          "metadata": {
            "tags": []
          },
          "execution_count": 6
        }
      ]
    },
    {
      "cell_type": "markdown",
      "metadata": {
        "id": "cA4bXZiB-jsd"
      },
      "source": [
        "## Собираем самые частые теги и составляем из них набор классов"
      ]
    },
    {
      "cell_type": "code",
      "metadata": {
        "id": "EZQ7oqzGFO6t"
      },
      "source": [
        "from collections import Counter\n",
        "\n",
        "vesti_count = Counter()\n",
        "for tags in data[data.source == 'VestiNewsParser'].tags:\n",
        "    vesti_count += Counter([t.lower() for t in tags])\n",
        "\n",
        "set_vesti = set(vesti_count)\n",
        "\n",
        "lenta_count = Counter()\n",
        "for tags in data[data.source == 'LentaNewsParser'].tags:\n",
        "    lenta_count += Counter([tags.lower()])\n",
        "\n",
        "set_lenta = set(lenta_count)\n",
        "\n",
        "classes = lenta_count + vesti_count"
      ],
      "execution_count": 7,
      "outputs": []
    },
    {
      "cell_type": "code",
      "metadata": {
        "id": "_HpKM1Yn2SKS"
      },
      "source": [
        "for key in classes.copy():\n",
        "  if classes[key] < 100:\n",
        "    del classes[key]\n",
        "\n",
        "classes = set(classes)"
      ],
      "execution_count": 8,
      "outputs": []
    },
    {
      "cell_type": "code",
      "metadata": {
        "colab": {
          "base_uri": "https://localhost:8080/"
        },
        "id": "ZIyk3DaFfwVx",
        "outputId": "b2201853-6460-43fd-acc5-a96606794a20"
      },
      "source": [
        "def check_class(row):\n",
        "    if row['source'] == 'VestiNewsParser':\n",
        "        for tag in row['tags']:\n",
        "          tag = tag.lower()\n",
        "          if tag in classes:\n",
        "            return tag\n",
        "    elif row['source'] == 'LentaNewsParser':\n",
        "        tag = row['tags'].lower()\n",
        "        if tag in classes:\n",
        "          return tag\n",
        "    else:\n",
        "      for cls in classes:\n",
        "        if cls in row['content']:\n",
        "          return cls\n",
        "\n",
        "data['main_tag'] = data.apply(check_class, axis=1)\n",
        "data['main_tag'].value_counts()"
      ],
      "execution_count": 9,
      "outputs": [
        {
          "output_type": "execute_result",
          "data": {
            "text/plain": [
              "общество           2941\n",
              "политика           1330\n",
              "чита                925\n",
              "происшествия        851\n",
              "закон               772\n",
              "спорт               699\n",
              "журналист           540\n",
              "культура            483\n",
              "вор                 467\n",
              "россия              466\n",
              "экономика           391\n",
              "исследования        387\n",
              "самолет             386\n",
              "орган               386\n",
              "ученые              363\n",
              "закавказье          267\n",
              "наука               192\n",
              "следствие и суд     151\n",
              "тв и радио          139\n",
              "кино                122\n",
              "госэкономика        119\n",
              "бокс и мма          112\n",
              "квартира            112\n",
              "футбол              111\n",
              "музыка              101\n",
              "белоруссия          100\n",
              "люди                100\n",
              "новости              66\n",
              "регионы              45\n",
              "криминал             38\n",
              "космос               31\n",
              "москва               23\n",
              "концерт              21\n",
              "Name: main_tag, dtype: int64"
            ]
          },
          "metadata": {
            "tags": []
          },
          "execution_count": 9
        }
      ]
    },
    {
      "cell_type": "code",
      "metadata": {
        "colab": {
          "base_uri": "https://localhost:8080/",
          "height": 221
        },
        "id": "fF8ysVFOjlAV",
        "outputId": "4602b827-a960-4209-f374-caf992501151"
      },
      "source": [
        "data = data[~data['main_tag'].isna()]\n",
        "print(data.shape)\n",
        "data.head()"
      ],
      "execution_count": 10,
      "outputs": [
        {
          "output_type": "stream",
          "text": [
            "(13237, 6)\n"
          ],
          "name": "stdout"
        },
        {
          "output_type": "execute_result",
          "data": {
            "text/html": [
              "<div>\n",
              "<style scoped>\n",
              "    .dataframe tbody tr th:only-of-type {\n",
              "        vertical-align: middle;\n",
              "    }\n",
              "\n",
              "    .dataframe tbody tr th {\n",
              "        vertical-align: top;\n",
              "    }\n",
              "\n",
              "    .dataframe thead th {\n",
              "        text-align: right;\n",
              "    }\n",
              "</style>\n",
              "<table border=\"1\" class=\"dataframe\">\n",
              "  <thead>\n",
              "    <tr style=\"text-align: right;\">\n",
              "      <th></th>\n",
              "      <th>title</th>\n",
              "      <th>content</th>\n",
              "      <th>url</th>\n",
              "      <th>tags</th>\n",
              "      <th>source</th>\n",
              "      <th>main_tag</th>\n",
              "    </tr>\n",
              "  </thead>\n",
              "  <tbody>\n",
              "    <tr>\n",
              "      <th>0</th>\n",
              "      <td>Прятавший мальчика в подвале мужчина несколько...</td>\n",
              "      <td>Более 50 дней удерживавший семилетнего Савели...</td>\n",
              "      <td>http://www.vesti.ru/article/2488087</td>\n",
              "      <td>[происшествия, новости, ребенок, похищение, Вл...</td>\n",
              "      <td>VestiNewsParser</td>\n",
              "      <td>происшествия</td>\n",
              "    </tr>\n",
              "    <tr>\n",
              "      <th>1</th>\n",
              "      <td>В подмосковном лесу нашли связанный труп с пак...</td>\n",
              "      <td>В минувший понедельник неподалеку от деревни ...</td>\n",
              "      <td>http://www.vesti.ru/article/2488068</td>\n",
              "      <td>[происшествия, убийство, новости, Клин, Москов...</td>\n",
              "      <td>VestiNewsParser</td>\n",
              "      <td>происшествия</td>\n",
              "    </tr>\n",
              "    <tr>\n",
              "      <th>2</th>\n",
              "      <td>ФИФА вручит приз The Best лучшим футболистам с...</td>\n",
              "      <td>В отличие от французского еженедельника Franc...</td>\n",
              "      <td>http://www.vesti.ru/article/2488047</td>\n",
              "      <td>[спорт, новости, футбол, Золотой мяч, ФИФА/FIFA]</td>\n",
              "      <td>VestiNewsParser</td>\n",
              "      <td>спорт</td>\n",
              "    </tr>\n",
              "    <tr>\n",
              "      <th>3</th>\n",
              "      <td>Главред RT аплодирует новому закону об информа...</td>\n",
              "      <td>Изменений в федеральный закон \"Об информации ...</td>\n",
              "      <td>http://www.vesti.ru/article/2488029</td>\n",
              "      <td>[политика, новости, безопасность, закон, Росси...</td>\n",
              "      <td>VestiNewsParser</td>\n",
              "      <td>политика</td>\n",
              "    </tr>\n",
              "    <tr>\n",
              "      <th>4</th>\n",
              "      <td>Ученые нашли в водах Крыма неизвестные науке в...</td>\n",
              "      <td>В Крыму учёные описали неизвестные науке виды...</td>\n",
              "      <td>http://www.vesti.ru/article/2488031</td>\n",
              "      <td>[общество, ученые, открытие/изобретение, новос...</td>\n",
              "      <td>VestiNewsParser</td>\n",
              "      <td>общество</td>\n",
              "    </tr>\n",
              "  </tbody>\n",
              "</table>\n",
              "</div>"
            ],
            "text/plain": [
              "                                               title  ...      main_tag\n",
              "0  Прятавший мальчика в подвале мужчина несколько...  ...  происшествия\n",
              "1  В подмосковном лесу нашли связанный труп с пак...  ...  происшествия\n",
              "2  ФИФА вручит приз The Best лучшим футболистам с...  ...         спорт\n",
              "3  Главред RT аплодирует новому закону об информа...  ...      политика\n",
              "4  Ученые нашли в водах Крыма неизвестные науке в...  ...      общество\n",
              "\n",
              "[5 rows x 6 columns]"
            ]
          },
          "metadata": {
            "tags": []
          },
          "execution_count": 10
        }
      ]
    },
    {
      "cell_type": "markdown",
      "metadata": {
        "id": "5xxN4W3Wnrvw"
      },
      "source": [
        "## Дообучаем BERT"
      ]
    },
    {
      "cell_type": "code",
      "metadata": {
        "colab": {
          "base_uri": "https://localhost:8080/"
        },
        "id": "zEcD0DYXry56",
        "outputId": "6327ef54-7afa-4240-8e81-f56bb0b93b1b"
      },
      "source": [
        "import torch\n",
        "\n",
        "BATCH_SIZE = 64\n",
        "MAX_LEN = 512\n",
        "\n",
        "device = torch.device(\"cuda\" if torch.cuda.is_available() else \"cpu\")\n",
        "if device == 'cpu':\n",
        "    print('cpu')\n",
        "else:\n",
        "    n_gpu = torch.cuda.device_count()\n",
        "    print(torch.cuda.get_device_name(0))"
      ],
      "execution_count": 38,
      "outputs": [
        {
          "output_type": "stream",
          "text": [
            "Tesla T4\n"
          ],
          "name": "stdout"
        }
      ]
    },
    {
      "cell_type": "code",
      "metadata": {
        "colab": {
          "base_uri": "https://localhost:8080/"
        },
        "id": "p2K_XV-HoOod",
        "outputId": "9b8c8dda-8391-45ff-e993-9334af0d2551"
      },
      "source": [
        "class_labels = {}\n",
        "for index, cls in enumerate(data['main_tag'].unique()):\n",
        "    class_labels[cls] = index\n",
        "\n",
        "print(f'Количество классов: {len(class_labels)}')"
      ],
      "execution_count": 39,
      "outputs": [
        {
          "output_type": "stream",
          "text": [
            "Количество классов: 33\n"
          ],
          "name": "stdout"
        }
      ]
    },
    {
      "cell_type": "markdown",
      "metadata": {
        "id": "1uwZrXrJMSi1"
      },
      "source": [
        "### Обрезаем строки новости до размера входа"
      ]
    },
    {
      "cell_type": "code",
      "metadata": {
        "id": "vIiRABIoIFzf"
      },
      "source": [
        "def prepare_strings_to_bert(string, limit=256, string_separator=' '):\n",
        "  all_words = string.split(string_separator)\n",
        "  if all_words[0] != '[CLS]':\n",
        "    all_words = [\"[CLS]\"] + all_words\n",
        "  if all_words[-1] != \"[SEP]\":\n",
        "    all_words = all_words + [\"[SEP]\"]\n",
        "\n",
        "  if len(all_words) >= limit:\n",
        "    all_words = all_words[:limit//2] + all_words[-limit//2:]\n",
        "  return string_separator.join(all_words)"
      ],
      "execution_count": 40,
      "outputs": []
    },
    {
      "cell_type": "code",
      "metadata": {
        "colab": {
          "base_uri": "https://localhost:8080/",
          "height": 221
        },
        "id": "jJBftOxHntrR",
        "outputId": "4fbeca1d-e01d-43ed-ad1a-9d48a90065af"
      },
      "source": [
        "import pandas as pd\n",
        "\n",
        "column_with_data = 'title'\n",
        "colimn_with_labels = 'main_tag'\n",
        "\n",
        "dataset = data[[column_with_data, colimn_with_labels]].copy()\n",
        "\n",
        "dataset[colimn_with_labels] = dataset[colimn_with_labels].apply(lambda x: class_labels[x])\n",
        "dataset[column_with_data] = dataset[column_with_data].apply(prepare_strings_to_bert)\n",
        "\n",
        "print(dataset.shape)\n",
        "dataset.head()"
      ],
      "execution_count": 41,
      "outputs": [
        {
          "output_type": "stream",
          "text": [
            "(13237, 2)\n"
          ],
          "name": "stdout"
        },
        {
          "output_type": "execute_result",
          "data": {
            "text/html": [
              "<div>\n",
              "<style scoped>\n",
              "    .dataframe tbody tr th:only-of-type {\n",
              "        vertical-align: middle;\n",
              "    }\n",
              "\n",
              "    .dataframe tbody tr th {\n",
              "        vertical-align: top;\n",
              "    }\n",
              "\n",
              "    .dataframe thead th {\n",
              "        text-align: right;\n",
              "    }\n",
              "</style>\n",
              "<table border=\"1\" class=\"dataframe\">\n",
              "  <thead>\n",
              "    <tr style=\"text-align: right;\">\n",
              "      <th></th>\n",
              "      <th>title</th>\n",
              "      <th>main_tag</th>\n",
              "    </tr>\n",
              "  </thead>\n",
              "  <tbody>\n",
              "    <tr>\n",
              "      <th>0</th>\n",
              "      <td>[CLS] Прятавший мальчика в подвале мужчина нес...</td>\n",
              "      <td>0</td>\n",
              "    </tr>\n",
              "    <tr>\n",
              "      <th>1</th>\n",
              "      <td>[CLS] В подмосковном лесу нашли связанный труп...</td>\n",
              "      <td>0</td>\n",
              "    </tr>\n",
              "    <tr>\n",
              "      <th>2</th>\n",
              "      <td>[CLS] ФИФА вручит приз The Best лучшим футболи...</td>\n",
              "      <td>1</td>\n",
              "    </tr>\n",
              "    <tr>\n",
              "      <th>3</th>\n",
              "      <td>[CLS] Главред RT аплодирует новому закону об и...</td>\n",
              "      <td>2</td>\n",
              "    </tr>\n",
              "    <tr>\n",
              "      <th>4</th>\n",
              "      <td>[CLS] Ученые нашли в водах Крыма неизвестные н...</td>\n",
              "      <td>3</td>\n",
              "    </tr>\n",
              "  </tbody>\n",
              "</table>\n",
              "</div>"
            ],
            "text/plain": [
              "                                               title  main_tag\n",
              "0  [CLS] Прятавший мальчика в подвале мужчина нес...         0\n",
              "1  [CLS] В подмосковном лесу нашли связанный труп...         0\n",
              "2  [CLS] ФИФА вручит приз The Best лучшим футболи...         1\n",
              "3  [CLS] Главред RT аплодирует новому закону об и...         2\n",
              "4  [CLS] Ученые нашли в водах Крыма неизвестные н...         3"
            ]
          },
          "metadata": {
            "tags": []
          },
          "execution_count": 41
        }
      ]
    },
    {
      "cell_type": "markdown",
      "metadata": {
        "id": "xLTL4TfK8w1L"
      },
      "source": [
        "## Удалим слишком большие и слишком маленькие значения"
      ]
    },
    {
      "cell_type": "code",
      "metadata": {
        "colab": {
          "base_uri": "https://localhost:8080/"
        },
        "id": "FWWu8h2I9-9S",
        "outputId": "30c0021f-6bac-4af2-e0c8-d862fa2798c1"
      },
      "source": [
        "dataset_v_c = dataset[colimn_with_labels].value_counts()\n",
        "dataset_v_c"
      ],
      "execution_count": 42,
      "outputs": [
        {
          "output_type": "execute_result",
          "data": {
            "text/plain": [
              "3     2941\n",
              "2     1330\n",
              "31     925\n",
              "0      851\n",
              "28     772\n",
              "1      699\n",
              "27     540\n",
              "5      483\n",
              "30     467\n",
              "18     466\n",
              "6      391\n",
              "25     387\n",
              "29     386\n",
              "26     386\n",
              "32     363\n",
              "10     267\n",
              "4      192\n",
              "13     151\n",
              "19     139\n",
              "14     122\n",
              "15     119\n",
              "12     112\n",
              "9      112\n",
              "23     111\n",
              "17     101\n",
              "21     100\n",
              "20     100\n",
              "7       66\n",
              "24      45\n",
              "22      38\n",
              "16      31\n",
              "11      23\n",
              "8       21\n",
              "Name: main_tag, dtype: int64"
            ]
          },
          "metadata": {
            "tags": []
          },
          "execution_count": 42
        }
      ]
    },
    {
      "cell_type": "code",
      "metadata": {
        "colab": {
          "base_uri": "https://localhost:8080/"
        },
        "id": "xpt0NZAYt-Ka",
        "outputId": "5eebe299-0aa5-4043-e897-7d6802e35f4b"
      },
      "source": [
        "dataset_v_c = dataset[colimn_with_labels].value_counts()\n",
        "\n",
        "classes_to_save = list()\n",
        "for key, value in dataset_v_c.to_dict().items():\n",
        "    if 400 < value < 1000:\n",
        "      classes_to_save.append(key)\n",
        "\n",
        "dataset = dataset[dataset[colimn_with_labels].isin(classes_to_save)]\n",
        "dataset.shape"
      ],
      "execution_count": 43,
      "outputs": [
        {
          "output_type": "execute_result",
          "data": {
            "text/plain": [
              "(5203, 2)"
            ]
          },
          "metadata": {
            "tags": []
          },
          "execution_count": 43
        }
      ]
    },
    {
      "cell_type": "markdown",
      "metadata": {
        "id": "X5l4QcUJ-Ur0"
      },
      "source": [
        "### Начинаем обучение"
      ]
    },
    {
      "cell_type": "code",
      "metadata": {
        "colab": {
          "base_uri": "https://localhost:8080/"
        },
        "id": "iE35ztG1nx6H",
        "outputId": "600e0bda-fd8f-4ba0-f730-4ce259a69850"
      },
      "source": [
        "from sklearn.model_selection import train_test_split\n",
        "from pytorch_transformers import BertTokenizer\n",
        "from keras.preprocessing.sequence import pad_sequences\n",
        "\n",
        "\n",
        "labels = list(dataset[colimn_with_labels])\n",
        "sentences = list(dataset[column_with_data])\n",
        "\n",
        "train_sentences, test_sentences, train_gt, test_gt = train_test_split(sentences, labels, test_size=0.3)\n",
        "\n",
        "tokenizer = BertTokenizer.from_pretrained('bert-base-uncased', do_lower_case=True)\n",
        "\n",
        "tokenized_texts = [tokenizer.tokenize(sent) for sent in train_sentences]\n",
        "print('Фрагмент токенизированного текста')\n",
        "print(tokenized_texts[0][0:50])\n",
        "\n",
        "input_ids = [tokenizer.convert_tokens_to_ids(x) for x in tokenized_texts]\n",
        "\n",
        "input_ids = pad_sequences(\n",
        "    input_ids,\n",
        "    maxlen=100,\n",
        "    dtype=\"long\",\n",
        "    truncating=\"post\",\n",
        "    padding=\"post\"\n",
        ")\n",
        "print()\n",
        "print('Фрагмент входного айди')\n",
        "print(list(input_ids[0]))\n",
        "attention_masks = [[float(i>0) for i in seq] for seq in input_ids]\n",
        "\n",
        "\n",
        "train_inputs, validation_inputs, train_labels, validation_labels = train_test_split(\n",
        "    input_ids, train_gt, \n",
        "    random_state=42,\n",
        "    test_size=0.2\n",
        ")\n",
        "\n",
        "train_masks, validation_masks, _, _ = train_test_split(\n",
        "    attention_masks,\n",
        "    input_ids,\n",
        "    random_state=42,\n",
        "    test_size=0.2\n",
        ")\n",
        "\n",
        "train_inputs = torch.tensor(train_inputs)\n",
        "train_labels = torch.tensor(train_labels)\n",
        "train_masks = torch.tensor(train_masks)\n",
        "\n",
        "validation_inputs = torch.tensor(validation_inputs)\n",
        "validation_labels = torch.tensor(validation_labels)\n",
        "validation_masks = torch.tensor(validation_masks)\n",
        "print()\n",
        "print('Пример тренировочныхх классов')\n",
        "print(train_labels)"
      ],
      "execution_count": 44,
      "outputs": [
        {
          "output_type": "stream",
          "text": [
            "Фрагмент токенизированного текста\n",
            "['[CLS]', 'м', '##и', '##н', '##з', '##д', '##р', '##а', '##в', 'п', '##о', '##о', '##б', '##е', '##щ', '##а', '##л', 'у', '##в', '##е', '##л', '##и', '##ч', '##и', '##т', '##ь', 'и', '##м', '##п', '##о', '##р', '##т', 'м', '##е', '##т', '##и', '##л', '##п', '##р', '##е', '##д', '##н', '##и', '##з', '##о', '##л', '##о', '##на', '.', 'э']\n",
            "\n",
            "Фрагмент входного айди\n",
            "[101, 1191, 10325, 18947, 29744, 29742, 16856, 10260, 25529, 1194, 14150, 14150, 29740, 15290, 29754, 10260, 29436, 1198, 25529, 15290, 29436, 10325, 29752, 10325, 22919, 23742, 1188, 29745, 29746, 14150, 16856, 22919, 1191, 15290, 22919, 10325, 29436, 29746, 16856, 15290, 29742, 18947, 10325, 29744, 14150, 29436, 14150, 19865, 1012, 1208, 22919, 14150, 1190, 15290, 28598, 16856, 29747, 22919, 25529, 14150, 1010, 1194, 16856, 10325, 29745, 15290, 18947, 17432, 15290, 29745, 14150, 15290, 1194, 16856, 10325, 1195, 15290, 25529, 29745, 10260, 22919, 10325, 29744, 29745, 15290, 1188, 2522, 17258, 1011, 2539, 1010, 1188, 29747, 29752, 15290, 29744, 29436, 14150, 1188, 29744]\n",
            "\n",
            "Пример тренировочныхх классов\n",
            "tensor([31, 30, 28,  ...,  0,  0, 31])\n"
          ],
          "name": "stdout"
        }
      ]
    },
    {
      "cell_type": "code",
      "metadata": {
        "colab": {
          "base_uri": "https://localhost:8080/",
          "height": 312
        },
        "id": "HKC0pxO8n3zn",
        "outputId": "ce40a963-c6ab-4eaa-cd5d-8998fe32a961"
      },
      "source": [
        "from torch.utils.data import TensorDataset, DataLoader, RandomSampler, SequentialSampler\n",
        "from pytorch_transformers import AdamW, BertForSequenceClassification\n",
        "\n",
        "\n",
        "from IPython.display import clear_output\n",
        "import matplotlib.pyplot as plt\n",
        "\n",
        "# Собираем датасет тензоров\n",
        "train_data = TensorDataset(train_inputs, train_masks, train_labels)\n",
        "train_dataloader = DataLoader(\n",
        "    train_data,\n",
        "    sampler=RandomSampler(train_data),\n",
        "    batch_size=BATCH_SIZE\n",
        ")\n",
        "\n",
        "validation_data = TensorDataset(validation_inputs, validation_masks, validation_labels)\n",
        "validation_dataloader = DataLoader(\n",
        "    validation_data,\n",
        "    sampler=SequentialSampler(validation_data),\n",
        "    batch_size=BATCH_SIZE\n",
        ")\n",
        "\n",
        "# Берем предобученную модель и составляем для нее параметры\n",
        "model = BertForSequenceClassification.from_pretrained(\"bert-base-uncased\", num_labels=len(class_labels))\n",
        "model.cuda()\n",
        "\n",
        "param_optimizer = list(model.named_parameters())\n",
        "no_decay = ['bias', 'gamma', 'beta']\n",
        "optimizer_grouped_parameters = [\n",
        "    {'params': [p for n, p in param_optimizer if not any(nd in n for nd in no_decay)],\n",
        "     'weight_decay_rate': 0.01},\n",
        "    {'params': [p for n, p in param_optimizer if any(nd in n for nd in no_decay)],\n",
        "     'weight_decay_rate': 0.0}\n",
        "]\n",
        "\n",
        "optimizer = AdamW(optimizer_grouped_parameters, lr=2e-5)\n",
        "\n",
        "\n",
        "# Сохраняем loss для графика\n",
        "train_loss_set = []\n",
        "train_loss = 0\n",
        "\n",
        "# Обучение\n",
        "model.train()\n",
        "\n",
        "for step, batch in enumerate(train_dataloader):\n",
        "    # Распаковываем данные и загружаем на гпу\n",
        "    b_input_ids, b_input_mask, b_labels = tuple(t.to(device) for t in batch)\n",
        "    \n",
        "    # если не сделать .zero_grad(), градиенты будут накапливаться\n",
        "    optimizer.zero_grad()\n",
        "    \n",
        "    # Forward pass\n",
        "    loss = model(b_input_ids, token_type_ids=None, attention_mask=b_input_mask, labels=b_labels)\n",
        "\n",
        "    train_loss_set.append(loss[0].item())  \n",
        "    \n",
        "    # Backward pass\n",
        "    loss[0].backward()\n",
        "    \n",
        "    # Обновляем параметры и делаем шаг используя посчитанные градиенты\n",
        "    optimizer.step()\n",
        "\n",
        "    # Обновляем loss\n",
        "    train_loss += loss[0].item()\n",
        "    \n",
        "    # Рисуем график\n",
        "    clear_output(True)\n",
        "    plt.plot(train_loss_set)\n",
        "    plt.title(\"Training loss\")\n",
        "    plt.xlabel(\"Batch\")\n",
        "    plt.ylabel(\"Loss\")\n",
        "    plt.show()\n",
        "\n",
        "print(\"Loss на обучающей выборке: {0:.5f}\".format(train_loss / len(train_dataloader)))"
      ],
      "execution_count": 45,
      "outputs": [
        {
          "output_type": "display_data",
          "data": {
            "image/png": "[encoded data removed]",
            "text/plain": [
              "<Figure size 432x288 with 1 Axes>"
            ]
          },
          "metadata": {
            "tags": [],
            "needs_background": "light"
          }
        },
        {
          "output_type": "stream",
          "text": [
            "Loss на обучающей выборке: 2.43186\n"
          ],
          "name": "stdout"
        }
      ]
    },
    {
      "cell_type": "code",
      "metadata": {
        "colab": {
          "base_uri": "https://localhost:8080/"
        },
        "id": "0bpZNj48n-56",
        "outputId": "e2935739-f085-4f51-c49e-4625a1c5de6d"
      },
      "source": [
        "import numpy as np\n",
        "from sklearn.metrics import accuracy_score\n",
        "\n",
        "# Валидация\n",
        "model.eval()\n",
        "\n",
        "valid_preds, valid_labels = [], []\n",
        "\n",
        "for batch in validation_dataloader:   \n",
        "    # добавляем батч для вычисления на GPU\n",
        "    batch = tuple(t.to(device) for t in batch)\n",
        "    \n",
        "    # Распаковываем данные из dataloader\n",
        "    b_input_ids, b_input_mask, b_labels = batch\n",
        "    \n",
        "    # При использовании .no_grad() модель не будет считать и хранить градиенты.\n",
        "    with torch.no_grad():\n",
        "        logits = model(b_input_ids, token_type_ids=None, attention_mask=b_input_mask)\n",
        "\n",
        "    # Перемещаем logits и метки классов на CPU для дальнейшей работы\n",
        "    logits = logits[0].detach().cpu().numpy()\n",
        "    label_ids = b_labels.to('cpu').numpy()\n",
        "    \n",
        "    batch_preds = np.argmax(logits, axis=1)\n",
        "    batch_labels = label_ids\n",
        "    valid_preds.extend(batch_preds)\n",
        "    valid_labels.extend(batch_labels)\n",
        "\n",
        "print(\"Процент правильных предсказаний на валидационной выборке: {0:.2f}%\".format(\n",
        "    accuracy_score(valid_labels, valid_preds) * 100\n",
        "))"
      ],
      "execution_count": 46,
      "outputs": [
        {
          "output_type": "stream",
          "text": [
            "Процент правильных предсказаний на валидационной выборке: 88.07%\n"
          ],
          "name": "stdout"
        }
      ]
    }
  ]
}