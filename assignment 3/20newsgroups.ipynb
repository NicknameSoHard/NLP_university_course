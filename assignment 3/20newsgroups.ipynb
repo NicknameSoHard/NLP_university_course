{
  "nbformat": 4,
  "nbformat_minor": 0,
  "metadata": {
    "kernelspec": {
      "display_name": "Python 3",
      "language": "python",
      "name": "python3"
    },
    "language_info": {
      "codemirror_mode": {
        "name": "ipython",
        "version": 3
      },
      "file_extension": ".py",
      "mimetype": "text/x-python",
      "name": "python",
      "nbconvert_exporter": "python",
      "pygments_lexer": "ipython3",
      "version": "3.6.9"
    },
    "latex_envs": {
      "LaTeX_envs_menu_present": true,
      "autoclose": false,
      "autocomplete": true,
      "bibliofile": "biblio.bib",
      "cite_by": "apalike",
      "current_citInitial": 1,
      "eqLabelWithNumbers": true,
      "eqNumInitial": 1,
      "hotkeys": {
        "equation": "Ctrl-E",
        "itemize": "Ctrl-I"
      },
      "labels_anchors": false,
      "latex_user_defs": false,
      "report_style_numbering": false,
      "user_envs_cfg": false
    },
    "toc": {
      "base_numbering": 1,
      "nav_menu": {},
      "number_sections": true,
      "sideBar": true,
      "skip_h1_title": false,
      "title_cell": "Table of Contents",
      "title_sidebar": "Contents",
      "toc_cell": false,
      "toc_position": {},
      "toc_section_display": true,
      "toc_window_display": true
    },
    "colab": {
      "name": "20newsgroups.ipynb",
      "provenance": [],
      "collapsed_sections": []
    }
  },
  "cells": [
    {
      "cell_type": "markdown",
      "metadata": {
        "id": "xV53kx7Ddv9B",
        "colab_type": "text"
      },
      "source": [
        "# Тематическая классификация длинных текстов"
      ]
    },
    {
      "cell_type": "code",
      "metadata": {
        "id": "_ZsvVl7Tdv9D",
        "colab_type": "code",
        "colab": {}
      },
      "source": [
        "# Если Вы запускаете ноутбук на colab или kaggle,\n",
        "# выполните следующие строчки, чтобы подгрузить библиотеку dlnlputils:\n",
        "\n",
        "!git clone https://github.com/Samsung-IT-Academy/stepik-dl-nlp.git && pip install -r stepik-dl-nlp/requirements.txt"
      ],
      "execution_count": 0,
      "outputs": []
    },
    {
      "cell_type": "code",
      "metadata": {
        "id": "wbH7aaXipOKI",
        "colab_type": "code",
        "colab": {}
      },
      "source": [
        "import sys; \n",
        "sys.path.append('./stepik-dl-nlp')"
      ],
      "execution_count": 0,
      "outputs": []
    },
    {
      "cell_type": "code",
      "metadata": {
        "ExecuteTime": {
          "end_time": "2019-09-12T12:42:57.265628Z",
          "start_time": "2019-09-12T12:42:55.188211Z"
        },
        "id": "N_efpqSKdv9I",
        "colab_type": "code",
        "colab": {}
      },
      "source": [
        "import warnings\n",
        "warnings.filterwarnings('ignore')\n",
        "\n",
        "from sklearn.datasets import fetch_20newsgroups\n",
        "from sklearn.metrics import accuracy_score\n",
        "\n",
        "import scipy\n",
        "\n",
        "import numpy as np\n",
        "\n",
        "import matplotlib.pyplot as plt\n",
        "%matplotlib inline\n",
        "\n",
        "import collections\n",
        "\n",
        "import torch\n",
        "from torch import nn\n",
        "from torch.nn import functional as F\n",
        "\n",
        "from tqdm import tqdm\n",
        "\n",
        "import re\n",
        "\n",
        "import nltk\n",
        "from nltk.corpus import wordnet\n",
        "\n",
        "import dlnlputils\n",
        "from dlnlputils.data import tokenize_text_simple_regex, tokenize_corpus, build_vocabulary, \\\n",
        "    vectorize_texts, SparseFeaturesDataset\n",
        "from dlnlputils.pipeline import train_eval_loop, predict_with_model, init_random_seed\n",
        "\n",
        "import sklearn\n",
        "\n",
        "nltk.download('averaged_perceptron_tagger')\n",
        "nltk.download('wordnet')\n",
        "init_random_seed()"
      ],
      "execution_count": 0,
      "outputs": []
    },
    {
      "cell_type": "markdown",
      "metadata": {
        "id": "o7FGyq0vdv9N",
        "colab_type": "text"
      },
      "source": [
        "## Предобработка текстов и подготовка признаков"
      ]
    },
    {
      "cell_type": "code",
      "metadata": {
        "ExecuteTime": {
          "end_time": "2019-09-12T12:42:57.847399Z",
          "start_time": "2019-09-12T12:42:57.268037Z"
        },
        "id": "48Mf2_QNdv9N",
        "colab_type": "code",
        "outputId": "35e3348b-82a2-4a0a-c651-cb4b678ce828",
        "colab": {
          "base_uri": "https://localhost:8080/",
          "height": 443
        }
      },
      "source": [
        "train_source = fetch_20newsgroups(subset='train')\n",
        "test_source = fetch_20newsgroups(subset='test')\n",
        "\n",
        "print('Количество обучающих текстов', len(train_source['data']))\n",
        "print('Количество тестовых текстов', len(test_source['data']))\n",
        "print()\n",
        "print(train_source['data'][0].strip())\n",
        "\n",
        "print()\n",
        "print('Метка', train_source['target'][0])"
      ],
      "execution_count": 4,
      "outputs": [
        {
          "output_type": "stream",
          "text": [
            "Downloading 20news dataset. This may take a few minutes.\n",
            "Downloading dataset from https://ndownloader.figshare.com/files/5975967 (14 MB)\n"
          ],
          "name": "stderr"
        },
        {
          "output_type": "stream",
          "text": [
            "Количество обучающих текстов 11314\n",
            "Количество тестовых текстов 7532\n",
            "\n",
            "From: lerxst@wam.umd.edu (where's my thing)\n",
            "Subject: WHAT car is this!?\n",
            "Nntp-Posting-Host: rac3.wam.umd.edu\n",
            "Organization: University of Maryland, College Park\n",
            "Lines: 15\n",
            "\n",
            " I was wondering if anyone out there could enlighten me on this car I saw\n",
            "the other day. It was a 2-door sports car, looked to be from the late 60s/\n",
            "early 70s. It was called a Bricklin. The doors were really small. In addition,\n",
            "the front bumper was separate from the rest of the body. This is \n",
            "all I know. If anyone can tellme a model name, engine specs, years\n",
            "of production, where this car is made, history, or whatever info you\n",
            "have on this funky looking car, please e-mail.\n",
            "\n",
            "Thanks,\n",
            "- IL\n",
            "   ---- brought to you by your neighborhood Lerxst ----\n",
            "\n",
            "Метка 7\n"
          ],
          "name": "stdout"
        }
      ]
    },
    {
      "cell_type": "markdown",
      "metadata": {
        "id": "jz_7Fkv_dv9R",
        "colab_type": "text"
      },
      "source": [
        "### Подготовка признаков"
      ]
    },
    {
      "cell_type": "code",
      "metadata": {
        "ExecuteTime": {
          "end_time": "2019-09-12T12:43:00.294422Z",
          "start_time": "2019-09-12T12:42:57.849386Z"
        },
        "id": "4y2k5WFSdv9S",
        "colab_type": "code",
        "outputId": "01ae2dd6-63f0-47c5-a415-a16ae018f4d5",
        "colab": {
          "base_uri": "https://localhost:8080/",
          "height": 54
        }
      },
      "source": [
        "train_tokenized = tokenize_corpus(train_source['data'])\n",
        "test_tokenized = tokenize_corpus(test_source['data'])\n",
        "\n",
        "print(' '.join(train_tokenized[0]))"
      ],
      "execution_count": 5,
      "outputs": [
        {
          "output_type": "stream",
          "text": [
            "from lerxst where thing subject what this nntp posting host rac3 organization university maryland college park lines wondering anyone there could enlighten this other door sports looked from late early called bricklin doors were really small addition front bumper separate from rest body this know anyone tellme model name engine specs years production where this made history whatever info have this funky looking please mail thanks brought your neighborhood lerxst\n"
          ],
          "name": "stdout"
        }
      ]
    },
    {
      "cell_type": "code",
      "metadata": {
        "id": "pe-desRC0sk-",
        "colab_type": "code",
        "colab": {
          "base_uri": "https://localhost:8080/",
          "height": 52
        },
        "outputId": "3d88ece2-a8af-4b88-8ef7-f6136f8466c3"
      },
      "source": [
        "MAX_DF = 0.8\n",
        "MIN_COUNT = 5 \n",
        "vocabulary, word_doc_freq = build_vocabulary(train_tokenized, max_doc_freq=MAX_DF, min_count=MIN_COUNT)\n",
        "UNIQUE_WORDS_N = len(vocabulary)\n",
        "print('Количество уникальных токенов', UNIQUE_WORDS_N)\n",
        "print(list(vocabulary.items())[:10])"
      ],
      "execution_count": 6,
      "outputs": [
        {
          "output_type": "stream",
          "text": [
            "Количество уникальных токенов 21628\n",
            "[('that', 0), ('this', 1), ('have', 2), ('with', 3), ('writes', 4), ('article', 5), ('posting', 6), ('host', 7), ('nntp', 8), ('there', 9)]\n"
          ],
          "name": "stdout"
        }
      ]
    },
    {
      "cell_type": "markdown",
      "metadata": {
        "id": "gFRYId0jdv9l",
        "colab_type": "text"
      },
      "source": [
        "### Распределение классов"
      ]
    },
    {
      "cell_type": "code",
      "metadata": {
        "ExecuteTime": {
          "end_time": "2019-09-12T12:44:16.864960Z",
          "start_time": "2019-09-12T12:44:16.859476Z"
        },
        "id": "k4r6Mri3dv9l",
        "colab_type": "code",
        "outputId": "c6548edd-e16a-4ab7-d13d-414a2983a36f",
        "colab": {
          "base_uri": "https://localhost:8080/",
          "height": 34
        }
      },
      "source": [
        "UNIQUE_LABELS_N = len(set(train_source['target']))\n",
        "print('Количество уникальных меток', UNIQUE_LABELS_N)"
      ],
      "execution_count": 7,
      "outputs": [
        {
          "output_type": "stream",
          "text": [
            "Количество уникальных меток 20\n"
          ],
          "name": "stdout"
        }
      ]
    },
    {
      "cell_type": "code",
      "metadata": {
        "ExecuteTime": {
          "end_time": "2019-09-12T12:44:17.106036Z",
          "start_time": "2019-09-12T12:44:16.867310Z"
        },
        "id": "KFUTgAIVdv9p",
        "colab_type": "code",
        "outputId": "546c09c1-98ff-4788-c5a7-69c6263b70b8",
        "colab": {
          "base_uri": "https://localhost:8080/",
          "height": 281
        }
      },
      "source": [
        "plt.hist(train_source['target'], bins=np.arange(0, 21))\n",
        "plt.title('Распределение меток в обучающей выборке');"
      ],
      "execution_count": 8,
      "outputs": [
        {
          "output_type": "display_data",
          "data": {
            "image/png": "[encoded data removed]",
            "text/plain": [
              "<Figure size 432x288 with 1 Axes>"
            ]
          },
          "metadata": {
            "tags": [],
            "needs_background": "light"
          }
        }
      ]
    },
    {
      "cell_type": "code",
      "metadata": {
        "ExecuteTime": {
          "end_time": "2019-09-12T12:44:17.312198Z",
          "start_time": "2019-09-12T12:44:17.109884Z"
        },
        "scrolled": true,
        "id": "t0pM-N25dv9s",
        "colab_type": "code",
        "outputId": "010ad67b-fa33-44ac-91d7-3e0bbe930e5f",
        "colab": {
          "base_uri": "https://localhost:8080/",
          "height": 281
        }
      },
      "source": [
        "plt.hist(test_source['target'], bins=np.arange(0, 21))\n",
        "plt.title('Распределение меток в тестовой выборке');"
      ],
      "execution_count": 9,
      "outputs": [
        {
          "output_type": "display_data",
          "data": {
            "image/png": "[encoded data removed]",
            "text/plain": [
              "<Figure size 432x288 with 1 Axes>"
            ]
          },
          "metadata": {
            "tags": [],
            "needs_background": "light"
          }
        }
      ]
    },
    {
      "cell_type": "code",
      "metadata": {
        "ExecuteTime": {
          "end_time": "2019-09-12T12:43:01.524600Z",
          "start_time": "2019-09-12T12:43:00.829107Z"
        },
        "id": "1Km-ngXgdv9Z",
        "colab_type": "code",
        "outputId": "215fbd5e-5b79-4659-881b-cde949118bb0",
        "colab": {
          "base_uri": "https://localhost:8080/",
          "height": 281
        }
      },
      "source": [
        "plt.hist(word_doc_freq, bins=20)\n",
        "plt.title('Распределение относительных частот слов')\n",
        "plt.yscale('log');"
      ],
      "execution_count": 10,
      "outputs": [
        {
          "output_type": "display_data",
          "data": {
            "image/png": "[encoded data removed]",
            "text/plain": [
              "<Figure size 432x288 with 1 Axes>"
            ]
          },
          "metadata": {
            "tags": [],
            "needs_background": "light"
          }
        }
      ]
    },
    {
      "cell_type": "markdown",
      "metadata": {
        "id": "e6QMxbS6I6y_",
        "colab_type": "text"
      },
      "source": [
        "### Функция проверки результата через обучение LogReg"
      ]
    },
    {
      "cell_type": "code",
      "metadata": {
        "id": "QfaxslyOI4qZ",
        "colab_type": "code",
        "colab": {}
      },
      "source": [
        "def test_on_model(train_data, train_target, test_data, test_target, input_size=UNIQUE_WORDS_N, output_size=UNIQUE_LABELS_N):\n",
        "    train_dataset = SparseFeaturesDataset(train_data, train_target)\n",
        "    test_dataset = SparseFeaturesDataset(test_data, test_target)\n",
        "\n",
        "    model = nn.Linear(input_size, output_size)\n",
        "\n",
        "    scheduler = lambda optim: \\\n",
        "        torch.optim.lr_scheduler.ReduceLROnPlateau(optim, patience=5, factor=0.5, verbose=True)\n",
        "\n",
        "    best_val_loss, best_model = train_eval_loop(model=model,\n",
        "                                                train_dataset=train_dataset,\n",
        "                                                val_dataset=test_dataset,\n",
        "                                                criterion=F.cross_entropy,\n",
        "                                                lr=1e-1,\n",
        "                                                epoch_n=200,\n",
        "                                                batch_size=32,\n",
        "                                                l2_reg_alpha=0,\n",
        "                                                lr_scheduler_ctor=scheduler)\n",
        "\n",
        "    test_pred = predict_with_model(best_model, test_dataset)\n",
        "\n",
        "    test_loss = F.cross_entropy(torch.from_numpy(test_pred),\n",
        "                                torch.from_numpy(test_source['target']).long())\n",
        "\n",
        "    loss = float(test_loss)\n",
        "    print('Среднее значение функции потерь на валидации', loss)\n",
        "    accuracy = accuracy_score(test_source['target'], test_pred.argmax(-1))\n",
        "    print('Доля верных ответов', accuracy)\n",
        "    return loss, accuracy"
      ],
      "execution_count": 0,
      "outputs": []
    },
    {
      "cell_type": "markdown",
      "metadata": {
        "id": "YLcabHpGs0Cb",
        "colab_type": "text"
      },
      "source": [
        "### Взвешивание призначов через TFIDF"
      ]
    },
    {
      "cell_type": "code",
      "metadata": {
        "ExecuteTime": {
          "end_time": "2019-09-12T12:44:16.094816Z",
          "start_time": "2019-09-12T12:43:01.526554Z"
        },
        "id": "K4oOQ0Pldv9e",
        "colab_type": "code",
        "outputId": "9509fe7f-f5eb-4577-b734-b3fcd9781e7f",
        "colab": {
          "base_uri": "https://localhost:8080/",
          "height": 158
        }
      },
      "source": [
        "def do_tfidf(train_tokenized, test_tokenized, vocabulary, word_doc_freq):\n",
        "    VECTORIZATION_MODE = 'tfidf'\n",
        "    train_vectors = vectorize_texts(train_tokenized, vocabulary, word_doc_freq, mode=VECTORIZATION_MODE)\n",
        "    test_vectors = vectorize_texts(test_tokenized, vocabulary, word_doc_freq, mode=VECTORIZATION_MODE)\n",
        "    return train_vectors, test_vectors\n",
        "\n",
        "train_vectors, test_vectors = do_tfidf(train_tokenized, test_tokenized, vocabulary, word_doc_freq)\n",
        "\n",
        "print('Размерность матрицы признаков обучающей выборки', train_vectors.shape)\n",
        "print('Размерность матрицы признаков тестовой выборки', test_vectors.shape)\n",
        "print()\n",
        "print('Количество ненулевых элементов в обучающей выборке', train_vectors.nnz)\n",
        "print('Процент заполненности матрицы признаков {:.2f}%'.format(train_vectors.nnz * 100 / (train_vectors.shape[0] * train_vectors.shape[1])))\n",
        "print()\n",
        "print('Количество ненулевых элементов в обучающей выборке', test_vectors.nnz)\n",
        "print('Процент заполненности матрицы признаков {:.2f}%'.format(test_vectors.nnz * 100 / (test_vectors.shape[0] * test_vectors.shape[1])))"
      ],
      "execution_count": 12,
      "outputs": [
        {
          "output_type": "stream",
          "text": [
            "Размерность матрицы признаков обучающей выборки (11314, 21628)\n",
            "Размерность матрицы признаков тестовой выборки (7532, 21628)\n",
            "\n",
            "Количество ненулевых элементов в обучающей выборке 1126792\n",
            "Процент заполненности матрицы признаков 0.46%\n",
            "\n",
            "Количество ненулевых элементов в обучающей выборке 721529\n",
            "Процент заполненности матрицы признаков 0.44%\n"
          ],
          "name": "stdout"
        }
      ]
    },
    {
      "cell_type": "code",
      "metadata": {
        "ExecuteTime": {
          "end_time": "2019-09-12T12:44:16.857114Z",
          "start_time": "2019-09-12T12:44:16.098773Z"
        },
        "id": "Qzj281xMdv9h",
        "colab_type": "code",
        "outputId": "5015e143-0dba-475b-e631-7c1671e7ac0b",
        "colab": {
          "base_uri": "https://localhost:8080/",
          "height": 281
        }
      },
      "source": [
        "plt.hist(train_vectors.data, bins=20)\n",
        "plt.title('Распределение весов признаков')\n",
        "plt.yscale('log');"
      ],
      "execution_count": 13,
      "outputs": [
        {
          "output_type": "display_data",
          "data": {
            "image/png": "[encoded data removed]",
            "text/plain": [
              "<Figure size 432x288 with 1 Axes>"
            ]
          },
          "metadata": {
            "tags": [],
            "needs_background": "light"
          }
        }
      ]
    },
    {
      "cell_type": "code",
      "metadata": {
        "id": "lkP0X6qXJDXr",
        "colab_type": "code",
        "colab": {}
      },
      "source": [
        "tfidf_loss, tfidf_accuracy = test_on_model(train_vectors, train_source['target'], test_vectors, test_source['target'])"
      ],
      "execution_count": 0,
      "outputs": []
    },
    {
      "cell_type": "markdown",
      "metadata": {
        "id": "vlY6z-6ztIPM",
        "colab_type": "text"
      },
      "source": [
        "### TF взвешивание"
      ]
    },
    {
      "cell_type": "code",
      "metadata": {
        "id": "Pyn4dn8xtpPv",
        "colab_type": "code",
        "outputId": "16dfbfce-adff-4ec2-da04-bbff552d23fc",
        "colab": {
          "base_uri": "https://localhost:8080/",
          "height": 52
        }
      },
      "source": [
        "def do_tf(train_tokenized, test_tokenized, vocabulary, word_doc_freq):\n",
        "    VECTORIZATION_MODE = 'tf'\n",
        "    train_vectors = vectorize_texts(train_tokenized, vocabulary, word_doc_freq, mode=VECTORIZATION_MODE)\n",
        "    test_vectors = vectorize_texts(test_tokenized, vocabulary, word_doc_freq, mode=VECTORIZATION_MODE)\n",
        "    return train_vectors, test_vectors\n",
        "\n",
        "train_vectors, test_vectors = do_tf(train_tokenized, test_tokenized, vocabulary, word_doc_freq)\n",
        "\n",
        "print('Размерность матрицы признаков обучающей выборки', train_vectors.shape)\n",
        "print('Размерность матрицы признаков тестовой выборки', test_vectors.shape)"
      ],
      "execution_count": 15,
      "outputs": [
        {
          "output_type": "stream",
          "text": [
            "Размерность матрицы признаков обучающей выборки (11314, 21628)\n",
            "Размерность матрицы признаков тестовой выборки (7532, 21628)\n"
          ],
          "name": "stdout"
        }
      ]
    },
    {
      "cell_type": "code",
      "metadata": {
        "id": "n6j4Q1d7tpZ_",
        "colab_type": "code",
        "outputId": "7118b355-2d51-422b-f35a-9b7453e54cdf",
        "colab": {
          "base_uri": "https://localhost:8080/",
          "height": 281
        }
      },
      "source": [
        "plt.hist(train_vectors.data, bins=20)\n",
        "plt.title('Распределение весов признаков')\n",
        "plt.yscale('log');"
      ],
      "execution_count": 16,
      "outputs": [
        {
          "output_type": "display_data",
          "data": {
            "image/png": "[encoded data removed]",
            "text/plain": [
              "<Figure size 432x288 with 1 Axes>"
            ]
          },
          "metadata": {
            "tags": [],
            "needs_background": "light"
          }
        }
      ]
    },
    {
      "cell_type": "code",
      "metadata": {
        "id": "n2fqPk5YH3yC",
        "colab_type": "code",
        "colab": {}
      },
      "source": [
        "tf_loss, tf_accuracy = test_on_model(train_vectors, train_source['target'], test_vectors, test_source['target'])"
      ],
      "execution_count": 0,
      "outputs": []
    },
    {
      "cell_type": "markdown",
      "metadata": {
        "id": "uitoIrm3tIM_",
        "colab_type": "text"
      },
      "source": [
        "### IDF взвешивание"
      ]
    },
    {
      "cell_type": "code",
      "metadata": {
        "id": "bzr3wZZ5traz",
        "colab_type": "code",
        "outputId": "037b9f05-49fb-4251-bd67-698f847315fe",
        "colab": {
          "base_uri": "https://localhost:8080/",
          "height": 52
        }
      },
      "source": [
        "def do_idf(train_tokenized, test_tokenized, vocabulary, word_doc_freq):\n",
        "    VECTORIZATION_MODE = 'idf'\n",
        "    train_vectors = vectorize_texts(train_tokenized, vocabulary, word_doc_freq, mode=VECTORIZATION_MODE)\n",
        "    test_vectors = vectorize_texts(test_tokenized, vocabulary, word_doc_freq, mode=VECTORIZATION_MODE)\n",
        "    return train_vectors, test_vectors\n",
        "\n",
        "\n",
        "train_vectors, test_vectors = do_idf(train_tokenized, test_tokenized, vocabulary, word_doc_freq)\n",
        "\n",
        "print('Размерность матрицы признаков обучающей выборки', train_vectors.shape)\n",
        "print('Размерность матрицы признаков тестовой выборки', test_vectors.shape)"
      ],
      "execution_count": 18,
      "outputs": [
        {
          "output_type": "stream",
          "text": [
            "Размерность матрицы признаков обучающей выборки (11314, 21628)\n",
            "Размерность матрицы признаков тестовой выборки (7532, 21628)\n"
          ],
          "name": "stdout"
        }
      ]
    },
    {
      "cell_type": "code",
      "metadata": {
        "id": "XGW4hkmetsJ3",
        "colab_type": "code",
        "outputId": "33b01d82-87ae-49be-e7d1-c340d327db60",
        "colab": {
          "base_uri": "https://localhost:8080/",
          "height": 281
        }
      },
      "source": [
        "plt.hist(train_vectors.data, bins=20)\n",
        "plt.title('Распределение весов признаков')\n",
        "plt.yscale('log');"
      ],
      "execution_count": 19,
      "outputs": [
        {
          "output_type": "display_data",
          "data": {
            "image/png": "[encoded data removed]",
            "text/plain": [
              "<Figure size 432x288 with 1 Axes>"
            ]
          },
          "metadata": {
            "tags": [],
            "needs_background": "light"
          }
        }
      ]
    },
    {
      "cell_type": "code",
      "metadata": {
        "id": "tcIEvX6zHtEl",
        "colab_type": "code",
        "colab": {}
      },
      "source": [
        "idf_loss, idf_accuracy = test_on_model(train_vectors, train_source['target'], test_vectors, test_source['target'])"
      ],
      "execution_count": 0,
      "outputs": []
    },
    {
      "cell_type": "markdown",
      "metadata": {
        "id": "y3_TpCYttIJI",
        "colab_type": "text"
      },
      "source": [
        "###  Бинарное взвешивание признаков"
      ]
    },
    {
      "cell_type": "code",
      "metadata": {
        "id": "5znJXmanttiC",
        "colab_type": "code",
        "outputId": "4ad0bbdd-2211-4f9b-b5ef-4f9db9d00bef",
        "colab": {
          "base_uri": "https://localhost:8080/",
          "height": 52
        }
      },
      "source": [
        "def do_bin(train_tokenized, test_tokenized, vocabulary, word_doc_freq):\n",
        "    VECTORIZATION_MODE = 'bin'\n",
        "    train_vectors = vectorize_texts(train_tokenized, vocabulary, word_doc_freq, mode=VECTORIZATION_MODE)\n",
        "    test_vectors = vectorize_texts(test_tokenized, vocabulary, word_doc_freq, mode=VECTORIZATION_MODE)\n",
        "    return train_vectors, test_vectors\n",
        "\n",
        "\n",
        "train_vectors, test_vectors = do_bin(train_tokenized, test_tokenized, vocabulary, word_doc_freq)\n",
        "\n",
        "print('Размерность матрицы признаков обучающей выборки', train_vectors.shape)\n",
        "print('Размерность матрицы признаков тестовой выборки', test_vectors.shape)"
      ],
      "execution_count": 21,
      "outputs": [
        {
          "output_type": "stream",
          "text": [
            "Размерность матрицы признаков обучающей выборки (11314, 21628)\n",
            "Размерность матрицы признаков тестовой выборки (7532, 21628)\n"
          ],
          "name": "stdout"
        }
      ]
    },
    {
      "cell_type": "code",
      "metadata": {
        "id": "haUno-q6ttkp",
        "colab_type": "code",
        "outputId": "a96141f8-e3bc-4182-a50b-7f8a4822ae8d",
        "colab": {
          "base_uri": "https://localhost:8080/",
          "height": 281
        }
      },
      "source": [
        "plt.hist(train_vectors.data, bins=20)\n",
        "plt.title('Распределение весов признаков')\n",
        "plt.yscale('log');"
      ],
      "execution_count": 22,
      "outputs": [
        {
          "output_type": "display_data",
          "data": {
            "image/png": "[encoded data removed]",
            "text/plain": [
              "<Figure size 432x288 with 1 Axes>"
            ]
          },
          "metadata": {
            "tags": [],
            "needs_background": "light"
          }
        }
      ]
    },
    {
      "cell_type": "code",
      "metadata": {
        "id": "gu9_FU1jHq5d",
        "colab_type": "code",
        "colab": {}
      },
      "source": [
        "bin_loss, bin_accuracy = test_on_model(train_vectors, train_source['target'], test_vectors, test_source['target'])"
      ],
      "execution_count": 0,
      "outputs": []
    },
    {
      "cell_type": "markdown",
      "metadata": {
        "id": "uO5nvuKDCwSv",
        "colab_type": "text"
      },
      "source": [
        "### Метод PMI"
      ]
    },
    {
      "cell_type": "code",
      "metadata": {
        "id": "2_uwzDGDM1c7",
        "colab_type": "code",
        "colab": {}
      },
      "source": [
        "def pmi_vectorize_texts(tokenized_texts, text_classes, vocabulary, scale=True):\n",
        "    # считаем количество употреблений каждого слова в каждом классе\n",
        "    unique_num_classes = len(set(text_classes))\n",
        "    classes_var = np.zeros(unique_num_classes) # Считаем частоту употребления классов\n",
        "\n",
        "\n",
        "    words_by_classes_matrix = scipy.sparse.dok_matrix((unique_num_classes, len(vocabulary)), dtype='float32')\n",
        "    words_count_matrix = scipy.sparse.dok_matrix((len(tokenized_texts), len(vocabulary)), dtype='float32')\n",
        "    for text_index, text in enumerate(tokenized_texts):\n",
        "        text_class = text_classes[text_index]\n",
        "        for word in text:\n",
        "            if word in vocabulary:\n",
        "                word_index = vocabulary[word] \n",
        "                words_by_classes_matrix[text_class, word_index] += 1\n",
        "                words_count_matrix[text_index, word_index] += 1\n",
        "                classes_var[text_class - 1 ] += 1 # text_index - 1 т.к. индексы массиве с 0\n",
        "\n",
        "    classes_var /= len(text_classes)\n",
        "\n",
        "    for text_index, text in enumerate(tokenized_texts):\n",
        "        text_class = text_classes[text_index]\n",
        "        p_class = classes_var[text_class - 1]\n",
        "        for word in text:\n",
        "          if word in vocabulary:\n",
        "            word_index = vocabulary[word]\n",
        "            # pmi - вероятность встретить слово в классе / (вероятность встретить слово * вероятность класса)\n",
        "            words_count_matrix[text_index, word_index] = words_by_classes_matrix[text_class, word_index] / (words_count_matrix[text_index, word_index] * p_class)\n",
        "    \n",
        "    if scale:\n",
        "      words_count_matrix = words_count_matrix.tocsc()\n",
        "      words_count_matrix -= words_count_matrix.min()\n",
        "      words_count_matrix /= (words_count_matrix.max() + 1e-6)\n",
        "\n",
        "    return words_count_matrix.tocsr()\n",
        "\n",
        "def do_pmi(train_tokenized, test_tokenized, train_source, test_source, voc):\n",
        "    train_vectors = pmi_vectorize_texts(train_tokenized, text_classes=train_source['target'], vocabulary=voc)\n",
        "    test_vectors = pmi_vectorize_texts(test_tokenized, text_classes=test_source['target'], vocabulary=voc)\n",
        "    return train_vectors, test_vectors\n",
        "\n",
        "#train_vectors, test_vectors = do_pmi(train_tokenized, test_tokenized, train_source, test_source, vocabulary)\n",
        "#print('Размерность матрицы признаков обучающей выборки', train_vectors.shape)\n",
        "#print('Размерность матрицы признаков тестовой выборки', test_vectors.shape)"
      ],
      "execution_count": 0,
      "outputs": []
    },
    {
      "cell_type": "code",
      "metadata": {
        "id": "WlGLA7CSSSBP",
        "colab_type": "code",
        "colab": {
          "base_uri": "https://localhost:8080/",
          "height": 281
        },
        "outputId": "8baebe7f-c40c-479c-85c3-5c50f64f6b94"
      },
      "source": [
        "plt.hist(train_vectors.data, bins=20)\n",
        "plt.title('Распределение весов признаков')\n",
        "plt.yscale('log');"
      ],
      "execution_count": 25,
      "outputs": [
        {
          "output_type": "display_data",
          "data": {
            "image/png": "[encoded data removed]",
            "text/plain": [
              "<Figure size 432x288 with 1 Axes>"
            ]
          },
          "metadata": {
            "tags": [],
            "needs_background": "light"
          }
        }
      ]
    },
    {
      "cell_type": "code",
      "metadata": {
        "id": "JzMik_EdH_rM",
        "colab_type": "code",
        "colab": {}
      },
      "source": [
        "pmi_loss, pmi_accuracy = test_on_model(train_vectors, train_source['target'], test_vectors, test_source['target'])"
      ],
      "execution_count": 0,
      "outputs": []
    },
    {
      "cell_type": "markdown",
      "metadata": {
        "id": "Ih5RyTWEIRMW",
        "colab_type": "text"
      },
      "source": [
        "### LSA"
      ]
    },
    {
      "cell_type": "code",
      "metadata": {
        "id": "aexARJ5uiF7z",
        "colab_type": "code",
        "colab": {
          "base_uri": "https://localhost:8080/",
          "height": 52
        },
        "outputId": "ddee471b-dd81-46f7-86c5-c65b5e559cbe"
      },
      "source": [
        "def lsa_vectorize_texts(svd_model, tokenized_texts, vocabulary):\n",
        "    # считаем количество употреблений каждого слова в каждом классе\n",
        "    words_count_matrix = scipy.sparse.dok_matrix((len(tokenized_texts), len(vocabulary)), dtype='float32')\n",
        "    for text_index, text in enumerate(tokenized_texts):\n",
        "        for word in text:\n",
        "            if word in vocabulary:\n",
        "                words_count_matrix[text_index, vocabulary[word]] += 1\n",
        "\n",
        "    result = svd_model.fit_transform(words_count_matrix)\n",
        "    result = scipy.sparse.dok_matrix(result)\n",
        "    return result.tocsr()\n",
        "\n",
        "def do_lsa(train_tokenized, test_tokenized, vocabulary, n_components):\n",
        "    svd_model = sklearn.decomposition.TruncatedSVD(n_components=n_components, algorithm='randomized', n_iter=100)\n",
        "    train_vectors = lsa_vectorize_texts(svd_model, train_tokenized, vocabulary=vocabulary)\n",
        "    test_vectors = lsa_vectorize_texts(svd_model, test_tokenized, vocabulary=vocabulary)\n",
        "    return train_vectors, test_vectors\n",
        "\n",
        "N_COMPONENS = UNIQUE_LABELS_N\n",
        "train_vectors, test_vectors = do_lsa(train_tokenized, test_tokenized, vocabulary, N_COMPONENS)\n",
        "\n",
        "print('Размерность матрицы признаков обучающей выборки', train_vectors.shape)\n",
        "print('Размерность матрицы признаков тестовой выборки', test_vectors.shape)"
      ],
      "execution_count": 27,
      "outputs": [
        {
          "output_type": "stream",
          "text": [
            "Размерность матрицы признаков обучающей выборки (11314, 20)\n",
            "Размерность матрицы признаков тестовой выборки (7532, 20)\n"
          ],
          "name": "stdout"
        }
      ]
    },
    {
      "cell_type": "code",
      "metadata": {
        "id": "YfD_JQ4YWc8o",
        "colab_type": "code",
        "colab": {}
      },
      "source": [
        "lsa_loss, lsa_accuracy = test_on_model(train_vectors, train_source['target'], test_vectors, test_source['target'], input_size=N_COMPONENS)"
      ],
      "execution_count": 0,
      "outputs": []
    },
    {
      "cell_type": "markdown",
      "metadata": {
        "id": "NLYM-oHjuXOx",
        "colab_type": "text"
      },
      "source": [
        "### Выводы по взвешиванию признаков:\n"
      ]
    },
    {
      "cell_type": "code",
      "metadata": {
        "id": "zA2IYsaaL-Sa",
        "colab_type": "code",
        "colab": {}
      },
      "source": [
        "def print_score(results):\n",
        "    sorted_methods_results = sorted(results, key=lambda x: results[x][1])\n",
        "\n",
        "    print('Методы по возрастанию скора:')\n",
        "    for method_name in sorted_methods_results:\n",
        "        loss, accuracy = results[method_name]\n",
        "        print(f'Метод {method_name}: loss {loss}, accuracy {accuracy}')"
      ],
      "execution_count": 0,
      "outputs": []
    },
    {
      "cell_type": "code",
      "metadata": {
        "id": "JszHmoPJ3Ixy",
        "colab_type": "code",
        "colab": {
          "base_uri": "https://localhost:8080/",
          "height": 141
        },
        "outputId": "aa93399c-6270-4676-d201-3eed6f37a893"
      },
      "source": [
        "methods_results = {\n",
        "    'TFIDF': (tfidf_loss, tfidf_accuracy),\n",
        "    'TF': (tf_loss, tf_accuracy),\n",
        "    'IDF': (idf_loss, idf_accuracy),\n",
        "    'Binary Vectorization': (bin_loss, bin_accuracy),\n",
        "    'PMI': (pmi_loss, pmi_accuracy),\n",
        "    'LSA': (lsa_loss, lsa_accuracy)\n",
        "}\n",
        "\n",
        "print_score(methods_results)"
      ],
      "execution_count": 31,
      "outputs": [
        {
          "output_type": "stream",
          "text": [
            "Методы по возрастанию скора:\n",
            "Метод LSA: loss 10.68907356262207, accuracy 0.058417419012214554\n",
            "Метод Binary Vectorization: loss 3.9019036293029785, accuracy 0.7093733404142326\n",
            "Метод IDF: loss 0.9739583134651184, accuracy 0.7590281465746149\n",
            "Метод TFIDF: loss 0.9288857579231262, accuracy 0.7712426978226234\n",
            "Метод TF: loss 0.6550551652908325, accuracy 0.814922995220393\n",
            "Метод PMI: loss 0.4661864936351776, accuracy 0.8570100902814658\n"
          ],
          "name": "stdout"
        }
      ]
    },
    {
      "cell_type": "markdown",
      "metadata": {
        "id": "is9gpgQCsgYv",
        "colab_type": "text"
      },
      "source": [
        "### Добавим лемматизацию и переобучим три лучших модели"
      ]
    },
    {
      "cell_type": "code",
      "metadata": {
        "id": "7Z7B501YtDQ9",
        "colab_type": "code",
        "colab": {}
      },
      "source": [
        "def get_wordnet_pos(word):\n",
        "    # Определим части речи\n",
        "    tag = nltk.pos_tag([word])[0][1][0].upper()\n",
        "    tag_dict = {\"J\": wordnet.ADJ,\n",
        "                \"N\": wordnet.NOUN,\n",
        "                \"V\": wordnet.VERB,\n",
        "                \"R\": wordnet.ADV}\n",
        "    return tag_dict.get(tag, wordnet.NOUN)\n",
        "\n",
        "def do_lemmatize(text_corpus):\n",
        "    result = list()\n",
        "    lemma = nltk.wordnet.WordNetLemmatizer()\n",
        "    for text in text_corpus:\n",
        "        result.append([lemma.lemmatize(word, get_wordnet_pos(word)) for word in text])\n",
        "    return result\n",
        "\n",
        "train_lemmatize = do_lemmatize(train_tokenized)\n",
        "test_lemmatize = do_lemmatize(test_tokenized)"
      ],
      "execution_count": 0,
      "outputs": []
    },
    {
      "cell_type": "code",
      "metadata": {
        "id": "6N0tofK_snMS",
        "colab_type": "code",
        "colab": {}
      },
      "source": [
        "train_lemmatized_vectors, test_lemmatized_vectors = do_pmi(train_lemmatize, test_lemmatize, train_source, test_source, vocabulary)\n",
        "pmi_lemmatized_loss, pmi_lemmatized_accuracy = test_on_model(train_lemmatized_vectors, train_source['target'], test_lemmatized_vectors, test_source['target'])"
      ],
      "execution_count": 0,
      "outputs": []
    },
    {
      "cell_type": "code",
      "metadata": {
        "id": "t5PH-YhbKYEi",
        "colab_type": "code",
        "colab": {}
      },
      "source": [
        "train_lemmatized_vectors, test_lemmatized_vectors = do_tf(train_lemmatize, test_lemmatize, vocabulary, word_doc_freq)\n",
        "tf_lemmatized_loss, tf_lemmatized_accuracy = test_on_model(train_lemmatized_vectors, train_source['target'], test_lemmatized_vectors, test_source['target'])"
      ],
      "execution_count": 0,
      "outputs": []
    },
    {
      "cell_type": "code",
      "metadata": {
        "id": "88DWNEt5LDe5",
        "colab_type": "code",
        "colab": {}
      },
      "source": [
        "train_lemmatized_vectors, test_lemmatized_vectors = do_tfidf(train_lemmatize, test_lemmatize, vocabulary, word_doc_freq)\n",
        "tfidf_lemmatized_loss, tfidf_lemmatized_accuracy = test_on_model(train_lemmatized_vectors, train_source['target'], test_lemmatized_vectors, test_source['target'])"
      ],
      "execution_count": 0,
      "outputs": []
    },
    {
      "cell_type": "code",
      "metadata": {
        "id": "2DtIIf0jLDai",
        "colab_type": "code",
        "colab": {
          "base_uri": "https://localhost:8080/",
          "height": 87
        },
        "outputId": "767c50d6-ba1e-4c13-9d68-d8f411fdab50"
      },
      "source": [
        "lemmatize_score_models = {\n",
        "    'TFIDF': (tfidf_lemmatized_loss, tfidf_lemmatized_accuracy),\n",
        "    'TF': (tf_lemmatized_loss, tf_lemmatized_accuracy),\n",
        "    'PMI': (pmi_lemmatized_loss, pmi_lemmatized_accuracy),\n",
        "}\n",
        "\n",
        "print_score(lemmatize_score_models)"
      ],
      "execution_count": 36,
      "outputs": [
        {
          "output_type": "stream",
          "text": [
            "Методы по возрастанию скора:\n",
            "Метод TFIDF: loss 0.9130680561065674, accuracy 0.7691184280403611\n",
            "Метод TF: loss 0.6494341492652893, accuracy 0.8153212958045671\n",
            "Метод PMI: loss 0.4532321095466614, accuracy 0.8538236856080722\n"
          ],
          "name": "stdout"
        }
      ]
    },
    {
      "cell_type": "code",
      "metadata": {
        "id": "cmj7xJlEOaSS",
        "colab_type": "code",
        "colab": {
          "base_uri": "https://localhost:8080/",
          "height": 70
        },
        "outputId": "87905271-ac7c-485e-ea19-d71349bf7f3e"
      },
      "source": [
        "for method_name in lemmatize_score_models:\n",
        "    score_diff = lemmatize_score_models[method_name][1] - methods_results[method_name][1]\n",
        "    print(f\"В модели {method_name} результат улучшился на {score_diff}\")"
      ],
      "execution_count": 37,
      "outputs": [
        {
          "output_type": "stream",
          "text": [
            "В модели TFIDF результат улучшился на -0.0021242697822623224\n",
            "В модели TF результат улучшился на 0.00039830058417411607\n",
            "В модели PMI результат улучшился на -0.0031864046733935947\n"
          ],
          "name": "stdout"
        }
      ]
    },
    {
      "cell_type": "markdown",
      "metadata": {
        "id": "QUHVp2mLPbjV",
        "colab_type": "text"
      },
      "source": [
        "### Реализация с извлечением признаком через N-граммы"
      ]
    },
    {
      "cell_type": "code",
      "metadata": {
        "id": "9UXSE2BTPact",
        "colab_type": "code",
        "colab": {}
      },
      "source": [
        "def build_n_gram_for_corpus(corpus, n=3):\n",
        "    result = list()\n",
        "    for text in corpus:\n",
        "        text = text.lower()\n",
        "        text_words = re.findall(r'[\\w\\d]+', text)\n",
        "\n",
        "        n_gram = set()\n",
        "        for word in text_words:\n",
        "            n_gram.update([word[index:index+n] for index in range(len(word) - n + 1)])\n",
        "\n",
        "      result.append(n_gram)\n",
        "\n",
        "    return result\n",
        "\n",
        "train_n_gram = build_n_gram_for_corpus(train_source['data'])\n",
        "test_n_gram = build_n_gram_for_corpus(test_source['data'])"
      ],
      "execution_count": 0,
      "outputs": []
    },
    {
      "cell_type": "code",
      "metadata": {
        "id": "fqSyDMK3Z4hF",
        "colab_type": "code",
        "colab": {
          "base_uri": "https://localhost:8080/",
          "height": 52
        },
        "outputId": "3f6bc9d3-61fc-42b2-dd91-8abc9e00fd9b"
      },
      "source": [
        "MAX_DF = 0.8\n",
        "MIN_COUNT = 5\n",
        "\n",
        "n_gram_vocabulary, n_gram_word_doc_freq = build_vocabulary(train_n_gram, max_doc_freq=MAX_DF, min_count=MIN_COUNT)\n",
        "UNIQUE_N_GRAMM = len(n_gram_vocabulary)\n",
        "print('Количество уникальных н-грамм:', UNIQUE_N_GRAMM)\n",
        "print(list(n_gram_vocabulary.items())[:10])"
      ],
      "execution_count": 46,
      "outputs": [
        {
          "output_type": "stream",
          "text": [
            "Количество уникальных н-грамм: 14299\n",
            "[('hat', 0), ('ers', 1), ('ter', 2), ('com', 3), ('her', 4), ('thi', 5), ('tin', 6), ('sti', 7), ('ent', 8), ('all', 9)]\n"
          ],
          "name": "stdout"
        }
      ]
    },
    {
      "cell_type": "code",
      "metadata": {
        "id": "StqSYWYNaYqq",
        "colab_type": "code",
        "colab": {}
      },
      "source": [
        "train_n_gram_vectors, test_n_gram_vectors = do_pmi(train_n_gram, test_n_gram, train_source, test_source, n_gram_vocabulary)\n",
        "pmi_n_gram_loss, pmi_n_gram_accuracy = test_on_model(train_n_gram_vectors, train_source['target'], test_n_gram_vectors, test_source['target'], input_size=UNIQUE_N_GRAMM)"
      ],
      "execution_count": 0,
      "outputs": []
    },
    {
      "cell_type": "code",
      "metadata": {
        "id": "uWCeBGTdaeeO",
        "colab_type": "code",
        "colab": {}
      },
      "source": [
        "train_n_gram_vectors, test_n_gram_vectors = do_tf(train_n_gram, test_n_gram, n_gram_vocabulary, n_gram_word_doc_freq)\n",
        "tf_n_gram_loss, tf_n_gram_accuracy = test_on_model(train_n_gram_vectors, train_source['target'], test_n_gram_vectors, test_source['target'], input_size=UNIQUE_N_GRAMM)"
      ],
      "execution_count": 0,
      "outputs": []
    },
    {
      "cell_type": "code",
      "metadata": {
        "id": "EB96XMWhaeba",
        "colab_type": "code",
        "colab": {}
      },
      "source": [
        "train_n_gram_vectors, test_n_gram_vectors = do_tfidf(train_n_gram, test_n_gram, n_gram_vocabulary, n_gram_word_doc_freq)\n",
        "tfidf_n_gram_loss, tfidf_n_gram_accuracy = test_on_model(train_n_gram_vectors, train_source['target'], test_n_gram_vectors, test_source['target'], input_size=UNIQUE_N_GRAMM)"
      ],
      "execution_count": 0,
      "outputs": []
    },
    {
      "cell_type": "code",
      "metadata": {
        "id": "iidS7oVXbcuK",
        "colab_type": "code",
        "colab": {
          "base_uri": "https://localhost:8080/",
          "height": 87
        },
        "outputId": "f7c517c7-e0bb-404d-fe5b-d08997064766"
      },
      "source": [
        "n_gram_score_models = {\n",
        "    'TFIDF': (tfidf_n_gram_loss, tfidf_n_gram_accuracy),\n",
        "    'TF': (tf_n_gram_loss, tf_n_gram_accuracy),\n",
        "    'PMI': (pmi_n_gram_loss, pmi_n_gram_accuracy),\n",
        "}\n",
        "\n",
        "print_score(n_gram_score_models)"
      ],
      "execution_count": 47,
      "outputs": [
        {
          "output_type": "stream",
          "text": [
            "Методы по возрастанию скора:\n",
            "Метод TFIDF: loss 1.2517341375350952, accuracy 0.6899893786510887\n",
            "Метод TF: loss 1.1443078517913818, accuracy 0.7522570366436537\n",
            "Метод PMI: loss 0.6275498867034912, accuracy 0.8454593733404142\n"
          ],
          "name": "stdout"
        }
      ]
    },
    {
      "cell_type": "code",
      "metadata": {
        "id": "n1U6Uk9PbmCL",
        "colab_type": "code",
        "colab": {
          "base_uri": "https://localhost:8080/",
          "height": 70
        },
        "outputId": "6485438c-8cd2-4e40-b3db-c87fdc9241a6"
      },
      "source": [
        "for method_name in n_gram_score_models:\n",
        "    score_diff = n_gram_score_models[method_name][1] - lemmatize_score_models[method_name][1]\n",
        "    print(f\"В модели {method_name} по сравнению с результатом лемматизации результат улучшился на {score_diff}\")"
      ],
      "execution_count": 48,
      "outputs": [
        {
          "output_type": "stream",
          "text": [
            "В модели TFIDF по сравнению с результатом лемматизации результат улучшился на -0.07912904938927245\n",
            "В модели TF по сравнению с результатом лемматизации результат улучшился на -0.0630642591609134\n",
            "В модели PMI по сравнению с результатом лемматизации результат улучшился на -0.008364312267657992\n"
          ],
          "name": "stdout"
        }
      ]
    },
    {
      "cell_type": "markdown",
      "metadata": {
        "id": "sZZbbXlUdv9-",
        "colab_type": "text"
      },
      "source": [
        "# Альтернативная реализация обучения на scikit-learn"
      ]
    },
    {
      "cell_type": "code",
      "metadata": {
        "ExecuteTime": {
          "end_time": "2019-09-12T12:46:31.791405Z",
          "start_time": "2019-09-12T12:46:25.107897Z"
        },
        "scrolled": false,
        "id": "gLzfDP0Mdv9_",
        "colab_type": "code",
        "colab": {}
      },
      "source": [
        "from sklearn.feature_extraction.text import TfidfVectorizer\n",
        "from sklearn.pipeline import Pipeline\n",
        "from sklearn.linear_model import LogisticRegression\n",
        "\n",
        "sklearn_pipeline = Pipeline((('vect', TfidfVectorizer(tokenizer=tokenize_text_simple_regex,\n",
        "                                                      max_df=MAX_DF,\n",
        "                                                      min_df=MIN_COUNT)),\n",
        "                             ('cls', LogisticRegression())))\n",
        "sklearn_pipeline.fit(train_source['data'], train_source['target']);"
      ],
      "execution_count": 0,
      "outputs": []
    },
    {
      "cell_type": "code",
      "metadata": {
        "ExecuteTime": {
          "end_time": "2019-09-12T12:46:35.454567Z",
          "start_time": "2019-09-12T12:46:31.792832Z"
        },
        "id": "aGxR1Hx9dv-D",
        "colab_type": "code",
        "outputId": "5ddd2012-8cd8-4830-fba5-4b8a7567e36c",
        "colab": {
          "base_uri": "https://localhost:8080/",
          "height": 105
        }
      },
      "source": [
        "sklearn_train_pred = sklearn_pipeline.predict_proba(train_source['data'])\n",
        "sklearn_train_loss = F.cross_entropy(torch.from_numpy(sklearn_train_pred),\n",
        "                                                 torch.from_numpy(train_source['target']))\n",
        "\n",
        "print('Среднее значение функции потерь на обучении', float(sklearn_train_loss))\n",
        "print('Доля верных ответов', accuracy_score(train_source['target'], sklearn_train_pred.argmax(-1)))\n",
        "print()\n",
        "\n",
        "sklearn_test_pred = sklearn_pipeline.predict_proba(test_source['data'])\n",
        "sklearn_test_loss = F.cross_entropy(torch.from_numpy(sklearn_test_pred),\n",
        "                                                torch.from_numpy(test_source['target']))\n",
        "print('Среднее значение функции потерь на валидации', float(sklearn_test_loss))\n",
        "print('Доля верных ответов', accuracy_score(test_source['target'], sklearn_test_pred.argmax(-1)))"
      ],
      "execution_count": 49,
      "outputs": [
        {
          "output_type": "stream",
          "text": [
            "Среднее значение функции потерь на обучении 2.495478891857855\n",
            "Доля верных ответов 0.9716280714159449\n",
            "\n",
            "Среднее значение функции потерь на валидации 2.653902258233705\n",
            "Доля верных ответов 0.8190387679235263\n"
          ],
          "name": "stdout"
        }
      ]
    }
  ]
}