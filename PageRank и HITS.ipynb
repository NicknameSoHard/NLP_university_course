{
 "cells": [
  {
   "cell_type": "code",
   "execution_count": 1,
   "metadata": {},
   "outputs": [],
   "source": [
    "import os\n",
    "\n",
    "from tqdm import tqdm\n",
    "\n",
    "import numpy as np\n",
    "\n",
    "from bs4 import BeautifulSoup\n",
    "\n",
    "from scipy.sparse import dok_matrix\n",
    "\n",
    "from collections import defaultdict"
   ]
  },
  {
   "cell_type": "markdown",
   "metadata": {},
   "source": [
    "## PageRank"
   ]
  },
  {
   "cell_type": "code",
   "execution_count": 2,
   "metadata": {},
   "outputs": [
    {
     "name": "stderr",
     "output_type": "stream",
     "text": [
      "100%|██████████| 2379/2379 [01:52<00:00, 21.19it/s]\n"
     ]
    }
   ],
   "source": [
    "directory = './raw'\n",
    "\n",
    "files = os.listdir(directory)\n",
    "stored_pages = [page.replace('.html', '') for page in files]\n",
    "\n",
    "all_pages = list()\n",
    "\n",
    "for file in tqdm(files):\n",
    "    filename = os.path.join(directory, file)\n",
    "\n",
    "    with open(filename, 'r') as f:\n",
    "        content = f.read()\n",
    "        soup = BeautifulSoup(content, 'lxml')\n",
    "\n",
    "    titles_on_page = list()\n",
    "    for a_tag in soup.find_all('a'):\n",
    "        title = a_tag.get('title', '')\n",
    "        title = title.replace('_', ' ')\n",
    "        if title in stored_pages:\n",
    "            if title not in titles_on_page:\n",
    "                titles_on_page.append(title)\n",
    "\n",
    "    all_pages.append(titles_on_page)"
   ]
  },
  {
   "cell_type": "code",
   "execution_count": 5,
   "metadata": {},
   "outputs": [
    {
     "name": "stderr",
     "output_type": "stream",
     "text": [
      "100%|██████████| 2379/2379 [00:00<00:00, 3366.32it/s]\n"
     ]
    }
   ],
   "source": [
    "size = len(all_pages)\n",
    "rank_matrix = dok_matrix((size, size), dtype='float32') # Матрица переходов\n",
    "\n",
    "for main_index, main_page in tqdm(enumerate(all_pages), total=size):\n",
    "    for index, title in enumerate(main_page):\n",
    "        if title in stored_pages:\n",
    "            rank_matrix[index, main_index] = 1"
   ]
  },
  {
   "cell_type": "code",
   "execution_count": 8,
   "metadata": {},
   "outputs": [],
   "source": [
    "norm_matrix = dok_matrix((size, size), dtype='float32') # Матрица близости\n",
    "\n",
    "for index, row in enumerate(rank_matrix):\n",
    "    norm_matrix[index] = row / row.sum()"
   ]
  },
  {
   "cell_type": "code",
   "execution_count": 11,
   "metadata": {},
   "outputs": [
    {
     "data": {
      "text/plain": [
       "array([0.00042034, 0.00042034, 0.00042034, ..., 0.00042034, 0.00042034,\n",
       "       0.00042034], dtype=float32)"
      ]
     },
     "execution_count": 11,
     "metadata": {},
     "output_type": "execute_result"
    }
   ],
   "source": [
    "random_walk = np.ones(size, dtype='float32') / size\n",
    "random_walk"
   ]
  },
  {
   "cell_type": "code",
   "execution_count": 12,
   "metadata": {},
   "outputs": [
    {
     "name": "stdout",
     "output_type": "stream",
     "text": [
      "Последняя разница 8.306609103568592e-21 на шаге 200\n"
     ]
    }
   ],
   "source": [
    "# Считаем PageRank\n",
    "\n",
    "def calculate_page_vector(norm_matrix, a=0.80, eps = 1e-20, max_iteration=1000):\n",
    "    new_vector_state = np.ones(size, dtype='float32') / size\n",
    "    norm_M_hat = (a / norm_matrix.shape[0]) + (((1 - a) / len(norm_matrix) * norm_matrix))\n",
    "\n",
    "    for index in range(max_iteration):\n",
    "        last_vector_state = new_vector_state\n",
    "        new_vector_state = np.matmul(last_vector_state, norm_M_hat)\n",
    "        \n",
    "        diff = np.abs((last_vector_state - new_vector_state)).sum()\n",
    "        if diff <= eps:\n",
    "            print(f'Последняя разница {diff} на шаге {index}')\n",
    "            return new_vector_state\n",
    "\n",
    "    return None\n",
    "\n",
    "pagerank_vector = calculate_page_vector(norm_matrix.toarray())"
   ]
  },
  {
   "cell_type": "code",
   "execution_count": 13,
   "metadata": {},
   "outputs": [
    {
     "data": {
      "text/plain": [
       "2379"
      ]
     },
     "execution_count": 13,
     "metadata": {},
     "output_type": "execute_result"
    }
   ],
   "source": [
    "## Проверяем количество ненулевых элементов в векторе\n",
    "len([elem for elem in pagerank_vector if elem > 0])"
   ]
  },
  {
   "cell_type": "code",
   "execution_count": 14,
   "metadata": {},
   "outputs": [],
   "source": [
    "PRINT_TOP = 10\n",
    "\n",
    "most_paged_elements = np.argsort(pagerank_vector)[::-1]\n",
    "\n",
    "most_paged = list()\n",
    "most_paged_armstrong = list()\n",
    "\n",
    "for elem_index in most_paged_elements:\n",
    "    elem = stored_pages[elem_index]\n",
    "    if 'Армстронг' in elem and len(most_paged_armstrong) <= PRINT_TOP:\n",
    "        most_paged_armstrong.append(elem)\n",
    "\n",
    "    if len(most_paged) <= PRINT_TOP:\n",
    "        most_paged.append(elem)\n",
    "\n",
    "    if len(most_paged) >= PRINT_TOP and len(most_paged_armstrong) >= PRINT_TOP:\n",
    "        break"
   ]
  },
  {
   "cell_type": "code",
   "execution_count": 15,
   "metadata": {},
   "outputs": [
    {
     "name": "stdout",
     "output_type": "stream",
     "text": [
      "Топ обычных страниц:\n",
      "Английский_язык\n",
      "США\n",
      "Соединённые_Штаты_Америки\n",
      "1_июля\n",
      "22_октября\n",
      "6_февраля\n",
      "1_января\n",
      "22_июня\n",
      "2_ноября\n",
      "Военный_министр_США\n",
      "4_марта\n",
      "\n",
      "Топ страниц про Армстронгов:\n",
      "Армстронг,_Лэнс\n",
      "Армстронг,_Луи\n",
      "Билли_Джо_Армстронг\n",
      "Армстронг,_Билли_Джо\n",
      "Армстронг,_Нил_Олден\n",
      "Армстронг,_Нил\n",
      "Армстронг,_Джерри\n",
      "Армстронг,_Самира\n",
      "Армстронг_(округ,_Пенсильвания)\n",
      "Армстронг,_Тим\n"
     ]
    }
   ],
   "source": [
    "print('Топ обычных страниц:')\n",
    "for page in most_paged:\n",
    "    print(page)\n",
    "\n",
    "print()\n",
    "print('Топ страниц про Армстронгов:')\n",
    "for page in most_paged_armstrong:\n",
    "    print(page)"
   ]
  },
  {
   "cell_type": "markdown",
   "metadata": {},
   "source": [
    "## HITS"
   ]
  },
  {
   "cell_type": "code",
   "execution_count": 16,
   "metadata": {},
   "outputs": [],
   "source": [
    "def hits(A):\n",
    "    AAt = np.dot(A, A.T)\n",
    "    AtA = np.dot(A.T, A)\n",
    "\n",
    "    h_eig_value, h = np.linalg.eig(AAt)\n",
    "    h_eig_value_argmax = np.argmax(h_eig_value)\n",
    "    h = np.real(h[:,h_eig_value_argmax]).astype(float)\n",
    "\n",
    "    a_eig_value, a = np.linalg.eig(AtA)\n",
    "    a_eig_value_argmax = np.argmax(a_eig_value)\n",
    "    a = np.real(a[:,a_eig_value_argmax]).astype(float)\n",
    "\n",
    "    return a, h"
   ]
  },
  {
   "cell_type": "code",
   "execution_count": 17,
   "metadata": {},
   "outputs": [
    {
     "name": "stdout",
     "output_type": "stream",
     "text": [
      "Топ Authority: Армстронг\n",
      "Армстронг,_Скотт\n",
      "Армстронг,_Джон\n",
      "Пушка_Армстронга\n",
      "Армстронг_(округ)\n",
      "Армстронг_(фамилия)\n",
      "Армстронг\n",
      "Армстронг,_Дебби\n",
      "Армстронг,_Дженни\n",
      "Армстронг,_Джеймс_(борец)\n",
      "Армстронг,_Генри_(боксёр)\n",
      "\n",
      "Топ Hub: Армстронг\n",
      "Армстронг,_Самира\n",
      "Пушка_Армстронга\n",
      "Армстронг,_Би_Джей\n",
      "Армстронг,_Джо\n",
      "Армстронг,_Джон\n",
      "Армстронг,_Алан\n",
      "Армстронг,_Дэвид\n",
      "Армстронг,_Рой_Фрейзер\n",
      "Армстронг,_Генри_(боксёр)\n",
      "Армстронг_(округ,_Пенсильвания)\n"
     ]
    }
   ],
   "source": [
    "M = norm_matrix.toarray()\n",
    "\n",
    "armstrong_indexes = [stored_pages.index(k) for k in stored_pages if \"Армстронг\" in k]\n",
    "\n",
    "A = np.zeros(M.shape)\n",
    "A[armstrong_indexes] = M[armstrong_indexes]\n",
    "A[:,armstrong_indexes] = M[:,armstrong_indexes]\n",
    "\n",
    "authority, hubs = hits(A)\n",
    "authority = authority[armstrong_indexes]\n",
    "hubs = hubs[armstrong_indexes]\n",
    "\n",
    "sort_buf = np.array([authority, armstrong_indexes]).T\n",
    "sort_buf = sort_buf[sort_buf[:,0].argsort()]\n",
    "idx_authority_sort = sort_buf[:,1][::-1].astype(int)\n",
    "\n",
    "print(\"Топ Authority: Армстронг\")\n",
    "for i in range(10):\n",
    "    print(stored_pages[idx_authority_sort[i]])\n",
    "\n",
    "print()\n",
    "\n",
    "sort_buf = np.array([hubs, armstrong_indexes]).T\n",
    "sort_buf = sort_buf[sort_buf[:,0].argsort()]\n",
    "idx_hub_sort = sort_buf[:,1][::-1].astype(int)\n",
    "\n",
    "print(\"Топ Hub: Армстронг\")\n",
    "for i in range(10):\n",
    "    print(stored_pages[idx_hub_sort[i]])"
   ]
  }
 ],
 "metadata": {
  "kernelspec": {
   "display_name": "Python 3",
   "language": "python",
   "name": "python3"
  },
  "language_info": {
   "codemirror_mode": {
    "name": "ipython",
    "version": 3
   },
   "file_extension": ".py",
   "mimetype": "text/x-python",
   "name": "python",
   "nbconvert_exporter": "python",
   "pygments_lexer": "ipython3",
   "version": "3.8.2"
  }
 },
 "nbformat": 4,
 "nbformat_minor": 4
}
