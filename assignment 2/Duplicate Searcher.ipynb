{
 "cells": [
  {
   "cell_type": "code",
   "execution_count": 1,
   "metadata": {},
   "outputs": [],
   "source": [
    "import pandas as pd\n",
    "import re\n",
    "from tqdm import tqdm\n",
    "\n",
    "tqdm.pandas()"
   ]
  },
  {
   "cell_type": "markdown",
   "metadata": {},
   "source": [
    "## Задаем гиперпараметры"
   ]
  },
  {
   "cell_type": "code",
   "execution_count": 2,
   "metadata": {},
   "outputs": [],
   "source": [
    "N = 50 # numver of samples to compare\n",
    "SIMILAR_INDEX = 0.3 # using for detecting similar news "
   ]
  },
  {
   "cell_type": "markdown",
   "metadata": {},
   "source": [
    "### Готовим данные"
   ]
  },
  {
   "cell_type": "code",
   "execution_count": 3,
   "metadata": {},
   "outputs": [
    {
     "data": {
      "text/html": [
       "<div>\n",
       "<style scoped>\n",
       "    .dataframe tbody tr th:only-of-type {\n",
       "        vertical-align: middle;\n",
       "    }\n",
       "\n",
       "    .dataframe tbody tr th {\n",
       "        vertical-align: top;\n",
       "    }\n",
       "\n",
       "    .dataframe thead th {\n",
       "        text-align: right;\n",
       "    }\n",
       "</style>\n",
       "<table border=\"1\" class=\"dataframe\">\n",
       "  <thead>\n",
       "    <tr style=\"text-align: right;\">\n",
       "      <th></th>\n",
       "      <th>Unnamed: 0</th>\n",
       "      <th>title</th>\n",
       "      <th>content</th>\n",
       "      <th>url</th>\n",
       "      <th>source</th>\n",
       "    </tr>\n",
       "  </thead>\n",
       "  <tbody>\n",
       "    <tr>\n",
       "      <th>0</th>\n",
       "      <td>0</td>\n",
       "      <td>Майкл Джордан признан лучшим игроком в истории...</td>\n",
       "      <td>Двукратный олимпийский чемпион, американец Май...</td>\n",
       "      <td>http://www.vesti.ru/doc.html?id=3264755</td>\n",
       "      <td>VestiNewsParser</td>\n",
       "    </tr>\n",
       "    <tr>\n",
       "      <th>1</th>\n",
       "      <td>1</td>\n",
       "      <td>ОАК сократила сроки импортозамещения компонент...</td>\n",
       "      <td>\"Объединенная авиастроительная корпорация\" (ОА...</td>\n",
       "      <td>http://www.vesti.ru/doc.html?id=3264736</td>\n",
       "      <td>VestiNewsParser</td>\n",
       "    </tr>\n",
       "    <tr>\n",
       "      <th>2</th>\n",
       "      <td>2</td>\n",
       "      <td>Китай выступил против продажи Францией оружия ...</td>\n",
       "      <td>Китай предупредил Францию, чтобы та не продава...</td>\n",
       "      <td>http://www.vesti.ru/doc.html?id=3264743</td>\n",
       "      <td>VestiNewsParser</td>\n",
       "    </tr>\n",
       "    <tr>\n",
       "      <th>3</th>\n",
       "      <td>3</td>\n",
       "      <td>В Чувашии на оснащение \"Точек  роста\" выделят ...</td>\n",
       "      <td>В Чувашии на базе 42 школ создадут Центры обра...</td>\n",
       "      <td>http://www.vesti.ru/doc.html?id=3264744</td>\n",
       "      <td>VestiNewsParser</td>\n",
       "    </tr>\n",
       "    <tr>\n",
       "      <th>4</th>\n",
       "      <td>4</td>\n",
       "      <td>Следовавший из Петербурга в Уфу самолет \"Росси...</td>\n",
       "      <td>Вылетевший из Санкт-Петербурга в Уфу самолет а...</td>\n",
       "      <td>http://www.vesti.ru/doc.html?id=3264746</td>\n",
       "      <td>VestiNewsParser</td>\n",
       "    </tr>\n",
       "  </tbody>\n",
       "</table>\n",
       "</div>"
      ],
      "text/plain": [
       "   Unnamed: 0                                              title  \\\n",
       "0           0  Майкл Джордан признан лучшим игроком в истории...   \n",
       "1           1  ОАК сократила сроки импортозамещения компонент...   \n",
       "2           2  Китай выступил против продажи Францией оружия ...   \n",
       "3           3  В Чувашии на оснащение \"Точек  роста\" выделят ...   \n",
       "4           4  Следовавший из Петербурга в Уфу самолет \"Росси...   \n",
       "\n",
       "                                             content  \\\n",
       "0  Двукратный олимпийский чемпион, американец Май...   \n",
       "1  \"Объединенная авиастроительная корпорация\" (ОА...   \n",
       "2  Китай предупредил Францию, чтобы та не продава...   \n",
       "3  В Чувашии на базе 42 школ создадут Центры обра...   \n",
       "4  Вылетевший из Санкт-Петербурга в Уфу самолет а...   \n",
       "\n",
       "                                       url           source  \n",
       "0  http://www.vesti.ru/doc.html?id=3264755  VestiNewsParser  \n",
       "1  http://www.vesti.ru/doc.html?id=3264736  VestiNewsParser  \n",
       "2  http://www.vesti.ru/doc.html?id=3264743  VestiNewsParser  \n",
       "3  http://www.vesti.ru/doc.html?id=3264744  VestiNewsParser  \n",
       "4  http://www.vesti.ru/doc.html?id=3264746  VestiNewsParser  "
      ]
     },
     "execution_count": 3,
     "metadata": {},
     "output_type": "execute_result"
    }
   ],
   "source": [
    "data = pd.read_csv('news.csv.gzip', sep=';', compression='gzip')\n",
    "data.head()"
   ]
  },
  {
   "cell_type": "code",
   "execution_count": 3,
   "metadata": {},
   "outputs": [
    {
     "data": {
      "text/plain": [
       "(900, 4)"
      ]
     },
     "execution_count": 3,
     "metadata": {},
     "output_type": "execute_result"
    }
   ],
   "source": [
    "number_rows_from_other_sources = 300\n",
    "\n",
    "d = pd.DataFrame()\n",
    "for source in data['source'].unique():\n",
    "    d = pd.concat([d, data[data['source'] == source][:number_rows_from_other_sources]], ignore_index=True)\n",
    "\n",
    "data = d\n",
    "data.shape"
   ]
  },
  {
   "cell_type": "code",
   "execution_count": 4,
   "metadata": {},
   "outputs": [
    {
     "name": "stdout",
     "output_type": "stream",
     "text": [
      "['В_Чувашии_', '_Чувашии_н', 'Чувашии_на', 'увашии_на_', 'вашии_на_о', 'ашии_на_ос', 'шии_на_осн', 'ии_на_осна', 'и_на_оснащ', '_на_оснаще', 'на_оснащен', 'а_оснащени', '_оснащение', 'оснащение_', 'снащение_\"', 'нащение_\"Т', 'ащение_\"То', 'щение_\"Точ', 'ение_\"Точе', 'ние_\"Точек', 'ие_\"Точек_', 'е_\"Точек_р', '_\"Точек_ро', '\"Точек_рос', 'Точек_рост', 'очек_роста', 'чек_роста\"', 'ек_роста\"_', 'к_роста\"_в', '_роста\"_в', 'роста\"_в', 'оста\"_в', 'ста\"_в', 'та\"_в', 'а\"_в', '\"_в', '_в', 'в']\n"
     ]
    }
   ],
   "source": [
    "def get_shinglers(text, N):\n",
    "    shinglers_list = list()\n",
    "\n",
    "    text = re.sub(r\"\\s{1,}\", '_', text)  # Replace 1 or more spaces on _\n",
    "    \n",
    "    text_length = len(text)\n",
    "    for index in range(text_length):\n",
    "        shingler_end = index + N\n",
    "        if shingler_end > text_length:\n",
    "            shingler_end = text_length - index\n",
    "        shingler = text[index:index+N]\n",
    "        shinglers_list.append(shingler)\n",
    "    \n",
    "    return shinglers_list\n",
    "\n",
    "\n",
    "print(get_shinglers('В Чувашии   на оснащение    \"Точек роста\" в', 10)) # testing"
   ]
  },
  {
   "cell_type": "code",
   "execution_count": 5,
   "metadata": {},
   "outputs": [
    {
     "name": "stderr",
     "output_type": "stream",
     "text": [
      "100%|██████████| 15000/15000 [00:00<00:00, 31625.42it/s]\n"
     ]
    },
    {
     "data": {
      "text/html": [
       "<div>\n",
       "<style scoped>\n",
       "    .dataframe tbody tr th:only-of-type {\n",
       "        vertical-align: middle;\n",
       "    }\n",
       "\n",
       "    .dataframe tbody tr th {\n",
       "        vertical-align: top;\n",
       "    }\n",
       "\n",
       "    .dataframe thead th {\n",
       "        text-align: right;\n",
       "    }\n",
       "</style>\n",
       "<table border=\"1\" class=\"dataframe\">\n",
       "  <thead>\n",
       "    <tr style=\"text-align: right;\">\n",
       "      <th></th>\n",
       "      <th>Unnamed: 0</th>\n",
       "      <th>title</th>\n",
       "      <th>content</th>\n",
       "      <th>url</th>\n",
       "      <th>source</th>\n",
       "      <th>shinglers</th>\n",
       "    </tr>\n",
       "  </thead>\n",
       "  <tbody>\n",
       "    <tr>\n",
       "      <th>0</th>\n",
       "      <td>0</td>\n",
       "      <td>Майкл Джордан признан лучшим игроком в истории...</td>\n",
       "      <td>Двукратный олимпийский чемпион, американец Май...</td>\n",
       "      <td>http://www.vesti.ru/doc.html?id=3264755</td>\n",
       "      <td>VestiNewsParser</td>\n",
       "      <td>[Майкл, айкл_, йкл_Д, кл_Дж, л_Джо, _Джор, Джо...</td>\n",
       "    </tr>\n",
       "    <tr>\n",
       "      <th>1</th>\n",
       "      <td>1</td>\n",
       "      <td>ОАК сократила сроки импортозамещения компонент...</td>\n",
       "      <td>\"Объединенная авиастроительная корпорация\" (ОА...</td>\n",
       "      <td>http://www.vesti.ru/doc.html?id=3264736</td>\n",
       "      <td>VestiNewsParser</td>\n",
       "      <td>[ОАК_с, АК_со, К_сок, _сокр, сокра, ократ, кра...</td>\n",
       "    </tr>\n",
       "    <tr>\n",
       "      <th>2</th>\n",
       "      <td>2</td>\n",
       "      <td>Китай выступил против продажи Францией оружия ...</td>\n",
       "      <td>Китай предупредил Францию, чтобы та не продава...</td>\n",
       "      <td>http://www.vesti.ru/doc.html?id=3264743</td>\n",
       "      <td>VestiNewsParser</td>\n",
       "      <td>[Китай, итай_, тай_в, ай_вы, й_выс, _выст, выс...</td>\n",
       "    </tr>\n",
       "    <tr>\n",
       "      <th>3</th>\n",
       "      <td>3</td>\n",
       "      <td>В Чувашии на оснащение \"Точек  роста\" выделят ...</td>\n",
       "      <td>В Чувашии на базе 42 школ создадут Центры обра...</td>\n",
       "      <td>http://www.vesti.ru/doc.html?id=3264744</td>\n",
       "      <td>VestiNewsParser</td>\n",
       "      <td>[В_Чув, _Чува, Чуваш, уваши, вашии, ашии_, шии...</td>\n",
       "    </tr>\n",
       "    <tr>\n",
       "      <th>4</th>\n",
       "      <td>4</td>\n",
       "      <td>Следовавший из Петербурга в Уфу самолет \"Росси...</td>\n",
       "      <td>Вылетевший из Санкт-Петербурга в Уфу самолет а...</td>\n",
       "      <td>http://www.vesti.ru/doc.html?id=3264746</td>\n",
       "      <td>VestiNewsParser</td>\n",
       "      <td>[Следо, ледов, едова, довав, овавш, вавши, авш...</td>\n",
       "    </tr>\n",
       "  </tbody>\n",
       "</table>\n",
       "</div>"
      ],
      "text/plain": [
       "   Unnamed: 0                                              title  \\\n",
       "0           0  Майкл Джордан признан лучшим игроком в истории...   \n",
       "1           1  ОАК сократила сроки импортозамещения компонент...   \n",
       "2           2  Китай выступил против продажи Францией оружия ...   \n",
       "3           3  В Чувашии на оснащение \"Точек  роста\" выделят ...   \n",
       "4           4  Следовавший из Петербурга в Уфу самолет \"Росси...   \n",
       "\n",
       "                                             content  \\\n",
       "0  Двукратный олимпийский чемпион, американец Май...   \n",
       "1  \"Объединенная авиастроительная корпорация\" (ОА...   \n",
       "2  Китай предупредил Францию, чтобы та не продава...   \n",
       "3  В Чувашии на базе 42 школ создадут Центры обра...   \n",
       "4  Вылетевший из Санкт-Петербурга в Уфу самолет а...   \n",
       "\n",
       "                                       url           source  \\\n",
       "0  http://www.vesti.ru/doc.html?id=3264755  VestiNewsParser   \n",
       "1  http://www.vesti.ru/doc.html?id=3264736  VestiNewsParser   \n",
       "2  http://www.vesti.ru/doc.html?id=3264743  VestiNewsParser   \n",
       "3  http://www.vesti.ru/doc.html?id=3264744  VestiNewsParser   \n",
       "4  http://www.vesti.ru/doc.html?id=3264746  VestiNewsParser   \n",
       "\n",
       "                                           shinglers  \n",
       "0  [Майкл, айкл_, йкл_Д, кл_Дж, л_Джо, _Джор, Джо...  \n",
       "1  [ОАК_с, АК_со, К_сок, _сокр, сокра, ократ, кра...  \n",
       "2  [Китай, итай_, тай_в, ай_вы, й_выс, _выст, выс...  \n",
       "3  [В_Чув, _Чува, Чуваш, уваши, вашии, ашии_, шии...  \n",
       "4  [Следо, ледов, едова, довав, овавш, вавши, авш...  "
      ]
     },
     "execution_count": 5,
     "metadata": {},
     "output_type": "execute_result"
    }
   ],
   "source": [
    "data['shinglers'] = data['title'].progress_apply(get_shinglers, args=(5,))\n",
    "data.head()"
   ]
  },
  {
   "cell_type": "code",
   "execution_count": 6,
   "metadata": {},
   "outputs": [
    {
     "name": "stdout",
     "output_type": "stream",
     "text": [
      "Всего шинглеров: 1101178\n",
      "Уникальных: 123308\n"
     ]
    }
   ],
   "source": [
    "all_shinglers = list()\n",
    "\n",
    "for sh in data['shinglers']:\n",
    "    all_shinglers.extend(sh)\n",
    "\n",
    "print(f\"Всего шинглеров: {len(all_shinglers)}\")\n",
    "all_shinglers = set(all_shinglers)\n",
    "print(f\"Уникальных: {len(all_shinglers)}\")"
   ]
  },
  {
   "cell_type": "markdown",
   "metadata": {},
   "source": [
    "## Basic Minshingle"
   ]
  },
  {
   "cell_type": "code",
   "execution_count": 7,
   "metadata": {},
   "outputs": [
    {
     "name": "stderr",
     "output_type": "stream",
     "text": [
      "100%|██████████| 15000/15000 [00:00<00:00, 136328.01it/s]\n"
     ]
    }
   ],
   "source": [
    "## This method work only if you have >25GB RAM\n",
    "\n",
    "#new_rows = [{key: 1 for key in row} for row in tqdm(list(data['shinglers']))]\n",
    "#shinglers_matrix = pd.DataFrame(new_rows, columns=all_shinglers)"
   ]
  },
  {
   "cell_type": "code",
   "execution_count": null,
   "metadata": {},
   "outputs": [],
   "source": [
    "shinglers_matrix = pd.DataFrame(columns=all_shinglers)\n",
    "\n",
    "for _, row in data.iterrows():\n",
    "    new_row = {key: 1 for key in row['shinglers']}\n",
    "    new_row['title'] = row['title']\n",
    "    shinglers_matrix = shinglers_matrix.append([new_row], ignore_index=True)"
   ]
  },
  {
   "cell_type": "code",
   "execution_count": 8,
   "metadata": {},
   "outputs": [
    {
     "data": {
      "text/html": [
       "<div>\n",
       "<style scoped>\n",
       "    .dataframe tbody tr th:only-of-type {\n",
       "        vertical-align: middle;\n",
       "    }\n",
       "\n",
       "    .dataframe tbody tr th {\n",
       "        vertical-align: top;\n",
       "    }\n",
       "\n",
       "    .dataframe thead th {\n",
       "        text-align: right;\n",
       "    }\n",
       "</style>\n",
       "<table border=\"1\" class=\"dataframe\">\n",
       "  <thead>\n",
       "    <tr style=\"text-align: right;\">\n",
       "      <th></th>\n",
       "      <th>в_вре</th>\n",
       "      <th>яет_т</th>\n",
       "      <th>ют,_к</th>\n",
       "      <th>о_смя</th>\n",
       "      <th>иптиз</th>\n",
       "      <th>то_да</th>\n",
       "      <th>ентке</th>\n",
       "      <th>нитар</th>\n",
       "      <th>ю_кры</th>\n",
       "      <th>рня_в</th>\n",
       "      <th>...</th>\n",
       "      <th>ика_У</th>\n",
       "      <th>женер</th>\n",
       "      <th>-порн</th>\n",
       "      <th>жайши</th>\n",
       "      <th>ер_Кэ</th>\n",
       "      <th>уанов</th>\n",
       "      <th>знак_</th>\n",
       "      <th>ел_и_</th>\n",
       "      <th>дкой:</th>\n",
       "      <th>я_обя</th>\n",
       "    </tr>\n",
       "  </thead>\n",
       "  <tbody>\n",
       "    <tr>\n",
       "      <th>0</th>\n",
       "      <td>0.0</td>\n",
       "      <td>0.0</td>\n",
       "      <td>0.0</td>\n",
       "      <td>0.0</td>\n",
       "      <td>0.0</td>\n",
       "      <td>0.0</td>\n",
       "      <td>0.0</td>\n",
       "      <td>0.0</td>\n",
       "      <td>0.0</td>\n",
       "      <td>0.0</td>\n",
       "      <td>...</td>\n",
       "      <td>0.0</td>\n",
       "      <td>0.0</td>\n",
       "      <td>0.0</td>\n",
       "      <td>0.0</td>\n",
       "      <td>0.0</td>\n",
       "      <td>0.0</td>\n",
       "      <td>0.0</td>\n",
       "      <td>0.0</td>\n",
       "      <td>0.0</td>\n",
       "      <td>0.0</td>\n",
       "    </tr>\n",
       "    <tr>\n",
       "      <th>1</th>\n",
       "      <td>0.0</td>\n",
       "      <td>0.0</td>\n",
       "      <td>0.0</td>\n",
       "      <td>0.0</td>\n",
       "      <td>0.0</td>\n",
       "      <td>0.0</td>\n",
       "      <td>0.0</td>\n",
       "      <td>0.0</td>\n",
       "      <td>0.0</td>\n",
       "      <td>0.0</td>\n",
       "      <td>...</td>\n",
       "      <td>0.0</td>\n",
       "      <td>0.0</td>\n",
       "      <td>0.0</td>\n",
       "      <td>0.0</td>\n",
       "      <td>0.0</td>\n",
       "      <td>0.0</td>\n",
       "      <td>0.0</td>\n",
       "      <td>0.0</td>\n",
       "      <td>0.0</td>\n",
       "      <td>0.0</td>\n",
       "    </tr>\n",
       "    <tr>\n",
       "      <th>2</th>\n",
       "      <td>0.0</td>\n",
       "      <td>0.0</td>\n",
       "      <td>0.0</td>\n",
       "      <td>0.0</td>\n",
       "      <td>0.0</td>\n",
       "      <td>0.0</td>\n",
       "      <td>0.0</td>\n",
       "      <td>0.0</td>\n",
       "      <td>0.0</td>\n",
       "      <td>0.0</td>\n",
       "      <td>...</td>\n",
       "      <td>0.0</td>\n",
       "      <td>0.0</td>\n",
       "      <td>0.0</td>\n",
       "      <td>0.0</td>\n",
       "      <td>0.0</td>\n",
       "      <td>0.0</td>\n",
       "      <td>0.0</td>\n",
       "      <td>0.0</td>\n",
       "      <td>0.0</td>\n",
       "      <td>0.0</td>\n",
       "    </tr>\n",
       "    <tr>\n",
       "      <th>3</th>\n",
       "      <td>0.0</td>\n",
       "      <td>0.0</td>\n",
       "      <td>0.0</td>\n",
       "      <td>0.0</td>\n",
       "      <td>0.0</td>\n",
       "      <td>0.0</td>\n",
       "      <td>0.0</td>\n",
       "      <td>0.0</td>\n",
       "      <td>0.0</td>\n",
       "      <td>0.0</td>\n",
       "      <td>...</td>\n",
       "      <td>0.0</td>\n",
       "      <td>0.0</td>\n",
       "      <td>0.0</td>\n",
       "      <td>0.0</td>\n",
       "      <td>0.0</td>\n",
       "      <td>0.0</td>\n",
       "      <td>0.0</td>\n",
       "      <td>0.0</td>\n",
       "      <td>0.0</td>\n",
       "      <td>0.0</td>\n",
       "    </tr>\n",
       "    <tr>\n",
       "      <th>4</th>\n",
       "      <td>0.0</td>\n",
       "      <td>0.0</td>\n",
       "      <td>0.0</td>\n",
       "      <td>0.0</td>\n",
       "      <td>0.0</td>\n",
       "      <td>0.0</td>\n",
       "      <td>0.0</td>\n",
       "      <td>0.0</td>\n",
       "      <td>0.0</td>\n",
       "      <td>0.0</td>\n",
       "      <td>...</td>\n",
       "      <td>0.0</td>\n",
       "      <td>0.0</td>\n",
       "      <td>0.0</td>\n",
       "      <td>0.0</td>\n",
       "      <td>0.0</td>\n",
       "      <td>0.0</td>\n",
       "      <td>0.0</td>\n",
       "      <td>0.0</td>\n",
       "      <td>0.0</td>\n",
       "      <td>0.0</td>\n",
       "    </tr>\n",
       "  </tbody>\n",
       "</table>\n",
       "<p>5 rows × 123308 columns</p>\n",
       "</div>"
      ],
      "text/plain": [
       "   в_вре  яет_т  ют,_к  о_смя  иптиз  то_да  ентке  нитар  ю_кры  рня_в  ...  \\\n",
       "0    0.0    0.0    0.0    0.0    0.0    0.0    0.0    0.0    0.0    0.0  ...   \n",
       "1    0.0    0.0    0.0    0.0    0.0    0.0    0.0    0.0    0.0    0.0  ...   \n",
       "2    0.0    0.0    0.0    0.0    0.0    0.0    0.0    0.0    0.0    0.0  ...   \n",
       "3    0.0    0.0    0.0    0.0    0.0    0.0    0.0    0.0    0.0    0.0  ...   \n",
       "4    0.0    0.0    0.0    0.0    0.0    0.0    0.0    0.0    0.0    0.0  ...   \n",
       "\n",
       "   ика_У  женер  -порн  жайши  ер_Кэ  уанов  знак_  ел_и_  дкой:  я_обя  \n",
       "0    0.0    0.0    0.0    0.0    0.0    0.0    0.0    0.0    0.0    0.0  \n",
       "1    0.0    0.0    0.0    0.0    0.0    0.0    0.0    0.0    0.0    0.0  \n",
       "2    0.0    0.0    0.0    0.0    0.0    0.0    0.0    0.0    0.0    0.0  \n",
       "3    0.0    0.0    0.0    0.0    0.0    0.0    0.0    0.0    0.0    0.0  \n",
       "4    0.0    0.0    0.0    0.0    0.0    0.0    0.0    0.0    0.0    0.0  \n",
       "\n",
       "[5 rows x 123308 columns]"
      ]
     },
     "execution_count": 8,
     "metadata": {},
     "output_type": "execute_result"
    }
   ],
   "source": [
    "#shinglers_matrix = shinglers_matrix.set_index('title')\n",
    "shinglers_matrix = shinglers_matrix.fillna(0)\n",
    "shinglers_matrix.head()"
   ]
  },
  {
   "cell_type": "code",
   "execution_count": 9,
   "metadata": {},
   "outputs": [],
   "source": [
    "shinglers_matrix.to_csv('shinglers_matrix.csv.gzip', sep=';', compression='gzip')"
   ]
  },
  {
   "cell_type": "markdown",
   "metadata": {},
   "source": [
    "### Реализация"
   ]
  },
  {
   "cell_type": "code",
   "execution_count": 10,
   "metadata": {},
   "outputs": [
    {
     "name": "stderr",
     "output_type": "stream",
     "text": [
      "100%|██████████| 50/50 [2:34:36<00:00, 185.53s/it]  \n"
     ]
    },
    {
     "data": {
      "text/html": [
       "<div>\n",
       "<style scoped>\n",
       "    .dataframe tbody tr th:only-of-type {\n",
       "        vertical-align: middle;\n",
       "    }\n",
       "\n",
       "    .dataframe tbody tr th {\n",
       "        vertical-align: top;\n",
       "    }\n",
       "\n",
       "    .dataframe thead th {\n",
       "        text-align: right;\n",
       "    }\n",
       "</style>\n",
       "<table border=\"1\" class=\"dataframe\">\n",
       "  <thead>\n",
       "    <tr style=\"text-align: right;\">\n",
       "      <th></th>\n",
       "      <th>Unnamed: 0</th>\n",
       "      <th>title</th>\n",
       "      <th>content</th>\n",
       "      <th>url</th>\n",
       "      <th>source</th>\n",
       "      <th>shinglers</th>\n",
       "      <th>minshingle</th>\n",
       "    </tr>\n",
       "  </thead>\n",
       "  <tbody>\n",
       "    <tr>\n",
       "      <th>0</th>\n",
       "      <td>0</td>\n",
       "      <td>Майкл Джордан признан лучшим игроком в истории...</td>\n",
       "      <td>Двукратный олимпийский чемпион, американец Май...</td>\n",
       "      <td>http://www.vesti.ru/doc.html?id=3264755</td>\n",
       "      <td>VestiNewsParser</td>\n",
       "      <td>[Майкл, айкл_, йкл_Д, кл_Дж, л_Джо, _Джор, Джо...</td>\n",
       "      <td>[442, 1321, 2603, 4912, 2971, 2328, 1270, 672,...</td>\n",
       "    </tr>\n",
       "    <tr>\n",
       "      <th>1</th>\n",
       "      <td>1</td>\n",
       "      <td>ОАК сократила сроки импортозамещения компонент...</td>\n",
       "      <td>\"Объединенная авиастроительная корпорация\" (ОА...</td>\n",
       "      <td>http://www.vesti.ru/doc.html?id=3264736</td>\n",
       "      <td>VestiNewsParser</td>\n",
       "      <td>[ОАК_с, АК_со, К_сок, _сокр, сокра, ократ, кра...</td>\n",
       "      <td>[1833, 1977, 1643, 916, 378, 284, 7036, 1877, ...</td>\n",
       "    </tr>\n",
       "    <tr>\n",
       "      <th>2</th>\n",
       "      <td>2</td>\n",
       "      <td>Китай выступил против продажи Францией оружия ...</td>\n",
       "      <td>Китай предупредил Францию, чтобы та не продава...</td>\n",
       "      <td>http://www.vesti.ru/doc.html?id=3264743</td>\n",
       "      <td>VestiNewsParser</td>\n",
       "      <td>[Китай, итай_, тай_в, ай_вы, й_выс, _выст, выс...</td>\n",
       "      <td>[3743, 3871, 1594, 1763, 1912, 768, 3838, 853,...</td>\n",
       "    </tr>\n",
       "    <tr>\n",
       "      <th>3</th>\n",
       "      <td>3</td>\n",
       "      <td>В Чувашии на оснащение \"Точек  роста\" выделят ...</td>\n",
       "      <td>В Чувашии на базе 42 школ создадут Центры обра...</td>\n",
       "      <td>http://www.vesti.ru/doc.html?id=3264744</td>\n",
       "      <td>VestiNewsParser</td>\n",
       "      <td>[В_Чув, _Чува, Чуваш, уваши, вашии, ашии_, шии...</td>\n",
       "      <td>[723, 332, 4082, 35, 1816, 2470, 2482, 1517, 1...</td>\n",
       "    </tr>\n",
       "    <tr>\n",
       "      <th>4</th>\n",
       "      <td>4</td>\n",
       "      <td>Следовавший из Петербурга в Уфу самолет \"Росси...</td>\n",
       "      <td>Вылетевший из Санкт-Петербурга в Уфу самолет а...</td>\n",
       "      <td>http://www.vesti.ru/doc.html?id=3264746</td>\n",
       "      <td>VestiNewsParser</td>\n",
       "      <td>[Следо, ледов, едова, довав, овавш, вавши, авш...</td>\n",
       "      <td>[3, 2929, 2236, 1862, 1851, 3924, 2182, 1312, ...</td>\n",
       "    </tr>\n",
       "  </tbody>\n",
       "</table>\n",
       "</div>"
      ],
      "text/plain": [
       "   Unnamed: 0                                              title  \\\n",
       "0           0  Майкл Джордан признан лучшим игроком в истории...   \n",
       "1           1  ОАК сократила сроки импортозамещения компонент...   \n",
       "2           2  Китай выступил против продажи Францией оружия ...   \n",
       "3           3  В Чувашии на оснащение \"Точек  роста\" выделят ...   \n",
       "4           4  Следовавший из Петербурга в Уфу самолет \"Росси...   \n",
       "\n",
       "                                             content  \\\n",
       "0  Двукратный олимпийский чемпион, американец Май...   \n",
       "1  \"Объединенная авиастроительная корпорация\" (ОА...   \n",
       "2  Китай предупредил Францию, чтобы та не продава...   \n",
       "3  В Чувашии на базе 42 школ создадут Центры обра...   \n",
       "4  Вылетевший из Санкт-Петербурга в Уфу самолет а...   \n",
       "\n",
       "                                       url           source  \\\n",
       "0  http://www.vesti.ru/doc.html?id=3264755  VestiNewsParser   \n",
       "1  http://www.vesti.ru/doc.html?id=3264736  VestiNewsParser   \n",
       "2  http://www.vesti.ru/doc.html?id=3264743  VestiNewsParser   \n",
       "3  http://www.vesti.ru/doc.html?id=3264744  VestiNewsParser   \n",
       "4  http://www.vesti.ru/doc.html?id=3264746  VestiNewsParser   \n",
       "\n",
       "                                           shinglers  \\\n",
       "0  [Майкл, айкл_, йкл_Д, кл_Дж, л_Джо, _Джор, Джо...   \n",
       "1  [ОАК_с, АК_со, К_сок, _сокр, сокра, ократ, кра...   \n",
       "2  [Китай, итай_, тай_в, ай_вы, й_выс, _выст, выс...   \n",
       "3  [В_Чув, _Чува, Чуваш, уваши, вашии, ашии_, шии...   \n",
       "4  [Следо, ледов, едова, довав, овавш, вавши, авш...   \n",
       "\n",
       "                                          minshingle  \n",
       "0  [442, 1321, 2603, 4912, 2971, 2328, 1270, 672,...  \n",
       "1  [1833, 1977, 1643, 916, 378, 284, 7036, 1877, ...  \n",
       "2  [3743, 3871, 1594, 1763, 1912, 768, 3838, 853,...  \n",
       "3  [723, 332, 4082, 35, 1816, 2470, 2482, 1517, 1...  \n",
       "4  [3, 2929, 2236, 1862, 1851, 3924, 2182, 1312, ...  "
      ]
     },
     "execution_count": 10,
     "metadata": {},
     "output_type": "execute_result"
    }
   ],
   "source": [
    "result = {} # row_index: signature_list with len = n\n",
    "printable_result = {}\n",
    "\n",
    "\n",
    "for _ in tqdm(range(N)):  # Do N signature samples\n",
    "    transpose = shinglers_matrix.T\n",
    "    random_sorted = transpose.sample(frac=1)\n",
    "\n",
    "    for docs_columns in random_sorted:\n",
    "        signature = list(random_sorted[docs_columns]).index(1)  # get index 1st shingler\n",
    "        if docs_columns not in result:\n",
    "            result[docs_columns] = list()\n",
    "        result[docs_columns].append(signature)\n",
    "\n",
    "data['minshingle'] = pd.Series(result)\n",
    "data.head()"
   ]
  },
  {
   "cell_type": "code",
   "execution_count": 11,
   "metadata": {
    "scrolled": true
   },
   "outputs": [
    {
     "name": "stderr",
     "output_type": "stream",
     "text": [
      "  100%|██████████| 15000/15000 [8:47:09<00:00,  2.24s/it]"
     ]
    }
   ],
   "source": [
    "def count_sim(x, y):\n",
    "    all_length = len(x) + len(y)\n",
    "    intersection = set(x).intersection(set(y))\n",
    "    return len(intersection) / all_length\n",
    "\n",
    "data['similarity'] = [[] for _ in range(data.shape[0])] # save empty arrays woth similar news\n",
    "\n",
    "for index_1, row_1 in tqdm(data.iterrows(), total=data.shape[0]):\n",
    "    minshingle_1 = row_1['minshingle']\n",
    "    row_1['similarity'] = []\n",
    "    for index_2, row_2 in data.iterrows():\n",
    "        minshingle_2 = row_2['minshingle']\n",
    "        if index_1 != index_2:\n",
    "            if count_sim(minshingle_1, minshingle_2) >= SIMILAR_INDEX:\n",
    "                row_1['similarity'].append(index_2)"
   ]
  },
  {
   "cell_type": "markdown",
   "metadata": {},
   "source": [
    "### Похожая новость:"
   ]
  },
  {
   "cell_type": "code",
   "execution_count": 14,
   "metadata": {},
   "outputs": [
    {
     "data": {
      "text/html": [
       "<div>\n",
       "<style scoped>\n",
       "    .dataframe tbody tr th:only-of-type {\n",
       "        vertical-align: middle;\n",
       "    }\n",
       "\n",
       "    .dataframe tbody tr th {\n",
       "        vertical-align: top;\n",
       "    }\n",
       "\n",
       "    .dataframe thead th {\n",
       "        text-align: right;\n",
       "    }\n",
       "</style>\n",
       "<table border=\"1\" class=\"dataframe\">\n",
       "  <thead>\n",
       "    <tr style=\"text-align: right;\">\n",
       "      <th></th>\n",
       "      <th>title</th>\n",
       "      <th>content</th>\n",
       "      <th>url</th>\n",
       "      <th>source</th>\n",
       "      <th>shinglers</th>\n",
       "      <th>minshingle</th>\n",
       "      <th>similarity</th>\n",
       "    </tr>\n",
       "  </thead>\n",
       "  <tbody>\n",
       "    <tr>\n",
       "      <th>37</th>\n",
       "      <td>Данные клиентов курьерской службы слили в сеть</td>\n",
       "      <td>В интернете на продажу выставили базу клиентов...</td>\n",
       "      <td>http://www.vesti.ru/doc.html?id=3264708</td>\n",
       "      <td>VestiNewsParser</td>\n",
       "      <td>[Данны, анные, нные_, ные_к, ые_кл, е_кли, _кл...</td>\n",
       "      <td>[1147, 62, 167, 185, 276, 80, 300, 458, 470, 8...</td>\n",
       "      <td>[412]</td>\n",
       "    </tr>\n",
       "  </tbody>\n",
       "</table>\n",
       "</div>"
      ],
      "text/plain": [
       "                                             title  \\\n",
       "37  Данные клиентов курьерской службы слили в сеть   \n",
       "\n",
       "                                              content  \\\n",
       "37  В интернете на продажу выставили базу клиентов...   \n",
       "\n",
       "                                        url           source  \\\n",
       "37  http://www.vesti.ru/doc.html?id=3264708  VestiNewsParser   \n",
       "\n",
       "                                            shinglers  \\\n",
       "37  [Данны, анные, нные_, ные_к, ые_кл, е_кли, _кл...   \n",
       "\n",
       "                                           minshingle similarity  \n",
       "37  [1147, 62, 167, 185, 276, 80, 300, 458, 470, 8...      [412]  "
      ]
     },
     "execution_count": 14,
     "metadata": {},
     "output_type": "execute_result"
    }
   ],
   "source": [
    "similar_index = None\n",
    "for index, value in data['similarity'].items():\n",
    "    if len(value) > 0 and 'meduza' not in source:\n",
    "        similar_index = index\n",
    "        break\n",
    "\n",
    "example_row = data.iloc[[index]]\n",
    "example_row"
   ]
  },
  {
   "cell_type": "code",
   "execution_count": 15,
   "metadata": {},
   "outputs": [
    {
     "name": "stdout",
     "output_type": "stream",
     "text": [
      "Исходная новость:\n",
      "\n",
      "В интернете на продажу выставили базу клиентов курьерской службы СДЭК, сообщает \"КоммерсантЪ\" со ссылкой на телеграм-канал In4security. За 70 тысяч руб. хакеры предлагают купить данные 9 миллионов клиентов. Среди слитой информации — данные о доставке и местонахождении грузов и сведения о покупателях, включая ИНН. База актуальная: на скриншотах, которые продавец прислал автору \"Телеграм-канала\", значится дата 8 мая, однако никаких подтверждений в подлинности базы пока нет.  В самой компании СДЭК утечку данных клиентов отрицают. Представитель курьерской службы в комментарии изданию отметил, что утечка могла произойти на сторонних ресурсах, которые собирают данные, в том числе на государственных агрегаторах. Представители фирмы отметили, что копирование базы данных настолько большого размера, как у СДЭК, не прошло бы незамеченным: при подобном скачке сотрудники безопасности сразу видят, кто и откуда скачивает данные. Если же база подлинная, то есть вероятность увеличения роста случаев обмана посредством социальной инженерии, когда мошенники звонят от имени службы доставки и могут назвать часть правильных данных, усыпляя бдительность клиентов, а после этого предлагая им оплатить некие дополнительные сборы. В логистической компании напомнили, что в последнее время участились случаи обнаружения мошеннических сайтов, действующих от имени СДЭК. Бренд эксплуатируют также фейковые сайты. В последние месяцы наблюдается рост фишинговых сайтов в целом. Group-IB отмечает резкий подъем продаж конструкторов для массового создания фишинговых сайтов, использующихся для мошенничества в сети. За прошлый год в два раза увеличилось предложение такого ПО на хакерских форумах. В режиме самоизоляции все махинации — через сеть. Пандемия коронавируса все больше вынуждает преступников уходить в интернет. По данным Сбербанка, мошенники стали значительно реже звонить клиентам, пытаясь получить их личные данные, чтобы затем украсть деньги. Зато в каждом четвертом вредоносном (или же фишинговом) письме преступники теперь пишут про коронавирус COVID-19, часто имитируются сообщения от Всемирной организации здравоохранения. Если перейти по указанной в них ссылке, есть риск получить на свой компьютер шпионскую программу или вирус-шифровальщик. \n"
     ]
    }
   ],
   "source": [
    "similar_index = None\n",
    "for index, value in data['similarity'].items():\n",
    "    if len(value) > 0:\n",
    "        similar_index = index\n",
    "        break\n",
    "\n",
    "example_row = data.iloc[[index]]\n",
    "\n",
    "print('Исходная новость:\\n')\n",
    "print(str(example_row['content'].item()))"
   ]
  },
  {
   "cell_type": "code",
   "execution_count": 16,
   "metadata": {},
   "outputs": [
    {
     "name": "stdout",
     "output_type": "stream",
     "text": [
      "Похожие новости:\n",
      "\n",
      "Персональные данные более чем девяти миллионов клиентов курьерской службы доставки СДЭК оказались выставлены на продажу. Как сообщает Telegram-канал in4security, стоимость онлайн-доступа к базе данных составляет 70 тысяч рублей.«Интерфакс» отмечает, что в базе есть информация о доставке и местонахождении грузов, а также личные сведения клиентов курьерской службы, включая их ИНН.При этом в СДЭК отрицают утечку. Представитель компании заявил, что личные сведения собирает множество фирм, в их числе — государственные агрегаторы, поэтому утечка могла произойти с какого-либо другого ресурса. Кроме того, он обратил внимание на то, что в сети существует множество мошеннических сайтов, действующих от имени СДЭК.Ранее в мае сообщалось, что в сеть утекли данные миллионов пользователей вебкам-сайта Cam4. По словам группы исследователей Safety Detectives, они смогли получить доступ к почтовым адресам, именам и фамилиям, данным кредитных карт пользователей, а также их переписке в сервисе.\n",
      "\n"
     ]
    }
   ],
   "source": [
    "similar_rows = list(example_row['similarity'])[0][:5]\n",
    "\n",
    "similar_news = list()\n",
    "for s in similar_rows:\n",
    "    row = data.iloc[[s]]\n",
    "    similar_news.append(row['content'].item())\n",
    "\n",
    "print('Похожие новости:\\n')\n",
    "for n in similar_news:\n",
    "    print(f\"{n}\\n\")"
   ]
  },
  {
   "cell_type": "code",
   "execution_count": null,
   "metadata": {},
   "outputs": [],
   "source": []
  }
 ],
 "metadata": {
  "kernelspec": {
   "display_name": "Python 3",
   "language": "python",
   "name": "python3"
  },
  "language_info": {
   "codemirror_mode": {
    "name": "ipython",
    "version": 3
   },
   "file_extension": ".py",
   "mimetype": "text/x-python",
   "name": "python",
   "nbconvert_exporter": "python",
   "pygments_lexer": "ipython3",
   "version": "3.7.6"
  },
  "pycharm": {
   "stem_cell": {
    "cell_type": "raw",
    "source": [],
    "metadata": {
     "collapsed": false
    }
   }
  }
 },
 "nbformat": 4,
 "nbformat_minor": 4
}