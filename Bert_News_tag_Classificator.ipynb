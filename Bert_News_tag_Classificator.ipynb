{
  "nbformat": 4,
  "nbformat_minor": 0,
  "metadata": {
    "colab": {
      "name": "Bert News tag Classificator.ipynb",
      "provenance": [],
      "collapsed_sections": []
    },
    "kernelspec": {
      "name": "python3",
      "display_name": "Python 3"
    },
    "accelerator": "GPU"
  },
  "cells": [
    {
      "cell_type": "code",
      "metadata": {
        "colab": {
          "base_uri": "https://localhost:8080/"
        },
        "id": "MNWZWmwYqNaD",
        "outputId": "72835b2e-c14c-4e15-c69c-98eb317acf2c"
      },
      "source": [
        "!pip3 install pytorch_transformers"
      ],
      "execution_count": 1,
      "outputs": [
        {
          "output_type": "stream",
          "text": [
            "Requirement already satisfied: pytorch_transformers in /usr/local/lib/python3.6/dist-packages (1.2.0)\n",
            "Requirement already satisfied: tqdm in /usr/local/lib/python3.6/dist-packages (from pytorch_transformers) (4.41.1)\n",
            "Requirement already satisfied: regex in /usr/local/lib/python3.6/dist-packages (from pytorch_transformers) (2019.12.20)\n",
            "Requirement already satisfied: boto3 in /usr/local/lib/python3.6/dist-packages (from pytorch_transformers) (1.16.22)\n",
            "Requirement already satisfied: requests in /usr/local/lib/python3.6/dist-packages (from pytorch_transformers) (2.23.0)\n",
            "Requirement already satisfied: numpy in /usr/local/lib/python3.6/dist-packages (from pytorch_transformers) (1.18.5)\n",
            "Requirement already satisfied: sacremoses in /usr/local/lib/python3.6/dist-packages (from pytorch_transformers) (0.0.43)\n",
            "Requirement already satisfied: torch>=1.0.0 in /usr/local/lib/python3.6/dist-packages (from pytorch_transformers) (1.7.0+cu101)\n",
            "Requirement already satisfied: sentencepiece in /usr/local/lib/python3.6/dist-packages (from pytorch_transformers) (0.1.94)\n",
            "Requirement already satisfied: s3transfer<0.4.0,>=0.3.0 in /usr/local/lib/python3.6/dist-packages (from boto3->pytorch_transformers) (0.3.3)\n",
            "Requirement already satisfied: jmespath<1.0.0,>=0.7.1 in /usr/local/lib/python3.6/dist-packages (from boto3->pytorch_transformers) (0.10.0)\n",
            "Requirement already satisfied: botocore<1.20.0,>=1.19.22 in /usr/local/lib/python3.6/dist-packages (from boto3->pytorch_transformers) (1.19.22)\n",
            "Requirement already satisfied: chardet<4,>=3.0.2 in /usr/local/lib/python3.6/dist-packages (from requests->pytorch_transformers) (3.0.4)\n",
            "Requirement already satisfied: certifi>=2017.4.17 in /usr/local/lib/python3.6/dist-packages (from requests->pytorch_transformers) (2020.6.20)\n",
            "Requirement already satisfied: idna<3,>=2.5 in /usr/local/lib/python3.6/dist-packages (from requests->pytorch_transformers) (2.10)\n",
            "Requirement already satisfied: urllib3!=1.25.0,!=1.25.1,<1.26,>=1.21.1 in /usr/local/lib/python3.6/dist-packages (from requests->pytorch_transformers) (1.24.3)\n",
            "Requirement already satisfied: joblib in /usr/local/lib/python3.6/dist-packages (from sacremoses->pytorch_transformers) (0.17.0)\n",
            "Requirement already satisfied: click in /usr/local/lib/python3.6/dist-packages (from sacremoses->pytorch_transformers) (7.1.2)\n",
            "Requirement already satisfied: six in /usr/local/lib/python3.6/dist-packages (from sacremoses->pytorch_transformers) (1.15.0)\n",
            "Requirement already satisfied: future in /usr/local/lib/python3.6/dist-packages (from torch>=1.0.0->pytorch_transformers) (0.16.0)\n",
            "Requirement already satisfied: dataclasses in /usr/local/lib/python3.6/dist-packages (from torch>=1.0.0->pytorch_transformers) (0.7)\n",
            "Requirement already satisfied: typing-extensions in /usr/local/lib/python3.6/dist-packages (from torch>=1.0.0->pytorch_transformers) (3.7.4.3)\n",
            "Requirement already satisfied: python-dateutil<3.0.0,>=2.1 in /usr/local/lib/python3.6/dist-packages (from botocore<1.20.0,>=1.19.22->boto3->pytorch_transformers) (2.8.1)\n"
          ],
          "name": "stdout"
        }
      ]
    },
    {
      "cell_type": "markdown",
      "metadata": {
        "id": "ZbxOji9L-cXw"
      },
      "source": [
        "### Загружаем датасет из задания 1"
      ]
    },
    {
      "cell_type": "code",
      "metadata": {
        "colab": {
          "base_uri": "https://localhost:8080/"
        },
        "id": "dhjtpJalC9UY",
        "outputId": "af63dab9-afe7-4c0a-cdb9-4d77378e75b8"
      },
      "source": [
        "from google.colab import drive\n",
        "\n",
        "drive.mount('/content/drive')\n",
        "\n",
        "#!cp drive/'My Drive'/'Colab Notebooks'/BERT/'Bert News'/news_3k.csv ./news_3k.csv\n",
        "!cp drive/'My Drive'/'Colab Notebooks'/BERT/'Bert News'/news_15k.csv ./news_15k.csv"
      ],
      "execution_count": 2,
      "outputs": [
        {
          "output_type": "stream",
          "text": [
            "Drive already mounted at /content/drive; to attempt to forcibly remount, call drive.mount(\"/content/drive\", force_remount=True).\n"
          ],
          "name": "stdout"
        }
      ]
    },
    {
      "cell_type": "code",
      "metadata": {
        "colab": {
          "base_uri": "https://localhost:8080/",
          "height": 204
        },
        "id": "qDF-2PbIEnIo",
        "outputId": "3141df4c-4532-46a9-ab61-00174c5976f4"
      },
      "source": [
        "import pandas as pd\n",
        "\n",
        "#data = pd.read_csv('news_3k.csv', sep=';')\n",
        "data = pd.read_csv('news_15k.csv', sep=';')\n",
        "data['tags'] = data['tags'].apply(lambda l: eval(l) if '[' in l else l)\n",
        "data.head()"
      ],
      "execution_count": 3,
      "outputs": [
        {
          "output_type": "execute_result",
          "data": {
            "text/html": [
              "<div>\n",
              "<style scoped>\n",
              "    .dataframe tbody tr th:only-of-type {\n",
              "        vertical-align: middle;\n",
              "    }\n",
              "\n",
              "    .dataframe tbody tr th {\n",
              "        vertical-align: top;\n",
              "    }\n",
              "\n",
              "    .dataframe thead th {\n",
              "        text-align: right;\n",
              "    }\n",
              "</style>\n",
              "<table border=\"1\" class=\"dataframe\">\n",
              "  <thead>\n",
              "    <tr style=\"text-align: right;\">\n",
              "      <th></th>\n",
              "      <th>title</th>\n",
              "      <th>content</th>\n",
              "      <th>url</th>\n",
              "      <th>tags</th>\n",
              "      <th>source</th>\n",
              "    </tr>\n",
              "  </thead>\n",
              "  <tbody>\n",
              "    <tr>\n",
              "      <th>0</th>\n",
              "      <td>Прятавший мальчика в подвале мужчина несколько...</td>\n",
              "      <td>Более 50 дней удерживавший семилетнего Савели...</td>\n",
              "      <td>http://www.vesti.ru/article/2488087</td>\n",
              "      <td>[происшествия, новости, ребенок, похищение, Вл...</td>\n",
              "      <td>VestiNewsParser</td>\n",
              "    </tr>\n",
              "    <tr>\n",
              "      <th>1</th>\n",
              "      <td>В подмосковном лесу нашли связанный труп с пак...</td>\n",
              "      <td>В минувший понедельник неподалеку от деревни ...</td>\n",
              "      <td>http://www.vesti.ru/article/2488068</td>\n",
              "      <td>[происшествия, убийство, новости, Клин, Москов...</td>\n",
              "      <td>VestiNewsParser</td>\n",
              "    </tr>\n",
              "    <tr>\n",
              "      <th>2</th>\n",
              "      <td>ФИФА вручит приз The Best лучшим футболистам с...</td>\n",
              "      <td>В отличие от французского еженедельника Franc...</td>\n",
              "      <td>http://www.vesti.ru/article/2488047</td>\n",
              "      <td>[спорт, новости, футбол, Золотой мяч, ФИФА/FIFA]</td>\n",
              "      <td>VestiNewsParser</td>\n",
              "    </tr>\n",
              "    <tr>\n",
              "      <th>3</th>\n",
              "      <td>Главред RT аплодирует новому закону об информа...</td>\n",
              "      <td>Изменений в федеральный закон \"Об информации ...</td>\n",
              "      <td>http://www.vesti.ru/article/2488029</td>\n",
              "      <td>[политика, новости, безопасность, закон, Росси...</td>\n",
              "      <td>VestiNewsParser</td>\n",
              "    </tr>\n",
              "    <tr>\n",
              "      <th>4</th>\n",
              "      <td>Ученые нашли в водах Крыма неизвестные науке в...</td>\n",
              "      <td>В Крыму учёные описали неизвестные науке виды...</td>\n",
              "      <td>http://www.vesti.ru/article/2488031</td>\n",
              "      <td>[общество, ученые, открытие/изобретение, новос...</td>\n",
              "      <td>VestiNewsParser</td>\n",
              "    </tr>\n",
              "  </tbody>\n",
              "</table>\n",
              "</div>"
            ],
            "text/plain": [
              "                                               title  ...           source\n",
              "0  Прятавший мальчика в подвале мужчина несколько...  ...  VestiNewsParser\n",
              "1  В подмосковном лесу нашли связанный труп с пак...  ...  VestiNewsParser\n",
              "2  ФИФА вручит приз The Best лучшим футболистам с...  ...  VestiNewsParser\n",
              "3  Главред RT аплодирует новому закону об информа...  ...  VestiNewsParser\n",
              "4  Ученые нашли в водах Крыма неизвестные науке в...  ...  VestiNewsParser\n",
              "\n",
              "[5 rows x 5 columns]"
            ]
          },
          "metadata": {
            "tags": []
          },
          "execution_count": 3
        }
      ]
    },
    {
      "cell_type": "markdown",
      "metadata": {
        "id": "cA4bXZiB-jsd"
      },
      "source": [
        "### Пытаемся найти в тегах новостей общие метки и составить из них выборку"
      ]
    },
    {
      "cell_type": "code",
      "metadata": {
        "id": "EZQ7oqzGFO6t"
      },
      "source": [
        "from collections import Counter\n",
        "\n",
        "vesti_count = Counter()\n",
        "for tags in data[data.source == 'VestiNewsParser'].tags:\n",
        "    vesti_count += Counter([t.lower() for t in tags])\n",
        "\n",
        "set_vesti = set(vesti_count)"
      ],
      "execution_count": 4,
      "outputs": []
    },
    {
      "cell_type": "code",
      "metadata": {
        "id": "AW9j8YNk2MsK"
      },
      "source": [
        "from collections import Counter\n",
        "\n",
        "lenta_count = Counter()\n",
        "for tags in data[data.source == 'LentaNewsParser'].tags:\n",
        "    lenta_count += Counter([tags.lower()])\n",
        "\n",
        "set_lenta = set(lenta_count)"
      ],
      "execution_count": 5,
      "outputs": []
    },
    {
      "cell_type": "code",
      "metadata": {
        "id": "_HpKM1Yn2SKS"
      },
      "source": [
        "classes = lenta_count + vesti_count\n",
        "\n",
        "for key in classes.copy():\n",
        "  if classes[key] < 100:\n",
        "    del classes[key]\n",
        "\n",
        "classes = set(classes)"
      ],
      "execution_count": 6,
      "outputs": []
    },
    {
      "cell_type": "code",
      "metadata": {
        "id": "DrnnNfUg2SM3"
      },
      "source": [
        ""
      ],
      "execution_count": 6,
      "outputs": []
    },
    {
      "cell_type": "code",
      "metadata": {
        "id": "2-5KIqblzzmA"
      },
      "source": [
        "#classes = set(set_vesti) & set(set_lenta)\n",
        "#classes"
      ],
      "execution_count": 7,
      "outputs": []
    },
    {
      "cell_type": "code",
      "metadata": {
        "colab": {
          "base_uri": "https://localhost:8080/"
        },
        "id": "ZIyk3DaFfwVx",
        "outputId": "126a48b9-21e3-4feb-d41c-4c8fc717fc5a"
      },
      "source": [
        "def check_class(row):\n",
        "    if row['source'] == 'VestiNewsParser':\n",
        "        for tag in row['tags']:\n",
        "          if tag.lower() in classes:\n",
        "            return tag\n",
        "    elif row['source'] == 'LentaNewsParser':\n",
        "        tag = row['tags'].lower()\n",
        "        if tag in classes:\n",
        "          return tag\n",
        "    else:\n",
        "      for cls in classes:\n",
        "        if cls in row['content']:\n",
        "          return cls\n",
        "\n",
        "data['main_class'] = data.apply(check_class, axis=1)\n",
        "data['main_class'].value_counts()"
      ],
      "execution_count": 8,
      "outputs": [
        {
          "output_type": "execute_result",
          "data": {
            "text/plain": [
              "общество           2941\n",
              "орган              1545\n",
              "политика           1330\n",
              "происшествия        851\n",
              "спорт               699\n",
              "чита                692\n",
              "культура            483\n",
              "вор                 467\n",
              "музыка              464\n",
              "экономика           391\n",
              "коронавирус         387\n",
              "исследования        387\n",
              "самолет             386\n",
              "закон               386\n",
              "закавказье          267\n",
              "наука               192\n",
              "следствие и суд     151\n",
              "тв и радио          139\n",
              "кино                122\n",
              "госэкономика        119\n",
              "бокс и мма          112\n",
              "квартира            112\n",
              "футбол              111\n",
              "белоруссия          100\n",
              "люди                100\n",
              "россия               79\n",
              "новости              66\n",
              "регионы              45\n",
              "криминал             38\n",
              "космос               31\n",
              "москва               23\n",
              "концерт              21\n",
              "Name: main_class, dtype: int64"
            ]
          },
          "metadata": {
            "tags": []
          },
          "execution_count": 8
        }
      ]
    },
    {
      "cell_type": "code",
      "metadata": {
        "id": "guw6uAlL5zyh"
      },
      "source": [
        "#data = data[data['main_class'] != 'общество']"
      ],
      "execution_count": 9,
      "outputs": []
    },
    {
      "cell_type": "code",
      "metadata": {
        "colab": {
          "base_uri": "https://localhost:8080/",
          "height": 221
        },
        "id": "fF8ysVFOjlAV",
        "outputId": "10d4fe30-1359-4e0b-84c9-a15894e3f789"
      },
      "source": [
        "data = data[~data['main_class'].isna()]\n",
        "print(data.shape)\n",
        "data.head()"
      ],
      "execution_count": 10,
      "outputs": [
        {
          "output_type": "stream",
          "text": [
            "(13237, 6)\n"
          ],
          "name": "stdout"
        },
        {
          "output_type": "execute_result",
          "data": {
            "text/html": [
              "<div>\n",
              "<style scoped>\n",
              "    .dataframe tbody tr th:only-of-type {\n",
              "        vertical-align: middle;\n",
              "    }\n",
              "\n",
              "    .dataframe tbody tr th {\n",
              "        vertical-align: top;\n",
              "    }\n",
              "\n",
              "    .dataframe thead th {\n",
              "        text-align: right;\n",
              "    }\n",
              "</style>\n",
              "<table border=\"1\" class=\"dataframe\">\n",
              "  <thead>\n",
              "    <tr style=\"text-align: right;\">\n",
              "      <th></th>\n",
              "      <th>title</th>\n",
              "      <th>content</th>\n",
              "      <th>url</th>\n",
              "      <th>tags</th>\n",
              "      <th>source</th>\n",
              "      <th>main_class</th>\n",
              "    </tr>\n",
              "  </thead>\n",
              "  <tbody>\n",
              "    <tr>\n",
              "      <th>0</th>\n",
              "      <td>Прятавший мальчика в подвале мужчина несколько...</td>\n",
              "      <td>Более 50 дней удерживавший семилетнего Савели...</td>\n",
              "      <td>http://www.vesti.ru/article/2488087</td>\n",
              "      <td>[происшествия, новости, ребенок, похищение, Вл...</td>\n",
              "      <td>VestiNewsParser</td>\n",
              "      <td>происшествия</td>\n",
              "    </tr>\n",
              "    <tr>\n",
              "      <th>1</th>\n",
              "      <td>В подмосковном лесу нашли связанный труп с пак...</td>\n",
              "      <td>В минувший понедельник неподалеку от деревни ...</td>\n",
              "      <td>http://www.vesti.ru/article/2488068</td>\n",
              "      <td>[происшествия, убийство, новости, Клин, Москов...</td>\n",
              "      <td>VestiNewsParser</td>\n",
              "      <td>происшествия</td>\n",
              "    </tr>\n",
              "    <tr>\n",
              "      <th>2</th>\n",
              "      <td>ФИФА вручит приз The Best лучшим футболистам с...</td>\n",
              "      <td>В отличие от французского еженедельника Franc...</td>\n",
              "      <td>http://www.vesti.ru/article/2488047</td>\n",
              "      <td>[спорт, новости, футбол, Золотой мяч, ФИФА/FIFA]</td>\n",
              "      <td>VestiNewsParser</td>\n",
              "      <td>спорт</td>\n",
              "    </tr>\n",
              "    <tr>\n",
              "      <th>3</th>\n",
              "      <td>Главред RT аплодирует новому закону об информа...</td>\n",
              "      <td>Изменений в федеральный закон \"Об информации ...</td>\n",
              "      <td>http://www.vesti.ru/article/2488029</td>\n",
              "      <td>[политика, новости, безопасность, закон, Росси...</td>\n",
              "      <td>VestiNewsParser</td>\n",
              "      <td>политика</td>\n",
              "    </tr>\n",
              "    <tr>\n",
              "      <th>4</th>\n",
              "      <td>Ученые нашли в водах Крыма неизвестные науке в...</td>\n",
              "      <td>В Крыму учёные описали неизвестные науке виды...</td>\n",
              "      <td>http://www.vesti.ru/article/2488031</td>\n",
              "      <td>[общество, ученые, открытие/изобретение, новос...</td>\n",
              "      <td>VestiNewsParser</td>\n",
              "      <td>общество</td>\n",
              "    </tr>\n",
              "  </tbody>\n",
              "</table>\n",
              "</div>"
            ],
            "text/plain": [
              "                                               title  ...    main_class\n",
              "0  Прятавший мальчика в подвале мужчина несколько...  ...  происшествия\n",
              "1  В подмосковном лесу нашли связанный труп с пак...  ...  происшествия\n",
              "2  ФИФА вручит приз The Best лучшим футболистам с...  ...         спорт\n",
              "3  Главред RT аплодирует новому закону об информа...  ...      политика\n",
              "4  Ученые нашли в водах Крыма неизвестные науке в...  ...      общество\n",
              "\n",
              "[5 rows x 6 columns]"
            ]
          },
          "metadata": {
            "tags": []
          },
          "execution_count": 10
        }
      ]
    },
    {
      "cell_type": "markdown",
      "metadata": {
        "id": "5xxN4W3Wnrvw"
      },
      "source": [
        "### Задаем классам цифровые обозначения и дообучаем BERT"
      ]
    },
    {
      "cell_type": "code",
      "metadata": {
        "colab": {
          "base_uri": "https://localhost:8080/"
        },
        "id": "zEcD0DYXry56",
        "outputId": "0be5ca6a-3cb0-4569-82b6-a1dc20d9f8ae"
      },
      "source": [
        "import torch\n",
        "\n",
        "device = torch.device(\"cuda\" if torch.cuda.is_available() else \"cpu\")\n",
        "if device == 'cpu':\n",
        "    print('cpu')\n",
        "else:\n",
        "    n_gpu = torch.cuda.device_count()\n",
        "    print(torch.cuda.get_device_name(0))"
      ],
      "execution_count": 13,
      "outputs": [
        {
          "output_type": "stream",
          "text": [
            "Tesla T4\n"
          ],
          "name": "stdout"
        }
      ]
    },
    {
      "cell_type": "code",
      "metadata": {
        "colab": {
          "base_uri": "https://localhost:8080/"
        },
        "id": "p2K_XV-HoOod",
        "outputId": "77ec2346-48dc-466f-c7b5-683b9204fbf5"
      },
      "source": [
        "class_labels = {}\n",
        "for index, cls in enumerate(data['main_class'].unique()):\n",
        "    class_labels[cls] = index\n",
        "\n",
        "class_labels   "
      ],
      "execution_count": 14,
      "outputs": [
        {
          "output_type": "execute_result",
          "data": {
            "text/plain": [
              "{'белоруссия': 21,\n",
              " 'бокс и мма': 9,\n",
              " 'вор': 30,\n",
              " 'госэкономика': 15,\n",
              " 'закавказье': 10,\n",
              " 'закон': 28,\n",
              " 'исследования': 25,\n",
              " 'квартира': 12,\n",
              " 'кино': 14,\n",
              " 'концерт': 8,\n",
              " 'коронавирус': 26,\n",
              " 'космос': 16,\n",
              " 'криминал': 22,\n",
              " 'культура': 5,\n",
              " 'люди': 20,\n",
              " 'москва': 11,\n",
              " 'музыка': 17,\n",
              " 'наука': 4,\n",
              " 'новости': 7,\n",
              " 'общество': 3,\n",
              " 'орган': 27,\n",
              " 'политика': 2,\n",
              " 'происшествия': 0,\n",
              " 'регионы': 24,\n",
              " 'россия': 18,\n",
              " 'самолет': 29,\n",
              " 'следствие и суд': 13,\n",
              " 'спорт': 1,\n",
              " 'тв и радио': 19,\n",
              " 'футбол': 23,\n",
              " 'чита': 31,\n",
              " 'экономика': 6}"
            ]
          },
          "metadata": {
            "tags": []
          },
          "execution_count": 14
        }
      ]
    },
    {
      "cell_type": "code",
      "metadata": {
        "colab": {
          "base_uri": "https://localhost:8080/",
          "height": 221
        },
        "id": "jJBftOxHntrR",
        "outputId": "19713538-db0d-4642-de56-b33d110a9eeb"
      },
      "source": [
        "import pandas as pd\n",
        "from string import punctuation\n",
        "\n",
        "BATCH_SIZE = 64\n",
        "MAX_LEN = 1024\n",
        "\n",
        "dataset = data.copy()\n",
        "dataset['labels_classes'] = dataset['main_class'].apply(lambda x: class_labels[x])\n",
        "\n",
        "dataset['title'] = dataset['title'].apply(lambda s: \"[CLS] \" + s.strip(punctuation) + \" [SEP]\")\n",
        "dataset = dataset[dataset['title'].str.len() <= MAX_LEN]\n",
        "print(dataset.shape)\n",
        "dataset.head()"
      ],
      "execution_count": 15,
      "outputs": [
        {
          "output_type": "stream",
          "text": [
            "(13237, 7)\n"
          ],
          "name": "stdout"
        },
        {
          "output_type": "execute_result",
          "data": {
            "text/html": [
              "<div>\n",
              "<style scoped>\n",
              "    .dataframe tbody tr th:only-of-type {\n",
              "        vertical-align: middle;\n",
              "    }\n",
              "\n",
              "    .dataframe tbody tr th {\n",
              "        vertical-align: top;\n",
              "    }\n",
              "\n",
              "    .dataframe thead th {\n",
              "        text-align: right;\n",
              "    }\n",
              "</style>\n",
              "<table border=\"1\" class=\"dataframe\">\n",
              "  <thead>\n",
              "    <tr style=\"text-align: right;\">\n",
              "      <th></th>\n",
              "      <th>title</th>\n",
              "      <th>content</th>\n",
              "      <th>url</th>\n",
              "      <th>tags</th>\n",
              "      <th>source</th>\n",
              "      <th>main_class</th>\n",
              "      <th>labels_classes</th>\n",
              "    </tr>\n",
              "  </thead>\n",
              "  <tbody>\n",
              "    <tr>\n",
              "      <th>0</th>\n",
              "      <td>[CLS] Прятавший мальчика в подвале мужчина нес...</td>\n",
              "      <td>Более 50 дней удерживавший семилетнего Савели...</td>\n",
              "      <td>http://www.vesti.ru/article/2488087</td>\n",
              "      <td>[происшествия, новости, ребенок, похищение, Вл...</td>\n",
              "      <td>VestiNewsParser</td>\n",
              "      <td>происшествия</td>\n",
              "      <td>0</td>\n",
              "    </tr>\n",
              "    <tr>\n",
              "      <th>1</th>\n",
              "      <td>[CLS] В подмосковном лесу нашли связанный труп...</td>\n",
              "      <td>В минувший понедельник неподалеку от деревни ...</td>\n",
              "      <td>http://www.vesti.ru/article/2488068</td>\n",
              "      <td>[происшествия, убийство, новости, Клин, Москов...</td>\n",
              "      <td>VestiNewsParser</td>\n",
              "      <td>происшествия</td>\n",
              "      <td>0</td>\n",
              "    </tr>\n",
              "    <tr>\n",
              "      <th>2</th>\n",
              "      <td>[CLS] ФИФА вручит приз The Best лучшим футболи...</td>\n",
              "      <td>В отличие от французского еженедельника Franc...</td>\n",
              "      <td>http://www.vesti.ru/article/2488047</td>\n",
              "      <td>[спорт, новости, футбол, Золотой мяч, ФИФА/FIFA]</td>\n",
              "      <td>VestiNewsParser</td>\n",
              "      <td>спорт</td>\n",
              "      <td>1</td>\n",
              "    </tr>\n",
              "    <tr>\n",
              "      <th>3</th>\n",
              "      <td>[CLS] Главред RT аплодирует новому закону об и...</td>\n",
              "      <td>Изменений в федеральный закон \"Об информации ...</td>\n",
              "      <td>http://www.vesti.ru/article/2488029</td>\n",
              "      <td>[политика, новости, безопасность, закон, Росси...</td>\n",
              "      <td>VestiNewsParser</td>\n",
              "      <td>политика</td>\n",
              "      <td>2</td>\n",
              "    </tr>\n",
              "    <tr>\n",
              "      <th>4</th>\n",
              "      <td>[CLS] Ученые нашли в водах Крыма неизвестные н...</td>\n",
              "      <td>В Крыму учёные описали неизвестные науке виды...</td>\n",
              "      <td>http://www.vesti.ru/article/2488031</td>\n",
              "      <td>[общество, ученые, открытие/изобретение, новос...</td>\n",
              "      <td>VestiNewsParser</td>\n",
              "      <td>общество</td>\n",
              "      <td>3</td>\n",
              "    </tr>\n",
              "  </tbody>\n",
              "</table>\n",
              "</div>"
            ],
            "text/plain": [
              "                                               title  ... labels_classes\n",
              "0  [CLS] Прятавший мальчика в подвале мужчина нес...  ...              0\n",
              "1  [CLS] В подмосковном лесу нашли связанный труп...  ...              0\n",
              "2  [CLS] ФИФА вручит приз The Best лучшим футболи...  ...              1\n",
              "3  [CLS] Главред RT аплодирует новому закону об и...  ...              2\n",
              "4  [CLS] Ученые нашли в водах Крыма неизвестные н...  ...              3\n",
              "\n",
              "[5 rows x 7 columns]"
            ]
          },
          "metadata": {
            "tags": []
          },
          "execution_count": 15
        }
      ]
    },
    {
      "cell_type": "markdown",
      "metadata": {
        "id": "xLTL4TfK8w1L"
      },
      "source": [
        "## Удалим слишком большие и слишком маленькие значения"
      ]
    },
    {
      "cell_type": "code",
      "metadata": {
        "colab": {
          "base_uri": "https://localhost:8080/"
        },
        "id": "FWWu8h2I9-9S",
        "outputId": "cac7fce8-abf0-4544-a8a4-6bf21437eb56"
      },
      "source": [
        "dataset_v_c = dataset['labels_classes'].value_counts()\n",
        "dataset_v_c"
      ],
      "execution_count": 16,
      "outputs": [
        {
          "output_type": "execute_result",
          "data": {
            "text/plain": [
              "3     2941\n",
              "27    1545\n",
              "2     1330\n",
              "0      851\n",
              "1      699\n",
              "31     692\n",
              "5      483\n",
              "30     467\n",
              "17     464\n",
              "6      391\n",
              "26     387\n",
              "25     387\n",
              "29     386\n",
              "28     386\n",
              "10     267\n",
              "4      192\n",
              "13     151\n",
              "19     139\n",
              "14     122\n",
              "15     119\n",
              "9      112\n",
              "12     112\n",
              "23     111\n",
              "20     100\n",
              "21     100\n",
              "18      79\n",
              "7       66\n",
              "24      45\n",
              "22      38\n",
              "16      31\n",
              "11      23\n",
              "8       21\n",
              "Name: labels_classes, dtype: int64"
            ]
          },
          "metadata": {
            "tags": []
          },
          "execution_count": 16
        }
      ]
    },
    {
      "cell_type": "code",
      "metadata": {
        "colab": {
          "base_uri": "https://localhost:8080/"
        },
        "id": "xpt0NZAYt-Ka",
        "outputId": "72c729e3-7d52-49af-ecd2-ef542f8a5b5e"
      },
      "source": [
        "classes_to_save = list()\n",
        "for key, value in dataset_v_c.to_dict().items():\n",
        "    if 200 < value < 1000:\n",
        "      classes_to_save.append(key)\n",
        "\n",
        "dataset = dataset[dataset['labels_classes'].isin(classes_to_save)]\n",
        "dataset.shape"
      ],
      "execution_count": 17,
      "outputs": [
        {
          "output_type": "execute_result",
          "data": {
            "text/plain": [
              "(5860, 7)"
            ]
          },
          "metadata": {
            "tags": []
          },
          "execution_count": 17
        }
      ]
    },
    {
      "cell_type": "markdown",
      "metadata": {
        "id": "X5l4QcUJ-Ur0"
      },
      "source": [
        "### Начинаем обучение"
      ]
    },
    {
      "cell_type": "code",
      "metadata": {
        "colab": {
          "base_uri": "https://localhost:8080/"
        },
        "id": "iE35ztG1nx6H",
        "outputId": "5676750c-cf7a-4faa-f1e0-f1afe8c326e2"
      },
      "source": [
        "from sklearn.model_selection import train_test_split\n",
        "from pytorch_transformers import BertTokenizer\n",
        "from keras.preprocessing.sequence import pad_sequences\n",
        "\n",
        "\n",
        "labels = list(dataset['labels_classes'])\n",
        "sentences = list(dataset['title'])\n",
        "\n",
        "train_sentences, test_sentences, train_gt, test_gt = train_test_split(sentences, labels, test_size=0.3)\n",
        "\n",
        "tokenizer = BertTokenizer.from_pretrained('bert-base-uncased', do_lower_case=True, max_len=MAX_LEN)\n",
        "\n",
        "tokenized_texts = [tokenizer.tokenize(sent) for sent in train_sentences]\n",
        "print(tokenized_texts[0][0:50])\n",
        "\n",
        "input_ids = [tokenizer.convert_tokens_to_ids(x) for x in tokenized_texts]\n",
        "\n",
        "input_ids = pad_sequences(\n",
        "    input_ids,\n",
        "    maxlen=100,\n",
        "    dtype=\"long\",\n",
        "    truncating=\"post\",\n",
        "    padding=\"post\"\n",
        ")\n",
        "attention_masks = [[float(i>0) for i in seq] for seq in input_ids]\n",
        "\n",
        "print()\n",
        "print(input_ids)"
      ],
      "execution_count": 23,
      "outputs": [
        {
          "output_type": "stream",
          "text": [
            "['[CLS]', 'р', '##б', '##к', ':', '«', 'а', '##э', '##р', '##о', '##ф', '##л', '##о', '##т', '»', 'з', '##а', 'д', '##в', '##а', 'г', '##о', '##д', '##а', 'п', '##е', '##р', '##е', '##д', '##а', '##с', '##т', 'в', '##с', '##е', 'с', '##у', '##п', '##е', '##р', '##д', '##ж', '##е', '##т', '##ы', 'с', '##в', '##о', '##е', '##и']\n",
            "\n",
            "[[  101  1195 29740 ...     0     0     0]\n",
            " [  101  1182  1194 ...     0     0     0]\n",
            " [  101  1184 25529 ...     0     0     0]\n",
            " ...\n",
            " [  101  1182  1195 ...     0     0     0]\n",
            " [  101  1181 29113 ...     0     0     0]\n",
            " [  101  1181 29748 ...     0     0     0]]\n"
          ],
          "name": "stdout"
        }
      ]
    },
    {
      "cell_type": "code",
      "metadata": {
        "colab": {
          "base_uri": "https://localhost:8080/"
        },
        "id": "A7PGcvu-nx_H",
        "outputId": "e4cc45ed-a64c-4219-95b5-aabf82385cb2"
      },
      "source": [
        "train_inputs, validation_inputs, train_labels, validation_labels = train_test_split(\n",
        "    input_ids, train_gt, \n",
        "    random_state=42,\n",
        "    test_size=0.2\n",
        ")\n",
        "\n",
        "train_masks, validation_masks, _, _ = train_test_split(\n",
        "    attention_masks,\n",
        "    input_ids,\n",
        "    random_state=42,\n",
        "    test_size=0.2\n",
        ")\n",
        "\n",
        "train_inputs = torch.tensor(train_inputs)\n",
        "train_labels = torch.tensor(train_labels)\n",
        "train_masks = torch.tensor(train_masks)\n",
        "\n",
        "validation_inputs = torch.tensor(validation_inputs)\n",
        "validation_labels = torch.tensor(validation_labels)\n",
        "validation_masks = torch.tensor(validation_masks)\n",
        "\n",
        "train_labels"
      ],
      "execution_count": 24,
      "outputs": [
        {
          "output_type": "execute_result",
          "data": {
            "text/plain": [
              "tensor([ 6, 28, 31,  ..., 26,  0, 25])"
            ]
          },
          "metadata": {
            "tags": []
          },
          "execution_count": 24
        }
      ]
    },
    {
      "cell_type": "code",
      "metadata": {
        "id": "O9TCets-n3xO"
      },
      "source": [
        "from torch.utils.data import TensorDataset, DataLoader, RandomSampler, SequentialSampler\n",
        "from pytorch_transformers import AdamW, BertForSequenceClassification\n",
        "\n",
        "train_data = TensorDataset(train_inputs, train_masks, train_labels)\n",
        "train_dataloader = DataLoader(\n",
        "    train_data,\n",
        "    sampler=RandomSampler(train_data),\n",
        "    batch_size=BATCH_SIZE\n",
        ")\n",
        "\n",
        "validation_data = TensorDataset(validation_inputs, validation_masks, validation_labels)\n",
        "validation_dataloader = DataLoader(\n",
        "    validation_data,\n",
        "    sampler=SequentialSampler(validation_data),\n",
        "    batch_size=BATCH_SIZE\n",
        ")\n",
        "\n",
        "model = BertForSequenceClassification.from_pretrained(\"bert-base-uncased\", num_labels=len(class_labels))\n",
        "model.cuda()\n",
        "\n",
        "param_optimizer = list(model.named_parameters())\n",
        "no_decay = ['bias', 'gamma', 'beta']\n",
        "optimizer_grouped_parameters = [\n",
        "    {'params': [p for n, p in param_optimizer if not any(nd in n for nd in no_decay)],\n",
        "     'weight_decay_rate': 0.01},\n",
        "    {'params': [p for n, p in param_optimizer if any(nd in n for nd in no_decay)],\n",
        "     'weight_decay_rate': 0.0}\n",
        "]\n",
        "\n",
        "optimizer = AdamW(optimizer_grouped_parameters, lr=2e-5)"
      ],
      "execution_count": 25,
      "outputs": []
    },
    {
      "cell_type": "code",
      "metadata": {
        "colab": {
          "base_uri": "https://localhost:8080/",
          "height": 312
        },
        "id": "HKC0pxO8n3zn",
        "outputId": "610c8f74-d2b7-473f-d5a2-030b3b52f48a"
      },
      "source": [
        "from IPython.display import clear_output\n",
        "import matplotlib.pyplot as plt\n",
        "\n",
        "# Сохраняем loss для графика\n",
        "train_loss_set = []\n",
        "train_loss = 0\n",
        "\n",
        "# Обучение\n",
        "model.train()\n",
        "\n",
        "for step, batch in enumerate(train_dataloader):\n",
        "    # добавляем батч для вычисления на GPU\n",
        "    batch = tuple(t.to(device) for t in batch)\n",
        "    # Распаковываем данные из dataloader\n",
        "    b_input_ids, b_input_mask, b_labels = batch\n",
        "    \n",
        "    # если не сделать .zero_grad(), градиенты будут накапливаться\n",
        "    optimizer.zero_grad()\n",
        "    \n",
        "    # Forward pass\n",
        "    loss = model(b_input_ids, token_type_ids=None, attention_mask=b_input_mask, labels=b_labels)\n",
        "\n",
        "    train_loss_set.append(loss[0].item())  \n",
        "    \n",
        "    # Backward pass\n",
        "    loss[0].backward()\n",
        "    \n",
        "    # Обновляем параметры и делаем шаг используя посчитанные градиенты\n",
        "    optimizer.step()\n",
        "\n",
        "    # Обновляем loss\n",
        "    train_loss += loss[0].item()\n",
        "    \n",
        "    # Рисуем график\n",
        "    clear_output(True)\n",
        "    plt.plot(train_loss_set)\n",
        "    plt.title(\"Training loss\")\n",
        "    plt.xlabel(\"Batch\")\n",
        "    plt.ylabel(\"Loss\")\n",
        "    plt.show()\n",
        "\n",
        "print(\"Loss на обучающей выборке: {0:.5f}\".format(train_loss / len(train_dataloader)))"
      ],
      "execution_count": 26,
      "outputs": [
        {
          "output_type": "display_data",
          "data": {
            "image/png": "[encoded data removed]",
            "text/plain": [
              "<Figure size 432x288 with 1 Axes>"
            ]
          },
          "metadata": {
            "tags": [],
            "needs_background": "light"
          }
        },
        {
          "output_type": "stream",
          "text": [
            "Loss на обучающей выборке: 2.55104\n"
          ],
          "name": "stdout"
        }
      ]
    },
    {
      "cell_type": "code",
      "metadata": {
        "colab": {
          "base_uri": "https://localhost:8080/"
        },
        "id": "0bpZNj48n-56",
        "outputId": "b5d61149-ab75-469c-c591-e0ae2efc2b2a"
      },
      "source": [
        "import numpy as np\n",
        "from sklearn.metrics import accuracy_score\n",
        "\n",
        "# Валидация\n",
        "model.eval()\n",
        "\n",
        "valid_preds, valid_labels = [], []\n",
        "\n",
        "for batch in validation_dataloader:   \n",
        "    # добавляем батч для вычисления на GPU\n",
        "    batch = tuple(t.to(device) for t in batch)\n",
        "    \n",
        "    # Распаковываем данные из dataloader\n",
        "    b_input_ids, b_input_mask, b_labels = batch\n",
        "    \n",
        "    # При использовании .no_grad() модель не будет считать и хранить градиенты.\n",
        "    with torch.no_grad():\n",
        "        logits = model(b_input_ids, token_type_ids=None, attention_mask=b_input_mask)\n",
        "\n",
        "    # Перемещаем logits и метки классов на CPU для дальнейшей работы\n",
        "    logits = logits[0].detach().cpu().numpy()\n",
        "    label_ids = b_labels.to('cpu').numpy()\n",
        "    \n",
        "    batch_preds = np.argmax(logits, axis=1)\n",
        "    batch_labels = label_ids\n",
        "    valid_preds.extend(batch_preds)\n",
        "    valid_labels.extend(batch_labels)\n",
        "\n",
        "print(\"Процент правильных предсказаний на валидационной выборке: {0:.2f}%\".format(\n",
        "    accuracy_score(valid_labels, valid_preds) * 100\n",
        "))"
      ],
      "execution_count": 27,
      "outputs": [
        {
          "output_type": "stream",
          "text": [
            "Процент правильных предсказаний на валидационной выборке: 89.04%\n"
          ],
          "name": "stdout"
        }
      ]
    }
  ]
}