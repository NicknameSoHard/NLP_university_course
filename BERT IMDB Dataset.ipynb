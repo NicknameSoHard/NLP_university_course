{
  "nbformat": 4,
  "nbformat_minor": 0,
  "metadata": {
    "accelerator": "GPU",
    "colab": {
      "name": "BERT Homework 3. IMDB Dataset.ipynb",
      "provenance": [],
      "collapsed_sections": []
    },
    "kernelspec": {
      "display_name": "Python 3",
      "language": "python",
      "name": "python3"
    },
    "language_info": {
      "codemirror_mode": {
        "name": "ipython",
        "version": 3
      },
      "file_extension": ".py",
      "mimetype": "text/x-python",
      "name": "python",
      "nbconvert_exporter": "python",
      "pygments_lexer": "ipython3",
      "version": "3.6.8"
    }
  },
  "cells": [
    {
      "cell_type": "code",
      "metadata": {
        "id": "c9Xy4_tMtF99"
      },
      "source": [
        "!pip install -U pytorch_transformers"
      ],
      "execution_count": null,
      "outputs": []
    },
    {
      "cell_type": "markdown",
      "metadata": {
        "id": "RX_ZDhicpHkV"
      },
      "source": [
        "## Импорт библиотек"
      ]
    },
    {
      "cell_type": "code",
      "metadata": {
        "id": "Ok002ceNB8E7",
        "colab": {
          "base_uri": "https://localhost:8080/"
        },
        "outputId": "5dafa145-49c8-499d-da10-318dc7bc2f47"
      },
      "source": [
        "import torch\n",
        "from torch.utils.data import TensorDataset, DataLoader, RandomSampler, SequentialSampler\n",
        "from keras.preprocessing.sequence import pad_sequences\n",
        "from sklearn.model_selection import train_test_split\n",
        "from pytorch_transformers import BertTokenizer, BertConfig\n",
        "from pytorch_transformers import AdamW, BertForSequenceClassification\n",
        "from tqdm import tqdm, trange\n",
        "import pandas as pd\n",
        "import numpy as np\n",
        "from sklearn.metrics import accuracy_score\n",
        "import matplotlib.pyplot as plt\n",
        "\n",
        "device = torch.device(\"cuda\" if torch.cuda.is_available() else \"cpu\")\n",
        "if device == 'cpu':\n",
        "    print('cpu')\n",
        "else:\n",
        "    n_gpu = torch.cuda.device_count()\n",
        "    print(torch.cuda.get_device_name(0))"
      ],
      "execution_count": 2,
      "outputs": [
        {
          "output_type": "stream",
          "text": [
            "Tesla P100-PCIE-16GB\n"
          ],
          "name": "stdout"
        }
      ]
    },
    {
      "cell_type": "markdown",
      "metadata": {
        "id": "B0qppYIqtF_t"
      },
      "source": [
        "# Для обучения загружаем датасет IMDB Dataset of 50K Movie Reviews"
      ]
    },
    {
      "cell_type": "code",
      "metadata": {
        "id": "m0Ygcu0nX3ww",
        "colab": {
          "base_uri": "https://localhost:8080/"
        },
        "outputId": "f8d5239a-285e-40c7-a62b-639452fa14bc"
      },
      "source": [
        "from google.colab import drive\n",
        "\n",
        "drive.mount('/content/gdrive')\n",
        "\n",
        "!cp gdrive/'My Drive'/'Colab Notebooks'/BERT/'BERT Fine-Tuning Sentence Classification'/'IMDB Dataset.csv' IMDB_Dataset.csv"
      ],
      "execution_count": 3,
      "outputs": [
        {
          "output_type": "stream",
          "text": [
            "Mounted at /content/gdrive\n"
          ],
          "name": "stdout"
        }
      ]
    },
    {
      "cell_type": "code",
      "metadata": {
        "id": "o4_-rr__uYbt"
      },
      "source": [
        "BATCH_SIZE = 64 #8\r\n",
        "MAX_LEN = 1024\r\n",
        "NUM_WORKERS = 4"
      ],
      "execution_count": 4,
      "outputs": []
    },
    {
      "cell_type": "code",
      "metadata": {
        "id": "WWMWJImHtF_u",
        "colab": {
          "base_uri": "https://localhost:8080/",
          "height": 204
        },
        "outputId": "8e455527-abb5-4765-a1bc-a6ca78969cad"
      },
      "source": [
        "import pandas as pd\n",
        "from string import punctuation\n",
        "\n",
        "\n",
        "labels = {\n",
        "    'positive': 1,\n",
        "    'negative': 0\n",
        "}\n",
        "\n",
        "dataset = pd.read_csv(\"./IMDB_Dataset.csv\")\n",
        "\n",
        "dataset['sentiment'] = dataset['sentiment'].apply(lambda x: labels[x])\n",
        "\n",
        "dataset['review'] = dataset['review'].apply(lambda s: \"[CLS] \" + s.strip(punctuation) + \" [SEP]\")\n",
        "dataset = dataset[dataset['review'].str.len() <= MAX_LEN]\n",
        "\n",
        "dataset.head()"
      ],
      "execution_count": 5,
      "outputs": [
        {
          "output_type": "execute_result",
          "data": {
            "text/html": [
              "<div>\n",
              "<style scoped>\n",
              "    .dataframe tbody tr th:only-of-type {\n",
              "        vertical-align: middle;\n",
              "    }\n",
              "\n",
              "    .dataframe tbody tr th {\n",
              "        vertical-align: top;\n",
              "    }\n",
              "\n",
              "    .dataframe thead th {\n",
              "        text-align: right;\n",
              "    }\n",
              "</style>\n",
              "<table border=\"1\" class=\"dataframe\">\n",
              "  <thead>\n",
              "    <tr style=\"text-align: right;\">\n",
              "      <th></th>\n",
              "      <th>review</th>\n",
              "      <th>sentiment</th>\n",
              "    </tr>\n",
              "  </thead>\n",
              "  <tbody>\n",
              "    <tr>\n",
              "      <th>1</th>\n",
              "      <td>[CLS] A wonderful little production. &lt;br /&gt;&lt;br...</td>\n",
              "      <td>1</td>\n",
              "    </tr>\n",
              "    <tr>\n",
              "      <th>2</th>\n",
              "      <td>[CLS] I thought this was a wonderful way to sp...</td>\n",
              "      <td>1</td>\n",
              "    </tr>\n",
              "    <tr>\n",
              "      <th>3</th>\n",
              "      <td>[CLS] Basically there's a family where a littl...</td>\n",
              "      <td>0</td>\n",
              "    </tr>\n",
              "    <tr>\n",
              "      <th>5</th>\n",
              "      <td>[CLS] Probably my all-time favorite movie, a s...</td>\n",
              "      <td>1</td>\n",
              "    </tr>\n",
              "    <tr>\n",
              "      <th>6</th>\n",
              "      <td>[CLS] I sure would like to see a resurrection ...</td>\n",
              "      <td>1</td>\n",
              "    </tr>\n",
              "  </tbody>\n",
              "</table>\n",
              "</div>"
            ],
            "text/plain": [
              "                                              review  sentiment\n",
              "1  [CLS] A wonderful little production. <br /><br...          1\n",
              "2  [CLS] I thought this was a wonderful way to sp...          1\n",
              "3  [CLS] Basically there's a family where a littl...          0\n",
              "5  [CLS] Probably my all-time favorite movie, a s...          1\n",
              "6  [CLS] I sure would like to see a resurrection ...          1"
            ]
          },
          "metadata": {
            "tags": []
          },
          "execution_count": 5
        }
      ]
    },
    {
      "cell_type": "markdown",
      "metadata": {
        "id": "MGpL9Ey4xokm"
      },
      "source": [
        "# Экспериментально пробуем увеличивать процент тестовых данных и посмотрим как будет изменяться точность модели с уменьшением тестовых примеров."
      ]
    },
    {
      "cell_type": "code",
      "metadata": {
        "colab": {
          "base_uri": "https://localhost:8080/"
        },
        "id": "xD2yS0LklBel",
        "outputId": "92b14570-701b-46fb-815f-50e2b2d35612"
      },
      "source": [
        "size_scale = [p/100 for p in range(35, 100, 5)]\r\n",
        "print('Перебирать будем следующие размерности тестовой части:', ', '.join(str(s) for s in size_scale) + '.')"
      ],
      "execution_count": 6,
      "outputs": [
        {
          "output_type": "stream",
          "text": [
            "Перебирать будем следующие размерности тестовой части: 0.35, 0.4, 0.45, 0.5, 0.55, 0.6, 0.65, 0.7, 0.75, 0.8, 0.85, 0.9, 0.95.\n"
          ],
          "name": "stdout"
        }
      ]
    },
    {
      "cell_type": "code",
      "metadata": {
        "id": "xq7bcCVYeEs4",
        "colab": {
          "base_uri": "https://localhost:8080/"
        },
        "outputId": "74ad4e3e-3c72-4d0e-f5a3-4aa68ab42422"
      },
      "source": [
        "from collections import namedtuple\n",
        "\n",
        "graph_data = namedtuple('Data_for_graph', ['test_size', 'accuracy'])\n",
        "graph_list = list()\n",
        "\n",
        "for test_size in size_scale:\n",
        "  labels = list(dataset['sentiment'])\n",
        "  sentences = list(dataset['review'])\n",
        "  \n",
        "  # Здесь мы задаем первоначальное разбиение на тест и трейн, это место мы и изменяем.\n",
        "  train_sentences, test_sentences, train_gt, test_gt = train_test_split(sentences, labels, test_size=test_size)\n",
        "  print(f'\\nРазмер трейна {len(train_sentences)}, теста {len(test_sentences)}')\n",
        "\n",
        "  tokenizer = BertTokenizer.from_pretrained('bert-base-uncased', do_lower_case=True, max_len=MAX_LEN)\n",
        "  tokenized_texts = [tokenizer.tokenize(sent) for sent in train_sentences]\n",
        "\n",
        "  input_ids = [tokenizer.convert_tokens_to_ids(x) for x in tokenized_texts]\n",
        "  input_ids = pad_sequences(\n",
        "      input_ids,\n",
        "      maxlen=100,\n",
        "      dtype=\"long\",\n",
        "#      truncating=\"post\",\n",
        "      padding=\"post\"\n",
        "  )\n",
        "  attention_masks = [[float(i>0) for i in seq] for seq in input_ids]\n",
        "\n",
        "  train_inputs, validation_inputs, train_labels, validation_labels = train_test_split(\n",
        "      input_ids, train_gt, \n",
        "      random_state=42,\n",
        "      test_size=0.1\n",
        "  )\n",
        "\n",
        "  train_masks, validation_masks, _, _ = train_test_split(\n",
        "      attention_masks, input_ids,\n",
        "      random_state=42,\n",
        "      test_size=0.1\n",
        "  )\n",
        "\n",
        "  train_inputs = torch.tensor(train_inputs)\n",
        "  train_labels = torch.tensor(train_labels)\n",
        "  train_masks = torch.tensor(train_masks)\n",
        "\n",
        "  validation_inputs = torch.tensor(validation_inputs)\n",
        "  validation_labels = torch.tensor(validation_labels)\n",
        "  validation_masks = torch.tensor(validation_masks)\n",
        "\n",
        "  train_data = TensorDataset(train_inputs, train_masks, train_labels)\n",
        "  train_dataloader = DataLoader(\n",
        "      train_data,\n",
        "      sampler=RandomSampler(train_data),\n",
        "      batch_size=BATCH_SIZE\n",
        "  )\n",
        "\n",
        "  validation_data = TensorDataset(validation_inputs, validation_masks, validation_labels)\n",
        "  validation_dataloader = DataLoader(\n",
        "      validation_data,\n",
        "      sampler=SequentialSampler(validation_data),\n",
        "      batch_size=BATCH_SIZE\n",
        "  )\n",
        "\n",
        "  # Моделька\n",
        "  model = BertForSequenceClassification.from_pretrained(\"bert-base-uncased\", num_labels=2)\n",
        "  model.cuda()\n",
        "\n",
        "  param_optimizer = list(model.named_parameters())\n",
        "  no_decay = ['bias', 'gamma', 'beta']\n",
        "  optimizer_grouped_parameters = [\n",
        "      {'params': [p for n, p in param_optimizer if not any(nd in n for nd in no_decay)],\n",
        "      'weight_decay_rate': 0.01},\n",
        "      {'params': [p for n, p in param_optimizer if any(nd in n for nd in no_decay)],\n",
        "      'weight_decay_rate': 0.0}\n",
        "  ]\n",
        "  optimizer = AdamW(optimizer_grouped_parameters, lr=2e-5)\n",
        "\n",
        "  # Обучение\n",
        "  model.train()\n",
        "  train_loss = 0\n",
        "  for step, batch in enumerate(tqdm(train_dataloader)):\n",
        "      batch = tuple(t.to(device) for t in batch)\n",
        "      b_input_ids, b_input_mask, b_labels = batch\n",
        "      \n",
        "      optimizer.zero_grad()     \n",
        "      loss = model(b_input_ids, token_type_ids=None, attention_mask=b_input_mask, labels=b_labels)\n",
        "      loss = loss[0]\n",
        "      loss.backward()\n",
        "      optimizer.step()\n",
        "\n",
        "      train_loss += loss.item()\n",
        "\n",
        "  del b_input_ids, b_input_mask, b_labels, batch\n",
        "#  print(\"Loss на обучающей выборке: {0:.5f}\".format(train_loss / len(train_dataloader)))\n",
        "\n",
        "  # Валидация\n",
        "  model.eval()\n",
        "  valid_preds, valid_labels = [], []\n",
        "  for batch in validation_dataloader:   \n",
        "      batch = tuple(t.to(device) for t in batch)\n",
        "      \n",
        "      b_input_ids, b_input_mask, b_labels = batch\n",
        "      with torch.no_grad():\n",
        "          logits = model(b_input_ids, token_type_ids=None, attention_mask=b_input_mask)\n",
        "\n",
        "      logits = logits[0].detach().cpu().numpy()\n",
        "      label_ids = b_labels.to('cpu').numpy()\n",
        "      \n",
        "      batch_preds = np.argmax(logits, axis=1)\n",
        "      batch_labels = label_ids\n",
        "      valid_preds.extend(batch_preds)\n",
        "      valid_labels.extend(batch_labels)\n",
        "  del b_input_ids, b_input_mask, b_labels, batch\n",
        "\n",
        "  accuracy = accuracy_score(valid_labels, valid_preds) * 100\n",
        "  train_size = 1 - test_size\n",
        "  print(f\"Процент правильных предсказаний при обучении на размере {train_size:.2f}: {accuracy:.2f}%\")\n",
        "  graph_list.append(graph_data(train_size, accuracy))\n",
        "  model.to('cpu')"
      ],
      "execution_count": 7,
      "outputs": [
        {
          "output_type": "stream",
          "text": [
            "\n",
            "Размер трейна 17154, теста 9238\n"
          ],
          "name": "stdout"
        },
        {
          "output_type": "stream",
          "text": [
            "100%|██████████| 231508/231508 [00:00<00:00, 697829.38B/s]\n",
            "100%|██████████| 433/433 [00:00<00:00, 113494.17B/s]\n",
            "100%|██████████| 440473133/440473133 [00:16<00:00, 27087163.86B/s]\n",
            "  0%|          | 0/242 [00:00<?, ?it/s]/usr/local/lib/python3.6/dist-packages/pytorch_transformers/optimization.py:166: UserWarning: This overload of add_ is deprecated:\n",
            "\tadd_(Number alpha, Tensor other)\n",
            "Consider using one of the following signatures instead:\n",
            "\tadd_(Tensor other, *, Number alpha) (Triggered internally at  /pytorch/torch/csrc/utils/python_arg_parser.cpp:882.)\n",
            "  exp_avg.mul_(beta1).add_(1.0 - beta1, grad)\n",
            "100%|██████████| 242/242 [02:35<00:00,  1.56it/s]\n"
          ],
          "name": "stderr"
        },
        {
          "output_type": "stream",
          "text": [
            "Процент правильных предсказаний при обучении на размере 0.65: 91.14%\n",
            "\n",
            "Размер трейна 15835, теста 10557\n"
          ],
          "name": "stdout"
        },
        {
          "output_type": "stream",
          "text": [
            "100%|██████████| 223/223 [02:23<00:00,  1.56it/s]\n"
          ],
          "name": "stderr"
        },
        {
          "output_type": "stream",
          "text": [
            "Процент правильных предсказаний при обучении на размере 0.60: 90.40%\n",
            "\n",
            "Размер трейна 14515, теста 11877\n"
          ],
          "name": "stdout"
        },
        {
          "output_type": "stream",
          "text": [
            "100%|██████████| 205/205 [02:11<00:00,  1.56it/s]\n"
          ],
          "name": "stderr"
        },
        {
          "output_type": "stream",
          "text": [
            "Процент правильных предсказаний при обучении на размере 0.55: 88.15%\n",
            "\n",
            "Размер трейна 13196, теста 13196\n"
          ],
          "name": "stdout"
        },
        {
          "output_type": "stream",
          "text": [
            "100%|██████████| 186/186 [01:59<00:00,  1.56it/s]\n"
          ],
          "name": "stderr"
        },
        {
          "output_type": "stream",
          "text": [
            "Процент правильных предсказаний при обучении на размере 0.50: 89.24%\n",
            "\n",
            "Размер трейна 11876, теста 14516\n"
          ],
          "name": "stdout"
        },
        {
          "output_type": "stream",
          "text": [
            "100%|██████████| 167/167 [01:47<00:00,  1.56it/s]\n"
          ],
          "name": "stderr"
        },
        {
          "output_type": "stream",
          "text": [
            "Процент правильных предсказаний при обучении на размере 0.45: 89.31%\n",
            "\n",
            "Размер трейна 10556, теста 15836\n"
          ],
          "name": "stdout"
        },
        {
          "output_type": "stream",
          "text": [
            "100%|██████████| 149/149 [01:35<00:00,  1.56it/s]\n"
          ],
          "name": "stderr"
        },
        {
          "output_type": "stream",
          "text": [
            "Процент правильных предсказаний при обучении на размере 0.40: 88.26%\n",
            "\n",
            "Размер трейна 9237, теста 17155\n"
          ],
          "name": "stdout"
        },
        {
          "output_type": "stream",
          "text": [
            "100%|██████████| 130/130 [01:23<00:00,  1.56it/s]\n"
          ],
          "name": "stderr"
        },
        {
          "output_type": "stream",
          "text": [
            "Процент правильных предсказаний при обучении на размере 0.35: 89.72%\n",
            "\n",
            "Размер трейна 7917, теста 18475\n"
          ],
          "name": "stdout"
        },
        {
          "output_type": "stream",
          "text": [
            "100%|██████████| 112/112 [01:11<00:00,  1.56it/s]\n"
          ],
          "name": "stderr"
        },
        {
          "output_type": "stream",
          "text": [
            "Процент правильных предсказаний при обучении на размере 0.30: 88.38%\n",
            "\n",
            "Размер трейна 6598, теста 19794\n"
          ],
          "name": "stdout"
        },
        {
          "output_type": "stream",
          "text": [
            "100%|██████████| 93/93 [00:59<00:00,  1.56it/s]\n"
          ],
          "name": "stderr"
        },
        {
          "output_type": "stream",
          "text": [
            "Процент правильных предсказаний при обучении на размере 0.25: 89.70%\n",
            "\n",
            "Размер трейна 5278, теста 21114\n"
          ],
          "name": "stdout"
        },
        {
          "output_type": "stream",
          "text": [
            "100%|██████████| 75/75 [00:47<00:00,  1.57it/s]\n"
          ],
          "name": "stderr"
        },
        {
          "output_type": "stream",
          "text": [
            "Процент правильных предсказаний при обучении на размере 0.20: 88.45%\n",
            "\n",
            "Размер трейна 3958, теста 22434\n"
          ],
          "name": "stdout"
        },
        {
          "output_type": "stream",
          "text": [
            "100%|██████████| 56/56 [00:35<00:00,  1.56it/s]\n"
          ],
          "name": "stderr"
        },
        {
          "output_type": "stream",
          "text": [
            "Процент правильных предсказаний при обучении на размере 0.15: 88.13%\n",
            "\n",
            "Размер трейна 2639, теста 23753\n"
          ],
          "name": "stdout"
        },
        {
          "output_type": "stream",
          "text": [
            "100%|██████████| 38/38 [00:23<00:00,  1.59it/s]\n"
          ],
          "name": "stderr"
        },
        {
          "output_type": "stream",
          "text": [
            "Процент правильных предсказаний при обучении на размере 0.10: 79.17%\n",
            "\n",
            "Размер трейна 1319, теста 25073\n"
          ],
          "name": "stdout"
        },
        {
          "output_type": "stream",
          "text": [
            "100%|██████████| 19/19 [00:11<00:00,  1.59it/s]\n"
          ],
          "name": "stderr"
        },
        {
          "output_type": "stream",
          "text": [
            "Процент правильных предсказаний при обучении на размере 0.05: 77.27%\n"
          ],
          "name": "stdout"
        }
      ]
    },
    {
      "cell_type": "code",
      "metadata": {
        "id": "zWXMvavx0iek",
        "colab": {
          "base_uri": "https://localhost:8080/",
          "height": 295
        },
        "outputId": "9224039f-c85b-436e-b245-bd4f37918524"
      },
      "source": [
        "scores = [g.accuracy for g in graph_list]\r\n",
        "sizes = [g.test_size for g in graph_list]\r\n",
        "\r\n",
        "plt.plot(sizes, scores)\r\n",
        "plt.title('Изменение скора')\r\n",
        "plt.xlabel('Процент тренировочной выборки')\r\n",
        "plt.ylabel('Точность модели')\r\n",
        "plt.show()"
      ],
      "execution_count": 8,
      "outputs": [
        {
          "output_type": "display_data",
          "data": {
            "image/png": "[encoded data removed]",
            "text/plain": [
              "<Figure size 432x288 with 1 Axes>"
            ]
          },
          "metadata": {
            "tags": [],
            "needs_background": "light"
          }
        }
      ]
    },
    {
      "cell_type": "code",
      "metadata": {
        "colab": {
          "base_uri": "https://localhost:8080/",
          "height": 295
        },
        "id": "F6FNpwkIx4fk",
        "outputId": "b3fd4435-4a8f-4e63-ecbc-c3394cf2bc9d"
      },
      "source": [
        "scores = [g.accuracy for g in graph_list]\r\n",
        "sizes = [g.test_size*100 for g in graph_list]\r\n",
        "\r\n",
        "plt.plot(sizes, scores)\r\n",
        "plt.title('Изменение скора')\r\n",
        "plt.xlabel('Тренировочная выборка, %')\r\n",
        "plt.ylabel('Точность модели, %')\r\n",
        "plt.show()"
      ],
      "execution_count": 10,
      "outputs": [
        {
          "output_type": "display_data",
          "data": {
            "image/png": "[encoded data removed]",
            "text/plain": [
              "<Figure size 432x288 with 1 Axes>"
            ]
          },
          "metadata": {
            "tags": [],
            "needs_background": "light"
          }
        }
      ]
    },
    {
      "cell_type": "markdown",
      "metadata": {
        "id": "TEcpAksCxzZM"
      },
      "source": [
        "Как мы видим в общем точность колеблется примерно на одном уровне, хотя чем больше данных тем выше конечная точность. А резкое падение начинается с размером менее 30 процентов от исходных данных"
      ]
    }
  ]
}